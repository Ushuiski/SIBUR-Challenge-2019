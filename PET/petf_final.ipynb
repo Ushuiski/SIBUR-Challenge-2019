{
 "cells": [
  {
   "cell_type": "markdown",
   "metadata": {},
   "source": [
    "\n",
    "# Прогноз цены на ПЭТФ\n",
    "Еще один  важный продукт компании СИБУР - полиэтилентерефталат или ПЭТФ, который вы все хорошо знаете по “пластиковым” бутылкам. Крупнейшим потребителем ПЭТФ является Китай, поэтому компании СИБУР важно иметь надежный прогноз котировок ПЭТФ в Китае. Именно их вам предстоит предсказывать в этой задаче.\n",
    "\n",
    "Данные\n",
    "Как и в задаче о прогнозировании котировок натурального каучука, вам будут доступны исторические данные котировок смежных продуктов, нефти и курсы валют. Целевой переменной является средняя месячная котировка ПЭТФ в Китае, при этом прогноз должен строиться на основании данных, доступных до 10-го числа предыдущего месяца. Точный набор дат, для которых необходимо построить прогноз, находится в файле pet_test_timestamps.csv.\n",
    "\n",
    "Крупнейшим потребителем ПЭТФ является Китай, поэтому курс юаня, как и случае с натуральным каучуком, может влиять на долларовую цену ПЭТФ.\n",
    "\n",
    "Исторический дневной курс (цена открытия, закрытия, максимальная и минимальная) юаня и цены на нефть содержатся в файле pet_daily.csv, а недельные котировки смежных продуктов и продуктов предыдущих переделов на разных рынках - в файле pet_weekly.csv. Целевая переменная для тренировочного периода (с июня 2004 по декабрь 2015) доступна в файле pet_target_train.csv.\n",
    "\n",
    "Базовое решение\n",
    "Простой линейный baseline доступен в ноутбуке Baseline - Pet.ipynb. Он воспроизводит тривиальное решение pet_naive_baseline.csv (последнее известное значение тренировочного периода) и создает решение на основе простой линейной модели."
   ]
  },
  {
   "cell_type": "markdown",
   "metadata": {},
   "source": [
    "### Уважаемые организаторы! Данный ноутбук можно проверять на обычном ПК - время выполнения кода около 3 минут."
   ]
  },
  {
   "cell_type": "code",
   "execution_count": 189,
   "metadata": {},
   "outputs": [],
   "source": [
    "import numpy as np\n",
    "\n",
    "import pandas as pd\n",
    "\n",
    "import seaborn as sns\n",
    "\n",
    "from sklearn import linear_model, metrics\n",
    "from sklearn.preprocessing import StandardScaler\n",
    "from sklearn.model_selection import train_test_split, KFold, TimeSeriesSplit, \\\n",
    "                                    cross_val_score, GridSearchCV, RandomizedSearchCV\n",
    "\n",
    "from sklearn.ensemble import GradientBoostingRegressor\n",
    "\n",
    "import matplotlib.pyplot as plt\n",
    "import matplotlib.dates as mdates\n",
    "import matplotlib.cbook as cbook\n",
    "%matplotlib inline"
   ]
  },
  {
   "cell_type": "code",
   "execution_count": 190,
   "metadata": {},
   "outputs": [],
   "source": [
    "import warnings\n",
    "warnings.filterwarnings('ignore')"
   ]
  },
  {
   "cell_type": "code",
   "execution_count": 191,
   "metadata": {},
   "outputs": [],
   "source": [
    "data = pd.read_csv('pet_daily.csv', header = 0, sep = ',')\n",
    "data1 = pd.read_csv('pet_weekly.csv', header = 0, sep = ',')\n",
    "test_target = pd.read_csv('pet_test_timestamps.csv', header = 0, sep = ',')\n",
    "train_target = pd.read_csv('pet_target_train.csv', header = 0, sep = ',')"
   ]
  },
  {
   "cell_type": "code",
   "execution_count": 192,
   "metadata": {
    "scrolled": true
   },
   "outputs": [
    {
     "data": {
      "text/html": [
       "<div>\n",
       "<style scoped>\n",
       "    .dataframe tbody tr th:only-of-type {\n",
       "        vertical-align: middle;\n",
       "    }\n",
       "\n",
       "    .dataframe tbody tr th {\n",
       "        vertical-align: top;\n",
       "    }\n",
       "\n",
       "    .dataframe thead th {\n",
       "        text-align: right;\n",
       "    }\n",
       "</style>\n",
       "<table border=\"1\" class=\"dataframe\">\n",
       "  <thead>\n",
       "    <tr style=\"text-align: right;\">\n",
       "      <th></th>\n",
       "      <th>date</th>\n",
       "      <th>brent_close</th>\n",
       "      <th>brent_open</th>\n",
       "      <th>brent_max</th>\n",
       "      <th>brent_min</th>\n",
       "      <th>USDCNY_close</th>\n",
       "      <th>USDCNY_open</th>\n",
       "      <th>USDCNY_max</th>\n",
       "      <th>USDCNY_min</th>\n",
       "    </tr>\n",
       "  </thead>\n",
       "  <tbody>\n",
       "    <tr>\n",
       "      <td>0</td>\n",
       "      <td>2002-07-01</td>\n",
       "      <td>25.64</td>\n",
       "      <td>25.50</td>\n",
       "      <td>25.72</td>\n",
       "      <td>25.39</td>\n",
       "      <td>8.2770</td>\n",
       "      <td>8.2770</td>\n",
       "      <td>8.2770</td>\n",
       "      <td>8.2770</td>\n",
       "    </tr>\n",
       "    <tr>\n",
       "      <td>1</td>\n",
       "      <td>2002-07-02</td>\n",
       "      <td>25.75</td>\n",
       "      <td>25.61</td>\n",
       "      <td>25.97</td>\n",
       "      <td>25.60</td>\n",
       "      <td>8.2769</td>\n",
       "      <td>8.2769</td>\n",
       "      <td>8.2769</td>\n",
       "      <td>8.2769</td>\n",
       "    </tr>\n",
       "    <tr>\n",
       "      <td>2</td>\n",
       "      <td>2002-07-03</td>\n",
       "      <td>25.84</td>\n",
       "      <td>25.73</td>\n",
       "      <td>25.96</td>\n",
       "      <td>25.52</td>\n",
       "      <td>8.2768</td>\n",
       "      <td>8.2768</td>\n",
       "      <td>8.2768</td>\n",
       "      <td>8.2768</td>\n",
       "    </tr>\n",
       "    <tr>\n",
       "      <td>3</td>\n",
       "      <td>2002-07-04</td>\n",
       "      <td>25.55</td>\n",
       "      <td>25.88</td>\n",
       "      <td>25.94</td>\n",
       "      <td>25.50</td>\n",
       "      <td>8.2767</td>\n",
       "      <td>8.2767</td>\n",
       "      <td>8.2767</td>\n",
       "      <td>8.2767</td>\n",
       "    </tr>\n",
       "    <tr>\n",
       "      <td>4</td>\n",
       "      <td>2002-07-05</td>\n",
       "      <td>25.73</td>\n",
       "      <td>25.65</td>\n",
       "      <td>25.75</td>\n",
       "      <td>25.42</td>\n",
       "      <td>8.2766</td>\n",
       "      <td>8.2766</td>\n",
       "      <td>8.2766</td>\n",
       "      <td>8.2766</td>\n",
       "    </tr>\n",
       "    <tr>\n",
       "      <td>...</td>\n",
       "      <td>...</td>\n",
       "      <td>...</td>\n",
       "      <td>...</td>\n",
       "      <td>...</td>\n",
       "      <td>...</td>\n",
       "      <td>...</td>\n",
       "      <td>...</td>\n",
       "      <td>...</td>\n",
       "      <td>...</td>\n",
       "    </tr>\n",
       "    <tr>\n",
       "      <td>4215</td>\n",
       "      <td>2019-06-21</td>\n",
       "      <td>65.20</td>\n",
       "      <td>64.86</td>\n",
       "      <td>65.76</td>\n",
       "      <td>64.00</td>\n",
       "      <td>6.8700</td>\n",
       "      <td>6.8524</td>\n",
       "      <td>6.8793</td>\n",
       "      <td>6.8336</td>\n",
       "    </tr>\n",
       "    <tr>\n",
       "      <td>4216</td>\n",
       "      <td>2019-06-24</td>\n",
       "      <td>64.86</td>\n",
       "      <td>65.50</td>\n",
       "      <td>65.79</td>\n",
       "      <td>64.08</td>\n",
       "      <td>6.8770</td>\n",
       "      <td>6.8736</td>\n",
       "      <td>6.8873</td>\n",
       "      <td>6.8700</td>\n",
       "    </tr>\n",
       "    <tr>\n",
       "      <td>4217</td>\n",
       "      <td>2019-06-25</td>\n",
       "      <td>65.05</td>\n",
       "      <td>64.89</td>\n",
       "      <td>65.98</td>\n",
       "      <td>64.17</td>\n",
       "      <td>6.8798</td>\n",
       "      <td>6.8715</td>\n",
       "      <td>6.8851</td>\n",
       "      <td>6.8655</td>\n",
       "    </tr>\n",
       "    <tr>\n",
       "      <td>4218</td>\n",
       "      <td>2019-06-26</td>\n",
       "      <td>66.49</td>\n",
       "      <td>65.80</td>\n",
       "      <td>66.85</td>\n",
       "      <td>65.60</td>\n",
       "      <td>6.8800</td>\n",
       "      <td>6.8876</td>\n",
       "      <td>6.8937</td>\n",
       "      <td>6.8658</td>\n",
       "    </tr>\n",
       "    <tr>\n",
       "      <td>4219</td>\n",
       "      <td>2019-06-27</td>\n",
       "      <td>66.55</td>\n",
       "      <td>66.05</td>\n",
       "      <td>66.82</td>\n",
       "      <td>65.63</td>\n",
       "      <td>6.8771</td>\n",
       "      <td>6.8785</td>\n",
       "      <td>6.8846</td>\n",
       "      <td>6.8738</td>\n",
       "    </tr>\n",
       "  </tbody>\n",
       "</table>\n",
       "<p>4220 rows × 9 columns</p>\n",
       "</div>"
      ],
      "text/plain": [
       "            date  brent_close  brent_open  brent_max  brent_min  USDCNY_close  \\\n",
       "0     2002-07-01        25.64       25.50      25.72      25.39        8.2770   \n",
       "1     2002-07-02        25.75       25.61      25.97      25.60        8.2769   \n",
       "2     2002-07-03        25.84       25.73      25.96      25.52        8.2768   \n",
       "3     2002-07-04        25.55       25.88      25.94      25.50        8.2767   \n",
       "4     2002-07-05        25.73       25.65      25.75      25.42        8.2766   \n",
       "...          ...          ...         ...        ...        ...           ...   \n",
       "4215  2019-06-21        65.20       64.86      65.76      64.00        6.8700   \n",
       "4216  2019-06-24        64.86       65.50      65.79      64.08        6.8770   \n",
       "4217  2019-06-25        65.05       64.89      65.98      64.17        6.8798   \n",
       "4218  2019-06-26        66.49       65.80      66.85      65.60        6.8800   \n",
       "4219  2019-06-27        66.55       66.05      66.82      65.63        6.8771   \n",
       "\n",
       "      USDCNY_open  USDCNY_max  USDCNY_min  \n",
       "0          8.2770      8.2770      8.2770  \n",
       "1          8.2769      8.2769      8.2769  \n",
       "2          8.2768      8.2768      8.2768  \n",
       "3          8.2767      8.2767      8.2767  \n",
       "4          8.2766      8.2766      8.2766  \n",
       "...           ...         ...         ...  \n",
       "4215       6.8524      6.8793      6.8336  \n",
       "4216       6.8736      6.8873      6.8700  \n",
       "4217       6.8715      6.8851      6.8655  \n",
       "4218       6.8876      6.8937      6.8658  \n",
       "4219       6.8785      6.8846      6.8738  \n",
       "\n",
       "[4220 rows x 9 columns]"
      ]
     },
     "execution_count": 192,
     "metadata": {},
     "output_type": "execute_result"
    }
   ],
   "source": [
    "data.head(-1)"
   ]
  },
  {
   "cell_type": "code",
   "execution_count": 193,
   "metadata": {},
   "outputs": [
    {
     "data": {
      "text/html": [
       "<div>\n",
       "<style scoped>\n",
       "    .dataframe tbody tr th:only-of-type {\n",
       "        vertical-align: middle;\n",
       "    }\n",
       "\n",
       "    .dataframe tbody tr th {\n",
       "        vertical-align: top;\n",
       "    }\n",
       "\n",
       "    .dataframe thead th {\n",
       "        text-align: right;\n",
       "    }\n",
       "</style>\n",
       "<table border=\"1\" class=\"dataframe\">\n",
       "  <thead>\n",
       "    <tr style=\"text-align: right;\">\n",
       "      <th></th>\n",
       "      <th>date</th>\n",
       "      <th>paraxylene_CHN_USD</th>\n",
       "      <th>paraxylene_RT_USD</th>\n",
       "      <th>paraxylene_SEA_USD</th>\n",
       "      <th>pta_NEA_USD</th>\n",
       "      <th>ethylene_glycol_EU_EUR</th>\n",
       "      <th>ethylene_glycol_CHN_USD</th>\n",
       "    </tr>\n",
       "  </thead>\n",
       "  <tbody>\n",
       "    <tr>\n",
       "      <td>0</td>\n",
       "      <td>2004-04-30</td>\n",
       "      <td>NaN</td>\n",
       "      <td>669.0</td>\n",
       "      <td>735.0</td>\n",
       "      <td>NaN</td>\n",
       "      <td>622.5</td>\n",
       "      <td>860.0</td>\n",
       "    </tr>\n",
       "    <tr>\n",
       "      <td>1</td>\n",
       "      <td>2004-05-07</td>\n",
       "      <td>NaN</td>\n",
       "      <td>680.0</td>\n",
       "      <td>730.0</td>\n",
       "      <td>NaN</td>\n",
       "      <td>650.0</td>\n",
       "      <td>860.0</td>\n",
       "    </tr>\n",
       "    <tr>\n",
       "      <td>2</td>\n",
       "      <td>2004-05-14</td>\n",
       "      <td>NaN</td>\n",
       "      <td>664.0</td>\n",
       "      <td>720.0</td>\n",
       "      <td>NaN</td>\n",
       "      <td>650.0</td>\n",
       "      <td>857.5</td>\n",
       "    </tr>\n",
       "    <tr>\n",
       "      <td>3</td>\n",
       "      <td>2004-05-21</td>\n",
       "      <td>NaN</td>\n",
       "      <td>657.0</td>\n",
       "      <td>722.5</td>\n",
       "      <td>NaN</td>\n",
       "      <td>650.0</td>\n",
       "      <td>852.5</td>\n",
       "    </tr>\n",
       "    <tr>\n",
       "      <td>4</td>\n",
       "      <td>2004-05-28</td>\n",
       "      <td>NaN</td>\n",
       "      <td>667.5</td>\n",
       "      <td>735.0</td>\n",
       "      <td>NaN</td>\n",
       "      <td>650.0</td>\n",
       "      <td>857.5</td>\n",
       "    </tr>\n",
       "    <tr>\n",
       "      <td>...</td>\n",
       "      <td>...</td>\n",
       "      <td>...</td>\n",
       "      <td>...</td>\n",
       "      <td>...</td>\n",
       "      <td>...</td>\n",
       "      <td>...</td>\n",
       "      <td>...</td>\n",
       "    </tr>\n",
       "    <tr>\n",
       "      <td>793</td>\n",
       "      <td>2019-07-12</td>\n",
       "      <td>885.0</td>\n",
       "      <td>780.0</td>\n",
       "      <td>875.0</td>\n",
       "      <td>766.5</td>\n",
       "      <td>500.0</td>\n",
       "      <td>528.5</td>\n",
       "    </tr>\n",
       "    <tr>\n",
       "      <td>794</td>\n",
       "      <td>2019-07-19</td>\n",
       "      <td>853.0</td>\n",
       "      <td>760.0</td>\n",
       "      <td>843.0</td>\n",
       "      <td>748.5</td>\n",
       "      <td>490.0</td>\n",
       "      <td>532.5</td>\n",
       "    </tr>\n",
       "    <tr>\n",
       "      <td>795</td>\n",
       "      <td>2019-07-26</td>\n",
       "      <td>848.0</td>\n",
       "      <td>750.0</td>\n",
       "      <td>838.0</td>\n",
       "      <td>714.5</td>\n",
       "      <td>480.0</td>\n",
       "      <td>541.5</td>\n",
       "    </tr>\n",
       "    <tr>\n",
       "      <td>796</td>\n",
       "      <td>2019-08-02</td>\n",
       "      <td>819.0</td>\n",
       "      <td>745.0</td>\n",
       "      <td>809.0</td>\n",
       "      <td>701.5</td>\n",
       "      <td>475.0</td>\n",
       "      <td>547.5</td>\n",
       "    </tr>\n",
       "    <tr>\n",
       "      <td>797</td>\n",
       "      <td>2019-08-09</td>\n",
       "      <td>794.0</td>\n",
       "      <td>700.0</td>\n",
       "      <td>784.0</td>\n",
       "      <td>677.0</td>\n",
       "      <td>465.0</td>\n",
       "      <td>517.5</td>\n",
       "    </tr>\n",
       "  </tbody>\n",
       "</table>\n",
       "<p>798 rows × 7 columns</p>\n",
       "</div>"
      ],
      "text/plain": [
       "           date  paraxylene_CHN_USD  paraxylene_RT_USD  paraxylene_SEA_USD  \\\n",
       "0    2004-04-30                 NaN              669.0               735.0   \n",
       "1    2004-05-07                 NaN              680.0               730.0   \n",
       "2    2004-05-14                 NaN              664.0               720.0   \n",
       "3    2004-05-21                 NaN              657.0               722.5   \n",
       "4    2004-05-28                 NaN              667.5               735.0   \n",
       "..          ...                 ...                ...                 ...   \n",
       "793  2019-07-12               885.0              780.0               875.0   \n",
       "794  2019-07-19               853.0              760.0               843.0   \n",
       "795  2019-07-26               848.0              750.0               838.0   \n",
       "796  2019-08-02               819.0              745.0               809.0   \n",
       "797  2019-08-09               794.0              700.0               784.0   \n",
       "\n",
       "     pta_NEA_USD  ethylene_glycol_EU_EUR  ethylene_glycol_CHN_USD  \n",
       "0            NaN                   622.5                    860.0  \n",
       "1            NaN                   650.0                    860.0  \n",
       "2            NaN                   650.0                    857.5  \n",
       "3            NaN                   650.0                    852.5  \n",
       "4            NaN                   650.0                    857.5  \n",
       "..           ...                     ...                      ...  \n",
       "793        766.5                   500.0                    528.5  \n",
       "794        748.5                   490.0                    532.5  \n",
       "795        714.5                   480.0                    541.5  \n",
       "796        701.5                   475.0                    547.5  \n",
       "797        677.0                   465.0                    517.5  \n",
       "\n",
       "[798 rows x 7 columns]"
      ]
     },
     "execution_count": 193,
     "metadata": {},
     "output_type": "execute_result"
    }
   ],
   "source": [
    "data1.head(-1)"
   ]
  },
  {
   "cell_type": "code",
   "execution_count": 194,
   "metadata": {},
   "outputs": [
    {
     "data": {
      "text/html": [
       "<div>\n",
       "<style scoped>\n",
       "    .dataframe tbody tr th:only-of-type {\n",
       "        vertical-align: middle;\n",
       "    }\n",
       "\n",
       "    .dataframe tbody tr th {\n",
       "        vertical-align: top;\n",
       "    }\n",
       "\n",
       "    .dataframe thead th {\n",
       "        text-align: right;\n",
       "    }\n",
       "</style>\n",
       "<table border=\"1\" class=\"dataframe\">\n",
       "  <thead>\n",
       "    <tr style=\"text-align: right;\">\n",
       "      <th></th>\n",
       "      <th>brent_close</th>\n",
       "      <th>brent_open</th>\n",
       "      <th>brent_max</th>\n",
       "      <th>brent_min</th>\n",
       "      <th>USDCNY_close</th>\n",
       "      <th>USDCNY_open</th>\n",
       "      <th>USDCNY_max</th>\n",
       "      <th>USDCNY_min</th>\n",
       "    </tr>\n",
       "  </thead>\n",
       "  <tbody>\n",
       "    <tr>\n",
       "      <td>brent_close</td>\n",
       "      <td>1.000000</td>\n",
       "      <td>0.998912</td>\n",
       "      <td>0.999474</td>\n",
       "      <td>0.999573</td>\n",
       "      <td>-0.623703</td>\n",
       "      <td>-0.623357</td>\n",
       "      <td>-0.624026</td>\n",
       "      <td>-0.623054</td>\n",
       "    </tr>\n",
       "    <tr>\n",
       "      <td>brent_open</td>\n",
       "      <td>0.998912</td>\n",
       "      <td>1.000000</td>\n",
       "      <td>0.999537</td>\n",
       "      <td>0.999434</td>\n",
       "      <td>-0.624478</td>\n",
       "      <td>-0.624166</td>\n",
       "      <td>-0.624816</td>\n",
       "      <td>-0.623849</td>\n",
       "    </tr>\n",
       "    <tr>\n",
       "      <td>brent_max</td>\n",
       "      <td>0.999474</td>\n",
       "      <td>0.999537</td>\n",
       "      <td>1.000000</td>\n",
       "      <td>0.999313</td>\n",
       "      <td>-0.624896</td>\n",
       "      <td>-0.624566</td>\n",
       "      <td>-0.625216</td>\n",
       "      <td>-0.624262</td>\n",
       "    </tr>\n",
       "    <tr>\n",
       "      <td>brent_min</td>\n",
       "      <td>0.999573</td>\n",
       "      <td>0.999434</td>\n",
       "      <td>0.999313</td>\n",
       "      <td>1.000000</td>\n",
       "      <td>-0.623315</td>\n",
       "      <td>-0.622976</td>\n",
       "      <td>-0.623648</td>\n",
       "      <td>-0.622667</td>\n",
       "    </tr>\n",
       "    <tr>\n",
       "      <td>USDCNY_close</td>\n",
       "      <td>-0.623703</td>\n",
       "      <td>-0.624478</td>\n",
       "      <td>-0.624896</td>\n",
       "      <td>-0.623315</td>\n",
       "      <td>1.000000</td>\n",
       "      <td>0.999940</td>\n",
       "      <td>0.999964</td>\n",
       "      <td>0.999969</td>\n",
       "    </tr>\n",
       "    <tr>\n",
       "      <td>USDCNY_open</td>\n",
       "      <td>-0.623357</td>\n",
       "      <td>-0.624166</td>\n",
       "      <td>-0.624566</td>\n",
       "      <td>-0.622976</td>\n",
       "      <td>0.999940</td>\n",
       "      <td>1.000000</td>\n",
       "      <td>0.999962</td>\n",
       "      <td>0.999965</td>\n",
       "    </tr>\n",
       "    <tr>\n",
       "      <td>USDCNY_max</td>\n",
       "      <td>-0.624026</td>\n",
       "      <td>-0.624816</td>\n",
       "      <td>-0.625216</td>\n",
       "      <td>-0.623648</td>\n",
       "      <td>0.999964</td>\n",
       "      <td>0.999962</td>\n",
       "      <td>1.000000</td>\n",
       "      <td>0.999935</td>\n",
       "    </tr>\n",
       "    <tr>\n",
       "      <td>USDCNY_min</td>\n",
       "      <td>-0.623054</td>\n",
       "      <td>-0.623849</td>\n",
       "      <td>-0.624262</td>\n",
       "      <td>-0.622667</td>\n",
       "      <td>0.999969</td>\n",
       "      <td>0.999965</td>\n",
       "      <td>0.999935</td>\n",
       "      <td>1.000000</td>\n",
       "    </tr>\n",
       "  </tbody>\n",
       "</table>\n",
       "</div>"
      ],
      "text/plain": [
       "              brent_close  brent_open  brent_max  brent_min  USDCNY_close  \\\n",
       "brent_close      1.000000    0.998912   0.999474   0.999573     -0.623703   \n",
       "brent_open       0.998912    1.000000   0.999537   0.999434     -0.624478   \n",
       "brent_max        0.999474    0.999537   1.000000   0.999313     -0.624896   \n",
       "brent_min        0.999573    0.999434   0.999313   1.000000     -0.623315   \n",
       "USDCNY_close    -0.623703   -0.624478  -0.624896  -0.623315      1.000000   \n",
       "USDCNY_open     -0.623357   -0.624166  -0.624566  -0.622976      0.999940   \n",
       "USDCNY_max      -0.624026   -0.624816  -0.625216  -0.623648      0.999964   \n",
       "USDCNY_min      -0.623054   -0.623849  -0.624262  -0.622667      0.999969   \n",
       "\n",
       "              USDCNY_open  USDCNY_max  USDCNY_min  \n",
       "brent_close     -0.623357   -0.624026   -0.623054  \n",
       "brent_open      -0.624166   -0.624816   -0.623849  \n",
       "brent_max       -0.624566   -0.625216   -0.624262  \n",
       "brent_min       -0.622976   -0.623648   -0.622667  \n",
       "USDCNY_close     0.999940    0.999964    0.999969  \n",
       "USDCNY_open      1.000000    0.999962    0.999965  \n",
       "USDCNY_max       0.999962    1.000000    0.999935  \n",
       "USDCNY_min       0.999965    0.999935    1.000000  "
      ]
     },
     "execution_count": 194,
     "metadata": {},
     "output_type": "execute_result"
    }
   ],
   "source": [
    "data.corr()"
   ]
  },
  {
   "cell_type": "code",
   "execution_count": 195,
   "metadata": {},
   "outputs": [
    {
     "data": {
      "text/html": [
       "<div>\n",
       "<style scoped>\n",
       "    .dataframe tbody tr th:only-of-type {\n",
       "        vertical-align: middle;\n",
       "    }\n",
       "\n",
       "    .dataframe tbody tr th {\n",
       "        vertical-align: top;\n",
       "    }\n",
       "\n",
       "    .dataframe thead th {\n",
       "        text-align: right;\n",
       "    }\n",
       "</style>\n",
       "<table border=\"1\" class=\"dataframe\">\n",
       "  <thead>\n",
       "    <tr style=\"text-align: right;\">\n",
       "      <th></th>\n",
       "      <th>paraxylene_CHN_USD</th>\n",
       "      <th>paraxylene_RT_USD</th>\n",
       "      <th>paraxylene_SEA_USD</th>\n",
       "      <th>pta_NEA_USD</th>\n",
       "      <th>ethylene_glycol_EU_EUR</th>\n",
       "      <th>ethylene_glycol_CHN_USD</th>\n",
       "    </tr>\n",
       "  </thead>\n",
       "  <tbody>\n",
       "    <tr>\n",
       "      <td>paraxylene_CHN_USD</td>\n",
       "      <td>1.000000</td>\n",
       "      <td>0.979991</td>\n",
       "      <td>0.999710</td>\n",
       "      <td>0.956538</td>\n",
       "      <td>0.496004</td>\n",
       "      <td>0.677672</td>\n",
       "    </tr>\n",
       "    <tr>\n",
       "      <td>paraxylene_RT_USD</td>\n",
       "      <td>0.979991</td>\n",
       "      <td>1.000000</td>\n",
       "      <td>0.981761</td>\n",
       "      <td>0.949881</td>\n",
       "      <td>0.487767</td>\n",
       "      <td>0.641797</td>\n",
       "    </tr>\n",
       "    <tr>\n",
       "      <td>paraxylene_SEA_USD</td>\n",
       "      <td>0.999710</td>\n",
       "      <td>0.981761</td>\n",
       "      <td>1.000000</td>\n",
       "      <td>0.950606</td>\n",
       "      <td>0.474244</td>\n",
       "      <td>0.639605</td>\n",
       "    </tr>\n",
       "    <tr>\n",
       "      <td>pta_NEA_USD</td>\n",
       "      <td>0.956538</td>\n",
       "      <td>0.949881</td>\n",
       "      <td>0.950606</td>\n",
       "      <td>1.000000</td>\n",
       "      <td>0.285164</td>\n",
       "      <td>0.567304</td>\n",
       "    </tr>\n",
       "    <tr>\n",
       "      <td>ethylene_glycol_EU_EUR</td>\n",
       "      <td>0.496004</td>\n",
       "      <td>0.487767</td>\n",
       "      <td>0.474244</td>\n",
       "      <td>0.285164</td>\n",
       "      <td>1.000000</td>\n",
       "      <td>0.804493</td>\n",
       "    </tr>\n",
       "    <tr>\n",
       "      <td>ethylene_glycol_CHN_USD</td>\n",
       "      <td>0.677672</td>\n",
       "      <td>0.641797</td>\n",
       "      <td>0.639605</td>\n",
       "      <td>0.567304</td>\n",
       "      <td>0.804493</td>\n",
       "      <td>1.000000</td>\n",
       "    </tr>\n",
       "  </tbody>\n",
       "</table>\n",
       "</div>"
      ],
      "text/plain": [
       "                         paraxylene_CHN_USD  paraxylene_RT_USD  \\\n",
       "paraxylene_CHN_USD                 1.000000           0.979991   \n",
       "paraxylene_RT_USD                  0.979991           1.000000   \n",
       "paraxylene_SEA_USD                 0.999710           0.981761   \n",
       "pta_NEA_USD                        0.956538           0.949881   \n",
       "ethylene_glycol_EU_EUR             0.496004           0.487767   \n",
       "ethylene_glycol_CHN_USD            0.677672           0.641797   \n",
       "\n",
       "                         paraxylene_SEA_USD  pta_NEA_USD  \\\n",
       "paraxylene_CHN_USD                 0.999710     0.956538   \n",
       "paraxylene_RT_USD                  0.981761     0.949881   \n",
       "paraxylene_SEA_USD                 1.000000     0.950606   \n",
       "pta_NEA_USD                        0.950606     1.000000   \n",
       "ethylene_glycol_EU_EUR             0.474244     0.285164   \n",
       "ethylene_glycol_CHN_USD            0.639605     0.567304   \n",
       "\n",
       "                         ethylene_glycol_EU_EUR  ethylene_glycol_CHN_USD  \n",
       "paraxylene_CHN_USD                     0.496004                 0.677672  \n",
       "paraxylene_RT_USD                      0.487767                 0.641797  \n",
       "paraxylene_SEA_USD                     0.474244                 0.639605  \n",
       "pta_NEA_USD                            0.285164                 0.567304  \n",
       "ethylene_glycol_EU_EUR                 1.000000                 0.804493  \n",
       "ethylene_glycol_CHN_USD                0.804493                 1.000000  "
      ]
     },
     "execution_count": 195,
     "metadata": {},
     "output_type": "execute_result"
    }
   ],
   "source": [
    "data1.corr()"
   ]
  },
  {
   "cell_type": "code",
   "execution_count": 196,
   "metadata": {},
   "outputs": [
    {
     "data": {
      "text/plain": [
       "Index(['date', 'brent_close', 'brent_open', 'brent_max', 'brent_min',\n",
       "       'USDCNY_close', 'USDCNY_open', 'USDCNY_max', 'USDCNY_min'],\n",
       "      dtype='object')"
      ]
     },
     "execution_count": 196,
     "metadata": {},
     "output_type": "execute_result"
    }
   ],
   "source": [
    "data.columns"
   ]
  },
  {
   "cell_type": "code",
   "execution_count": 197,
   "metadata": {},
   "outputs": [
    {
     "data": {
      "text/plain": [
       "Index(['date', 'paraxylene_CHN_USD', 'paraxylene_RT_USD', 'paraxylene_SEA_USD',\n",
       "       'pta_NEA_USD', 'ethylene_glycol_EU_EUR', 'ethylene_glycol_CHN_USD'],\n",
       "      dtype='object')"
      ]
     },
     "execution_count": 197,
     "metadata": {},
     "output_type": "execute_result"
    }
   ],
   "source": [
    "data1.columns"
   ]
  },
  {
   "cell_type": "code",
   "execution_count": 198,
   "metadata": {},
   "outputs": [
    {
     "name": "stdout",
     "output_type": "stream",
     "text": [
      "(4221, 9)\n"
     ]
    }
   ],
   "source": [
    "print(data.shape)"
   ]
  },
  {
   "cell_type": "code",
   "execution_count": 199,
   "metadata": {},
   "outputs": [
    {
     "name": "stdout",
     "output_type": "stream",
     "text": [
      "(799, 7)\n"
     ]
    }
   ],
   "source": [
    "print(data1.shape)"
   ]
  },
  {
   "cell_type": "code",
   "execution_count": 200,
   "metadata": {},
   "outputs": [
    {
     "data": {
      "text/plain": [
       "False"
      ]
     },
     "execution_count": 200,
     "metadata": {},
     "output_type": "execute_result"
    }
   ],
   "source": [
    "data.isnull().values.any()"
   ]
  },
  {
   "cell_type": "code",
   "execution_count": 201,
   "metadata": {},
   "outputs": [
    {
     "data": {
      "text/plain": [
       "True"
      ]
     },
     "execution_count": 201,
     "metadata": {},
     "output_type": "execute_result"
    }
   ],
   "source": [
    "data1.isnull().values.any()"
   ]
  },
  {
   "cell_type": "code",
   "execution_count": 202,
   "metadata": {},
   "outputs": [
    {
     "name": "stdout",
     "output_type": "stream",
     "text": [
      "<class 'pandas.core.frame.DataFrame'>\n",
      "RangeIndex: 4221 entries, 0 to 4220\n",
      "Data columns (total 9 columns):\n",
      "date            4221 non-null object\n",
      "brent_close     4221 non-null float64\n",
      "brent_open      4221 non-null float64\n",
      "brent_max       4221 non-null float64\n",
      "brent_min       4221 non-null float64\n",
      "USDCNY_close    4221 non-null float64\n",
      "USDCNY_open     4221 non-null float64\n",
      "USDCNY_max      4221 non-null float64\n",
      "USDCNY_min      4221 non-null float64\n",
      "dtypes: float64(8), object(1)\n",
      "memory usage: 296.9+ KB\n"
     ]
    }
   ],
   "source": [
    "data.info()"
   ]
  },
  {
   "cell_type": "code",
   "execution_count": 203,
   "metadata": {},
   "outputs": [
    {
     "name": "stdout",
     "output_type": "stream",
     "text": [
      "<class 'pandas.core.frame.DataFrame'>\n",
      "RangeIndex: 799 entries, 0 to 798\n",
      "Data columns (total 7 columns):\n",
      "date                       799 non-null object\n",
      "paraxylene_CHN_USD         744 non-null float64\n",
      "paraxylene_RT_USD          782 non-null float64\n",
      "paraxylene_SEA_USD         778 non-null float64\n",
      "pta_NEA_USD                292 non-null float64\n",
      "ethylene_glycol_EU_EUR     782 non-null float64\n",
      "ethylene_glycol_CHN_USD    767 non-null float64\n",
      "dtypes: float64(6), object(1)\n",
      "memory usage: 43.8+ KB\n"
     ]
    }
   ],
   "source": [
    "data1.info()"
   ]
  },
  {
   "cell_type": "code",
   "execution_count": 204,
   "metadata": {},
   "outputs": [
    {
     "data": {
      "text/html": [
       "<div>\n",
       "<style scoped>\n",
       "    .dataframe tbody tr th:only-of-type {\n",
       "        vertical-align: middle;\n",
       "    }\n",
       "\n",
       "    .dataframe tbody tr th {\n",
       "        vertical-align: top;\n",
       "    }\n",
       "\n",
       "    .dataframe thead th {\n",
       "        text-align: right;\n",
       "    }\n",
       "</style>\n",
       "<table border=\"1\" class=\"dataframe\">\n",
       "  <thead>\n",
       "    <tr style=\"text-align: right;\">\n",
       "      <th></th>\n",
       "      <th>date</th>\n",
       "    </tr>\n",
       "  </thead>\n",
       "  <tbody>\n",
       "    <tr>\n",
       "      <td>0</td>\n",
       "      <td>2016-01-01</td>\n",
       "    </tr>\n",
       "    <tr>\n",
       "      <td>1</td>\n",
       "      <td>2016-02-01</td>\n",
       "    </tr>\n",
       "    <tr>\n",
       "      <td>2</td>\n",
       "      <td>2016-03-01</td>\n",
       "    </tr>\n",
       "    <tr>\n",
       "      <td>3</td>\n",
       "      <td>2016-04-01</td>\n",
       "    </tr>\n",
       "    <tr>\n",
       "      <td>4</td>\n",
       "      <td>2016-05-01</td>\n",
       "    </tr>\n",
       "  </tbody>\n",
       "</table>\n",
       "</div>"
      ],
      "text/plain": [
       "         date\n",
       "0  2016-01-01\n",
       "1  2016-02-01\n",
       "2  2016-03-01\n",
       "3  2016-04-01\n",
       "4  2016-05-01"
      ]
     },
     "execution_count": 204,
     "metadata": {},
     "output_type": "execute_result"
    }
   ],
   "source": [
    "test_target.head()"
   ]
  },
  {
   "cell_type": "code",
   "execution_count": 205,
   "metadata": {},
   "outputs": [
    {
     "data": {
      "text/plain": [
       "(43, 1)"
      ]
     },
     "execution_count": 205,
     "metadata": {},
     "output_type": "execute_result"
    }
   ],
   "source": [
    "test_target.shape"
   ]
  },
  {
   "cell_type": "code",
   "execution_count": 206,
   "metadata": {},
   "outputs": [
    {
     "data": {
      "text/html": [
       "<div>\n",
       "<style scoped>\n",
       "    .dataframe tbody tr th:only-of-type {\n",
       "        vertical-align: middle;\n",
       "    }\n",
       "\n",
       "    .dataframe tbody tr th {\n",
       "        vertical-align: top;\n",
       "    }\n",
       "\n",
       "    .dataframe thead th {\n",
       "        text-align: right;\n",
       "    }\n",
       "</style>\n",
       "<table border=\"1\" class=\"dataframe\">\n",
       "  <thead>\n",
       "    <tr style=\"text-align: right;\">\n",
       "      <th></th>\n",
       "      <th>date</th>\n",
       "      <th>pet</th>\n",
       "    </tr>\n",
       "  </thead>\n",
       "  <tbody>\n",
       "    <tr>\n",
       "      <td>0</td>\n",
       "      <td>2004-06-01</td>\n",
       "      <td>961.250</td>\n",
       "    </tr>\n",
       "    <tr>\n",
       "      <td>1</td>\n",
       "      <td>2004-07-01</td>\n",
       "      <td>962.000</td>\n",
       "    </tr>\n",
       "    <tr>\n",
       "      <td>2</td>\n",
       "      <td>2004-08-01</td>\n",
       "      <td>1053.750</td>\n",
       "    </tr>\n",
       "    <tr>\n",
       "      <td>3</td>\n",
       "      <td>2004-09-01</td>\n",
       "      <td>1180.000</td>\n",
       "    </tr>\n",
       "    <tr>\n",
       "      <td>4</td>\n",
       "      <td>2004-10-01</td>\n",
       "      <td>1240.000</td>\n",
       "    </tr>\n",
       "    <tr>\n",
       "      <td>...</td>\n",
       "      <td>...</td>\n",
       "      <td>...</td>\n",
       "    </tr>\n",
       "    <tr>\n",
       "      <td>133</td>\n",
       "      <td>2015-07-01</td>\n",
       "      <td>979.500</td>\n",
       "    </tr>\n",
       "    <tr>\n",
       "      <td>134</td>\n",
       "      <td>2015-08-01</td>\n",
       "      <td>908.125</td>\n",
       "    </tr>\n",
       "    <tr>\n",
       "      <td>135</td>\n",
       "      <td>2015-09-01</td>\n",
       "      <td>886.250</td>\n",
       "    </tr>\n",
       "    <tr>\n",
       "      <td>136</td>\n",
       "      <td>2015-10-01</td>\n",
       "      <td>868.500</td>\n",
       "    </tr>\n",
       "    <tr>\n",
       "      <td>137</td>\n",
       "      <td>2015-11-01</td>\n",
       "      <td>853.750</td>\n",
       "    </tr>\n",
       "  </tbody>\n",
       "</table>\n",
       "<p>138 rows × 2 columns</p>\n",
       "</div>"
      ],
      "text/plain": [
       "           date       pet\n",
       "0    2004-06-01   961.250\n",
       "1    2004-07-01   962.000\n",
       "2    2004-08-01  1053.750\n",
       "3    2004-09-01  1180.000\n",
       "4    2004-10-01  1240.000\n",
       "..          ...       ...\n",
       "133  2015-07-01   979.500\n",
       "134  2015-08-01   908.125\n",
       "135  2015-09-01   886.250\n",
       "136  2015-10-01   868.500\n",
       "137  2015-11-01   853.750\n",
       "\n",
       "[138 rows x 2 columns]"
      ]
     },
     "execution_count": 206,
     "metadata": {},
     "output_type": "execute_result"
    }
   ],
   "source": [
    "train_target.head(-1)"
   ]
  },
  {
   "cell_type": "code",
   "execution_count": 207,
   "metadata": {
    "scrolled": true
   },
   "outputs": [
    {
     "data": {
      "text/plain": [
       "(139, 2)"
      ]
     },
     "execution_count": 207,
     "metadata": {},
     "output_type": "execute_result"
    }
   ],
   "source": [
    "train_target.shape"
   ]
  },
  {
   "cell_type": "code",
   "execution_count": 208,
   "metadata": {},
   "outputs": [
    {
     "data": {
      "image/png": "[encoded data removed]",
      "text/plain": [
       "<Figure size 720x720 with 1 Axes>"
      ]
     },
     "metadata": {
      "needs_background": "light"
     },
     "output_type": "display_data"
    }
   ],
   "source": [
    "plt.rcParams[\"figure.figsize\"] = (10,10)\n",
    "\n",
    "train_target.plot('date', 'pet')\n",
    "\n",
    "# Rotate and align xtick labels\n",
    "#ax.get_figure().autofmt_xdate()\n",
    "\n",
    "# make room for tick labels\n",
    "plt.tight_layout()\n",
    "\n",
    "\n",
    "plt.show()"
   ]
  },
  {
   "cell_type": "markdown",
   "metadata": {},
   "source": [
    "## Предобработка данных"
   ]
  },
  {
   "cell_type": "code",
   "execution_count": 209,
   "metadata": {},
   "outputs": [
    {
     "name": "stdout",
     "output_type": "stream",
     "text": [
      "649\n"
     ]
    }
   ],
   "source": [
    "NaNList = []\n",
    "for i in range(0, data1.shape[0]):\n",
    "    for k in range(0,data1.shape[1]):\n",
    "        if data1.iloc[[i], [k]].isnull().bool():\n",
    "              NaNList.append(k)\n",
    "\n",
    "print(len(NaNList))"
   ]
  },
  {
   "cell_type": "code",
   "execution_count": 210,
   "metadata": {},
   "outputs": [
    {
     "name": "stdout",
     "output_type": "stream",
     "text": [
      "column number =0,  amount of NaN = 0 \n",
      "column number =1,  amount of NaN = 55 \n",
      "column number =2,  amount of NaN = 17 \n",
      "column number =3,  amount of NaN = 21 \n",
      "column number =4,  amount of NaN = 507 \n",
      "column number =5,  amount of NaN = 17 \n",
      "column number =6,  amount of NaN = 32 \n"
     ]
    }
   ],
   "source": [
    "for i in range(0, data1.shape[1]):\n",
    "    c=0\n",
    "    for k in NaNList:\n",
    "        if i == k:\n",
    "            c = c + 1\n",
    "    print ('column number ={0},  amount of NaN = {1} '.format(i, c))"
   ]
  },
  {
   "cell_type": "code",
   "execution_count": 211,
   "metadata": {},
   "outputs": [],
   "source": [
    "data1.drop(data1.columns[[4]], axis=1, inplace=True)"
   ]
  },
  {
   "cell_type": "code",
   "execution_count": 212,
   "metadata": {},
   "outputs": [
    {
     "data": {
      "text/plain": [
       "(799, 6)"
      ]
     },
     "execution_count": 212,
     "metadata": {},
     "output_type": "execute_result"
    }
   ],
   "source": [
    "data1.shape"
   ]
  },
  {
   "cell_type": "code",
   "execution_count": 213,
   "metadata": {},
   "outputs": [
    {
     "data": {
      "text/html": [
       "<div>\n",
       "<style scoped>\n",
       "    .dataframe tbody tr th:only-of-type {\n",
       "        vertical-align: middle;\n",
       "    }\n",
       "\n",
       "    .dataframe tbody tr th {\n",
       "        vertical-align: top;\n",
       "    }\n",
       "\n",
       "    .dataframe thead th {\n",
       "        text-align: right;\n",
       "    }\n",
       "</style>\n",
       "<table border=\"1\" class=\"dataframe\">\n",
       "  <thead>\n",
       "    <tr style=\"text-align: right;\">\n",
       "      <th></th>\n",
       "      <th>date</th>\n",
       "      <th>paraxylene_CHN_USD</th>\n",
       "      <th>paraxylene_RT_USD</th>\n",
       "      <th>paraxylene_SEA_USD</th>\n",
       "      <th>ethylene_glycol_EU_EUR</th>\n",
       "      <th>ethylene_glycol_CHN_USD</th>\n",
       "    </tr>\n",
       "  </thead>\n",
       "  <tbody>\n",
       "    <tr>\n",
       "      <td>0</td>\n",
       "      <td>2004-04-30</td>\n",
       "      <td>NaN</td>\n",
       "      <td>669.0</td>\n",
       "      <td>735.0</td>\n",
       "      <td>622.5</td>\n",
       "      <td>860.0</td>\n",
       "    </tr>\n",
       "    <tr>\n",
       "      <td>1</td>\n",
       "      <td>2004-05-07</td>\n",
       "      <td>NaN</td>\n",
       "      <td>680.0</td>\n",
       "      <td>730.0</td>\n",
       "      <td>650.0</td>\n",
       "      <td>860.0</td>\n",
       "    </tr>\n",
       "    <tr>\n",
       "      <td>2</td>\n",
       "      <td>2004-05-14</td>\n",
       "      <td>NaN</td>\n",
       "      <td>664.0</td>\n",
       "      <td>720.0</td>\n",
       "      <td>650.0</td>\n",
       "      <td>857.5</td>\n",
       "    </tr>\n",
       "    <tr>\n",
       "      <td>3</td>\n",
       "      <td>2004-05-21</td>\n",
       "      <td>NaN</td>\n",
       "      <td>657.0</td>\n",
       "      <td>722.5</td>\n",
       "      <td>650.0</td>\n",
       "      <td>852.5</td>\n",
       "    </tr>\n",
       "    <tr>\n",
       "      <td>4</td>\n",
       "      <td>2004-05-28</td>\n",
       "      <td>NaN</td>\n",
       "      <td>667.5</td>\n",
       "      <td>735.0</td>\n",
       "      <td>650.0</td>\n",
       "      <td>857.5</td>\n",
       "    </tr>\n",
       "  </tbody>\n",
       "</table>\n",
       "</div>"
      ],
      "text/plain": [
       "         date  paraxylene_CHN_USD  paraxylene_RT_USD  paraxylene_SEA_USD  \\\n",
       "0  2004-04-30                 NaN              669.0               735.0   \n",
       "1  2004-05-07                 NaN              680.0               730.0   \n",
       "2  2004-05-14                 NaN              664.0               720.0   \n",
       "3  2004-05-21                 NaN              657.0               722.5   \n",
       "4  2004-05-28                 NaN              667.5               735.0   \n",
       "\n",
       "   ethylene_glycol_EU_EUR  ethylene_glycol_CHN_USD  \n",
       "0                   622.5                    860.0  \n",
       "1                   650.0                    860.0  \n",
       "2                   650.0                    857.5  \n",
       "3                   650.0                    852.5  \n",
       "4                   650.0                    857.5  "
      ]
     },
     "execution_count": 213,
     "metadata": {},
     "output_type": "execute_result"
    }
   ],
   "source": [
    "data1.head()"
   ]
  },
  {
   "cell_type": "code",
   "execution_count": 214,
   "metadata": {},
   "outputs": [],
   "source": [
    "yearList =[]\n",
    "for i in data['date']:\n",
    "    yearList.append(int(str(i)[-10:-6]))\n",
    "    \n",
    "monthList =[]\n",
    "for i in data['date']:\n",
    "    monthList.append(int(str(i)[-5:-3]))"
   ]
  },
  {
   "cell_type": "code",
   "execution_count": 215,
   "metadata": {},
   "outputs": [],
   "source": [
    "yearList1 =[]\n",
    "for i in data1['date']:\n",
    "    yearList1.append(int(str(i)[-10:-6]))\n",
    "    \n",
    "monthList1 =[]\n",
    "for i in data1['date']:\n",
    "    monthList1.append(int(str(i)[-5:-3]))"
   ]
  },
  {
   "cell_type": "code",
   "execution_count": 216,
   "metadata": {},
   "outputs": [],
   "source": [
    "data['Year'] = yearList\n",
    "data['Month'] = monthList"
   ]
  },
  {
   "cell_type": "code",
   "execution_count": 217,
   "metadata": {},
   "outputs": [],
   "source": [
    "data1['Year'] = yearList1\n",
    "data1['Month'] = monthList1"
   ]
  },
  {
   "cell_type": "code",
   "execution_count": 218,
   "metadata": {},
   "outputs": [],
   "source": [
    "data.drop('date', axis=1, inplace=True)\n",
    "data1.drop('date', axis=1, inplace=True)"
   ]
  },
  {
   "cell_type": "code",
   "execution_count": 219,
   "metadata": {
    "scrolled": true
   },
   "outputs": [
    {
     "data": {
      "text/html": [
       "<div>\n",
       "<style scoped>\n",
       "    .dataframe tbody tr th:only-of-type {\n",
       "        vertical-align: middle;\n",
       "    }\n",
       "\n",
       "    .dataframe tbody tr th {\n",
       "        vertical-align: top;\n",
       "    }\n",
       "\n",
       "    .dataframe thead th {\n",
       "        text-align: right;\n",
       "    }\n",
       "</style>\n",
       "<table border=\"1\" class=\"dataframe\">\n",
       "  <thead>\n",
       "    <tr style=\"text-align: right;\">\n",
       "      <th></th>\n",
       "      <th>brent_close</th>\n",
       "      <th>brent_open</th>\n",
       "      <th>brent_max</th>\n",
       "      <th>brent_min</th>\n",
       "      <th>USDCNY_close</th>\n",
       "      <th>USDCNY_open</th>\n",
       "      <th>USDCNY_max</th>\n",
       "      <th>USDCNY_min</th>\n",
       "      <th>Year</th>\n",
       "      <th>Month</th>\n",
       "    </tr>\n",
       "  </thead>\n",
       "  <tbody>\n",
       "    <tr>\n",
       "      <td>0</td>\n",
       "      <td>25.64</td>\n",
       "      <td>25.50</td>\n",
       "      <td>25.72</td>\n",
       "      <td>25.39</td>\n",
       "      <td>8.2770</td>\n",
       "      <td>8.2770</td>\n",
       "      <td>8.2770</td>\n",
       "      <td>8.2770</td>\n",
       "      <td>2002</td>\n",
       "      <td>7</td>\n",
       "    </tr>\n",
       "    <tr>\n",
       "      <td>1</td>\n",
       "      <td>25.75</td>\n",
       "      <td>25.61</td>\n",
       "      <td>25.97</td>\n",
       "      <td>25.60</td>\n",
       "      <td>8.2769</td>\n",
       "      <td>8.2769</td>\n",
       "      <td>8.2769</td>\n",
       "      <td>8.2769</td>\n",
       "      <td>2002</td>\n",
       "      <td>7</td>\n",
       "    </tr>\n",
       "    <tr>\n",
       "      <td>2</td>\n",
       "      <td>25.84</td>\n",
       "      <td>25.73</td>\n",
       "      <td>25.96</td>\n",
       "      <td>25.52</td>\n",
       "      <td>8.2768</td>\n",
       "      <td>8.2768</td>\n",
       "      <td>8.2768</td>\n",
       "      <td>8.2768</td>\n",
       "      <td>2002</td>\n",
       "      <td>7</td>\n",
       "    </tr>\n",
       "    <tr>\n",
       "      <td>3</td>\n",
       "      <td>25.55</td>\n",
       "      <td>25.88</td>\n",
       "      <td>25.94</td>\n",
       "      <td>25.50</td>\n",
       "      <td>8.2767</td>\n",
       "      <td>8.2767</td>\n",
       "      <td>8.2767</td>\n",
       "      <td>8.2767</td>\n",
       "      <td>2002</td>\n",
       "      <td>7</td>\n",
       "    </tr>\n",
       "    <tr>\n",
       "      <td>4</td>\n",
       "      <td>25.73</td>\n",
       "      <td>25.65</td>\n",
       "      <td>25.75</td>\n",
       "      <td>25.42</td>\n",
       "      <td>8.2766</td>\n",
       "      <td>8.2766</td>\n",
       "      <td>8.2766</td>\n",
       "      <td>8.2766</td>\n",
       "      <td>2002</td>\n",
       "      <td>7</td>\n",
       "    </tr>\n",
       "    <tr>\n",
       "      <td>...</td>\n",
       "      <td>...</td>\n",
       "      <td>...</td>\n",
       "      <td>...</td>\n",
       "      <td>...</td>\n",
       "      <td>...</td>\n",
       "      <td>...</td>\n",
       "      <td>...</td>\n",
       "      <td>...</td>\n",
       "      <td>...</td>\n",
       "      <td>...</td>\n",
       "    </tr>\n",
       "    <tr>\n",
       "      <td>4215</td>\n",
       "      <td>65.20</td>\n",
       "      <td>64.86</td>\n",
       "      <td>65.76</td>\n",
       "      <td>64.00</td>\n",
       "      <td>6.8700</td>\n",
       "      <td>6.8524</td>\n",
       "      <td>6.8793</td>\n",
       "      <td>6.8336</td>\n",
       "      <td>2019</td>\n",
       "      <td>6</td>\n",
       "    </tr>\n",
       "    <tr>\n",
       "      <td>4216</td>\n",
       "      <td>64.86</td>\n",
       "      <td>65.50</td>\n",
       "      <td>65.79</td>\n",
       "      <td>64.08</td>\n",
       "      <td>6.8770</td>\n",
       "      <td>6.8736</td>\n",
       "      <td>6.8873</td>\n",
       "      <td>6.8700</td>\n",
       "      <td>2019</td>\n",
       "      <td>6</td>\n",
       "    </tr>\n",
       "    <tr>\n",
       "      <td>4217</td>\n",
       "      <td>65.05</td>\n",
       "      <td>64.89</td>\n",
       "      <td>65.98</td>\n",
       "      <td>64.17</td>\n",
       "      <td>6.8798</td>\n",
       "      <td>6.8715</td>\n",
       "      <td>6.8851</td>\n",
       "      <td>6.8655</td>\n",
       "      <td>2019</td>\n",
       "      <td>6</td>\n",
       "    </tr>\n",
       "    <tr>\n",
       "      <td>4218</td>\n",
       "      <td>66.49</td>\n",
       "      <td>65.80</td>\n",
       "      <td>66.85</td>\n",
       "      <td>65.60</td>\n",
       "      <td>6.8800</td>\n",
       "      <td>6.8876</td>\n",
       "      <td>6.8937</td>\n",
       "      <td>6.8658</td>\n",
       "      <td>2019</td>\n",
       "      <td>6</td>\n",
       "    </tr>\n",
       "    <tr>\n",
       "      <td>4219</td>\n",
       "      <td>66.55</td>\n",
       "      <td>66.05</td>\n",
       "      <td>66.82</td>\n",
       "      <td>65.63</td>\n",
       "      <td>6.8771</td>\n",
       "      <td>6.8785</td>\n",
       "      <td>6.8846</td>\n",
       "      <td>6.8738</td>\n",
       "      <td>2019</td>\n",
       "      <td>6</td>\n",
       "    </tr>\n",
       "  </tbody>\n",
       "</table>\n",
       "<p>4220 rows × 10 columns</p>\n",
       "</div>"
      ],
      "text/plain": [
       "      brent_close  brent_open  brent_max  brent_min  USDCNY_close  \\\n",
       "0           25.64       25.50      25.72      25.39        8.2770   \n",
       "1           25.75       25.61      25.97      25.60        8.2769   \n",
       "2           25.84       25.73      25.96      25.52        8.2768   \n",
       "3           25.55       25.88      25.94      25.50        8.2767   \n",
       "4           25.73       25.65      25.75      25.42        8.2766   \n",
       "...           ...         ...        ...        ...           ...   \n",
       "4215        65.20       64.86      65.76      64.00        6.8700   \n",
       "4216        64.86       65.50      65.79      64.08        6.8770   \n",
       "4217        65.05       64.89      65.98      64.17        6.8798   \n",
       "4218        66.49       65.80      66.85      65.60        6.8800   \n",
       "4219        66.55       66.05      66.82      65.63        6.8771   \n",
       "\n",
       "      USDCNY_open  USDCNY_max  USDCNY_min  Year  Month  \n",
       "0          8.2770      8.2770      8.2770  2002      7  \n",
       "1          8.2769      8.2769      8.2769  2002      7  \n",
       "2          8.2768      8.2768      8.2768  2002      7  \n",
       "3          8.2767      8.2767      8.2767  2002      7  \n",
       "4          8.2766      8.2766      8.2766  2002      7  \n",
       "...           ...         ...         ...   ...    ...  \n",
       "4215       6.8524      6.8793      6.8336  2019      6  \n",
       "4216       6.8736      6.8873      6.8700  2019      6  \n",
       "4217       6.8715      6.8851      6.8655  2019      6  \n",
       "4218       6.8876      6.8937      6.8658  2019      6  \n",
       "4219       6.8785      6.8846      6.8738  2019      6  \n",
       "\n",
       "[4220 rows x 10 columns]"
      ]
     },
     "execution_count": 219,
     "metadata": {},
     "output_type": "execute_result"
    }
   ],
   "source": [
    "data.head(-1)"
   ]
  },
  {
   "cell_type": "code",
   "execution_count": 220,
   "metadata": {},
   "outputs": [
    {
     "data": {
      "text/html": [
       "<div>\n",
       "<style scoped>\n",
       "    .dataframe tbody tr th:only-of-type {\n",
       "        vertical-align: middle;\n",
       "    }\n",
       "\n",
       "    .dataframe tbody tr th {\n",
       "        vertical-align: top;\n",
       "    }\n",
       "\n",
       "    .dataframe thead th {\n",
       "        text-align: right;\n",
       "    }\n",
       "</style>\n",
       "<table border=\"1\" class=\"dataframe\">\n",
       "  <thead>\n",
       "    <tr style=\"text-align: right;\">\n",
       "      <th></th>\n",
       "      <th>paraxylene_CHN_USD</th>\n",
       "      <th>paraxylene_RT_USD</th>\n",
       "      <th>paraxylene_SEA_USD</th>\n",
       "      <th>ethylene_glycol_EU_EUR</th>\n",
       "      <th>ethylene_glycol_CHN_USD</th>\n",
       "      <th>Year</th>\n",
       "      <th>Month</th>\n",
       "    </tr>\n",
       "  </thead>\n",
       "  <tbody>\n",
       "    <tr>\n",
       "      <td>0</td>\n",
       "      <td>NaN</td>\n",
       "      <td>669.0</td>\n",
       "      <td>735.0</td>\n",
       "      <td>622.5</td>\n",
       "      <td>860.0</td>\n",
       "      <td>2004</td>\n",
       "      <td>4</td>\n",
       "    </tr>\n",
       "    <tr>\n",
       "      <td>1</td>\n",
       "      <td>NaN</td>\n",
       "      <td>680.0</td>\n",
       "      <td>730.0</td>\n",
       "      <td>650.0</td>\n",
       "      <td>860.0</td>\n",
       "      <td>2004</td>\n",
       "      <td>5</td>\n",
       "    </tr>\n",
       "    <tr>\n",
       "      <td>2</td>\n",
       "      <td>NaN</td>\n",
       "      <td>664.0</td>\n",
       "      <td>720.0</td>\n",
       "      <td>650.0</td>\n",
       "      <td>857.5</td>\n",
       "      <td>2004</td>\n",
       "      <td>5</td>\n",
       "    </tr>\n",
       "    <tr>\n",
       "      <td>3</td>\n",
       "      <td>NaN</td>\n",
       "      <td>657.0</td>\n",
       "      <td>722.5</td>\n",
       "      <td>650.0</td>\n",
       "      <td>852.5</td>\n",
       "      <td>2004</td>\n",
       "      <td>5</td>\n",
       "    </tr>\n",
       "    <tr>\n",
       "      <td>4</td>\n",
       "      <td>NaN</td>\n",
       "      <td>667.5</td>\n",
       "      <td>735.0</td>\n",
       "      <td>650.0</td>\n",
       "      <td>857.5</td>\n",
       "      <td>2004</td>\n",
       "      <td>5</td>\n",
       "    </tr>\n",
       "    <tr>\n",
       "      <td>...</td>\n",
       "      <td>...</td>\n",
       "      <td>...</td>\n",
       "      <td>...</td>\n",
       "      <td>...</td>\n",
       "      <td>...</td>\n",
       "      <td>...</td>\n",
       "      <td>...</td>\n",
       "    </tr>\n",
       "    <tr>\n",
       "      <td>793</td>\n",
       "      <td>885.0</td>\n",
       "      <td>780.0</td>\n",
       "      <td>875.0</td>\n",
       "      <td>500.0</td>\n",
       "      <td>528.5</td>\n",
       "      <td>2019</td>\n",
       "      <td>7</td>\n",
       "    </tr>\n",
       "    <tr>\n",
       "      <td>794</td>\n",
       "      <td>853.0</td>\n",
       "      <td>760.0</td>\n",
       "      <td>843.0</td>\n",
       "      <td>490.0</td>\n",
       "      <td>532.5</td>\n",
       "      <td>2019</td>\n",
       "      <td>7</td>\n",
       "    </tr>\n",
       "    <tr>\n",
       "      <td>795</td>\n",
       "      <td>848.0</td>\n",
       "      <td>750.0</td>\n",
       "      <td>838.0</td>\n",
       "      <td>480.0</td>\n",
       "      <td>541.5</td>\n",
       "      <td>2019</td>\n",
       "      <td>7</td>\n",
       "    </tr>\n",
       "    <tr>\n",
       "      <td>796</td>\n",
       "      <td>819.0</td>\n",
       "      <td>745.0</td>\n",
       "      <td>809.0</td>\n",
       "      <td>475.0</td>\n",
       "      <td>547.5</td>\n",
       "      <td>2019</td>\n",
       "      <td>8</td>\n",
       "    </tr>\n",
       "    <tr>\n",
       "      <td>797</td>\n",
       "      <td>794.0</td>\n",
       "      <td>700.0</td>\n",
       "      <td>784.0</td>\n",
       "      <td>465.0</td>\n",
       "      <td>517.5</td>\n",
       "      <td>2019</td>\n",
       "      <td>8</td>\n",
       "    </tr>\n",
       "  </tbody>\n",
       "</table>\n",
       "<p>798 rows × 7 columns</p>\n",
       "</div>"
      ],
      "text/plain": [
       "     paraxylene_CHN_USD  paraxylene_RT_USD  paraxylene_SEA_USD  \\\n",
       "0                   NaN              669.0               735.0   \n",
       "1                   NaN              680.0               730.0   \n",
       "2                   NaN              664.0               720.0   \n",
       "3                   NaN              657.0               722.5   \n",
       "4                   NaN              667.5               735.0   \n",
       "..                  ...                ...                 ...   \n",
       "793               885.0              780.0               875.0   \n",
       "794               853.0              760.0               843.0   \n",
       "795               848.0              750.0               838.0   \n",
       "796               819.0              745.0               809.0   \n",
       "797               794.0              700.0               784.0   \n",
       "\n",
       "     ethylene_glycol_EU_EUR  ethylene_glycol_CHN_USD  Year  Month  \n",
       "0                     622.5                    860.0  2004      4  \n",
       "1                     650.0                    860.0  2004      5  \n",
       "2                     650.0                    857.5  2004      5  \n",
       "3                     650.0                    852.5  2004      5  \n",
       "4                     650.0                    857.5  2004      5  \n",
       "..                      ...                      ...   ...    ...  \n",
       "793                   500.0                    528.5  2019      7  \n",
       "794                   490.0                    532.5  2019      7  \n",
       "795                   480.0                    541.5  2019      7  \n",
       "796                   475.0                    547.5  2019      8  \n",
       "797                   465.0                    517.5  2019      8  \n",
       "\n",
       "[798 rows x 7 columns]"
      ]
     },
     "execution_count": 220,
     "metadata": {},
     "output_type": "execute_result"
    }
   ],
   "source": [
    "data1.head(-1)"
   ]
  },
  {
   "cell_type": "code",
   "execution_count": 221,
   "metadata": {
    "scrolled": true
   },
   "outputs": [
    {
     "data": {
      "text/plain": [
       "(4221, 10)"
      ]
     },
     "execution_count": 221,
     "metadata": {},
     "output_type": "execute_result"
    }
   ],
   "source": [
    "data.shape"
   ]
  },
  {
   "cell_type": "code",
   "execution_count": 222,
   "metadata": {},
   "outputs": [
    {
     "data": {
      "text/plain": [
       "(799, 7)"
      ]
     },
     "execution_count": 222,
     "metadata": {},
     "output_type": "execute_result"
    }
   ],
   "source": [
    "data1.shape"
   ]
  },
  {
   "cell_type": "code",
   "execution_count": 223,
   "metadata": {},
   "outputs": [
    {
     "data": {
      "text/plain": [
       "['brent_close_MEAN',\n",
       " 'brent_open_MEAN',\n",
       " 'brent_max_MEAN',\n",
       " 'brent_min_MEAN',\n",
       " 'USDCNY_close_MEAN',\n",
       " 'USDCNY_open_MEAN',\n",
       " 'USDCNY_max_MEAN',\n",
       " 'USDCNY_min_MEAN',\n",
       " 'Year_MEAN',\n",
       " 'Month_MEAN']"
      ]
     },
     "execution_count": 223,
     "metadata": {},
     "output_type": "execute_result"
    }
   ],
   "source": [
    "[i + '_MEAN' for i in data.columns]"
   ]
  },
  {
   "cell_type": "code",
   "execution_count": 224,
   "metadata": {},
   "outputs": [
    {
     "data": {
      "text/plain": [
       "['paraxylene_CHN_USD_MEAN',\n",
       " 'paraxylene_RT_USD_MEAN',\n",
       " 'paraxylene_SEA_USD_MEAN',\n",
       " 'ethylene_glycol_EU_EUR_MEAN',\n",
       " 'ethylene_glycol_CHN_USD_MEAN',\n",
       " 'Year_MEAN',\n",
       " 'Month_MEAN']"
      ]
     },
     "execution_count": 224,
     "metadata": {},
     "output_type": "execute_result"
    }
   ],
   "source": [
    "[i + '_MEAN' for i in data1.columns]"
   ]
  },
  {
   "cell_type": "code",
   "execution_count": 225,
   "metadata": {},
   "outputs": [],
   "source": [
    "train_data = pd.DataFrame({'brent_close_MEAN':[],\n",
    " 'brent_close_MIN':[],\n",
    " 'brent_close_MAX':[],\n",
    " 'brent_close_MEDIAN':[],\n",
    " 'brent_close_STD':[],\n",
    " 'brent_open_MEAN':[],\n",
    " 'brent_open_MIN':[],\n",
    " 'brent_open_MAX':[],\n",
    " 'brent_open_MEDIAN':[],\n",
    " 'brent_open_STD':[],\n",
    " 'brent_max_MEAN':[],\n",
    " 'brent_max_MIN':[],\n",
    " 'brent_max_MAX':[],\n",
    " 'brent_max_MEDIAN':[],\n",
    " 'brent_max_STD':[],\n",
    " 'brent_min_MEAN':[],\n",
    " 'brent_min_MIN':[],\n",
    " 'brent_min_MAX':[],\n",
    " 'brent_min_MEDIAN':[],\n",
    " 'brent_min_STD':[],\n",
    " 'USDCNY_close_MEAN':[],\n",
    " 'USDCNY_close_MIN':[],\n",
    " 'USDCNY_close_MAX':[],\n",
    " 'USDCNY_close_MEDIAN':[],\n",
    " 'USDCNY_close_STD':[],\n",
    " 'USDCNY_open_MEAN':[],\n",
    " 'USDCNY_open_MIN':[],\n",
    " 'USDCNY_open_MAX':[],\n",
    " 'USDCNY_open_MEDIAN':[],\n",
    " 'USDCNY_open_STD':[],\n",
    " 'USDCNY_max_MEAN':[],\n",
    " 'USDCNY_max_MIN':[],\n",
    " 'USDCNY_max_MAX':[],\n",
    " 'USDCNY_max_MEDIAN':[],\n",
    " 'USDCNY_max_STD':[],\n",
    " 'USDCNY_min_MEAN':[], \n",
    " 'USDCNY_min_MIN':[],\n",
    " 'USDCNY_min_MAX':[],\n",
    " 'USDCNY_min_MEDIAN':[],\n",
    " 'USDCNY_min_STD':[],\n",
    " 'Year_MEAN':[],\n",
    " 'Month_MEAN':[]})"
   ]
  },
  {
   "cell_type": "code",
   "execution_count": 226,
   "metadata": {},
   "outputs": [],
   "source": [
    "train_data1 = pd.DataFrame({'paraxylene_CHN_USD_MEAN':[],\n",
    " 'paraxylene_CHN_USD_MIN':[],\n",
    " 'paraxylene_CHN_USD_MAX':[],\n",
    " 'paraxylene_CHN_USD_MEDIAN':[],\n",
    " 'paraxylene_CHN_USD_STD':[],\n",
    " 'paraxylene_RT_USD_MEAN':[],\n",
    " 'paraxylene_RT_USD_MIN':[],\n",
    " 'paraxylene_RT_USD_MAX':[],\n",
    " 'paraxylene_RT_USD_MEDIAN':[],\n",
    " 'paraxylene_RT_USD_STD':[],\n",
    " 'paraxylene_SEA_USD_MEAN':[],\n",
    " 'paraxylene_SEA_USD_MIN':[],\n",
    " 'paraxylene_SEA_USD_MAX':[],\n",
    " 'paraxylene_SEA_USD_MEDIAN':[],\n",
    " 'paraxylene_SEA_USD_STD':[],\n",
    " 'ethylene_glycol_EU_EUR_MEAN':[],\n",
    " 'ethylene_glycol_EU_EUR_MIN':[],\n",
    " 'ethylene_glycol_EU_EUR_MAX':[],\n",
    " 'ethylene_glycol_EU_EUR_MEDIAN':[],\n",
    " 'ethylene_glycol_EU_EUR_STD':[],\n",
    " 'ethylene_glycol_CHN_USD_MEAN':[], \n",
    " 'ethylene_glycol_CHN_USD_MIN':[],\n",
    " 'ethylene_glycol_CHN_USD_MAX':[],\n",
    " 'ethylene_glycol_CHN_USD_MEDIAN':[],\n",
    " 'ethylene_glycol_CHN_USD_STD':[],\n",
    " 'Year_MEAN':[],\n",
    " 'Month_MEAN':[]})"
   ]
  },
  {
   "cell_type": "code",
   "execution_count": 227,
   "metadata": {},
   "outputs": [],
   "source": [
    "for m in range(2002, 2020):\n",
    "    for n in range(1, 13):\n",
    "        x = [ i for i in (data[(data.Year == m) & (data.Month == n)].mean(axis = 0))]\n",
    "        y = [ i for i in (data[(data.Year == m) & (data.Month == n)].min(axis = 0))]\n",
    "        z = [ i for i in (data[(data.Year == m) & (data.Month == n)].max(axis = 0))]\n",
    "        b = [ i for i in (data[(data.Year == m) & (data.Month == n)].median(axis = 0))]\n",
    "        h = [ i for i in (data[(data.Year == m) & (data.Month == n)].std(axis = 0))]\n",
    "        new_line = {'brent_close_MEAN':x[0],\n",
    " 'brent_close_MIN':y[0],\n",
    " 'brent_close_MAX':z[0],\n",
    " 'brent_close_MEDIAN':b[0],\n",
    " 'brent_close_STD':h[0],\n",
    " 'brent_open_MEAN':x[1],\n",
    " 'brent_open_MIN':y[1],\n",
    " 'brent_open_MAX':z[1],\n",
    " 'brent_open_MEDIAN':b[1],\n",
    " 'brent_open_STD':h[1],\n",
    " 'brent_max_MEAN':x[2],\n",
    " 'brent_max_MIN':y[2],\n",
    " 'brent_max_MAX':z[2],\n",
    " 'brent_max_MEDIAN':b[2],\n",
    " 'brent_max_STD':h[2],\n",
    " 'brent_min_MEAN':x[3],\n",
    " 'brent_min_MIN':y[3],\n",
    " 'brent_min_MAX':z[3],\n",
    " 'brent_min_MEDIAN':b[3],\n",
    " 'brent_min_STD':h[3],\n",
    " 'USDCNY_close_MEAN':x[4],\n",
    " 'USDCNY_close_MIN':y[4],\n",
    " 'USDCNY_close_MAX':z[4],\n",
    " 'USDCNY_close_MEDIAN':b[4],\n",
    " 'USDCNY_close_STD':h[4],\n",
    " 'USDCNY_open_MEAN':x[5],\n",
    " 'USDCNY_open_MIN':y[5],\n",
    " 'USDCNY_open_MAX':z[5],\n",
    " 'USDCNY_open_MEDIAN':b[5],\n",
    " 'USDCNY_open_STD':h[5],\n",
    " 'USDCNY_max_MEAN':x[6],\n",
    " 'USDCNY_max_MIN':y[6],\n",
    " 'USDCNY_max_MAX':z[6],\n",
    " 'USDCNY_max_MEDIAN':b[6],\n",
    " 'USDCNY_max_STD':h[6],\n",
    " 'USDCNY_min_MEAN':x[7], \n",
    " 'USDCNY_min_MIN':y[7],\n",
    " 'USDCNY_min_MAX':z[7],\n",
    " 'USDCNY_min_MEDIAN':b[7],\n",
    " 'USDCNY_min_STD':h[7],\n",
    " 'Year_MEAN':x[9],\n",
    " 'Month_MEAN':x[9]}\n",
    "        train_data = train_data.append(new_line, ignore_index=True)"
   ]
  },
  {
   "cell_type": "code",
   "execution_count": 228,
   "metadata": {},
   "outputs": [],
   "source": [
    "for m in range(2002, 2020):\n",
    "    for n in range(1, 13):\n",
    "        x = [ i for i in (data1[(data1.Year == m) & (data1.Month == n)].mean(axis = 0))]\n",
    "        y = [ i for i in (data1[(data1.Year == m) & (data1.Month == n)].min(axis = 0))]\n",
    "        z = [ i for i in (data1[(data1.Year == m) & (data1.Month == n)].max(axis = 0))]\n",
    "        b = [ i for i in (data1[(data1.Year == m) & (data1.Month == n)].median(axis = 0))]\n",
    "        h = [ i for i in (data1[(data1.Year == m) & (data1.Month == n)].std(axis = 0))]\n",
    "        new_line = {'paraxylene_CHN_USD_MEAN':x[0],\n",
    " 'paraxylene_CHN_USD_MIN':y[0],\n",
    " 'paraxylene_CHN_USD_MAX':z[0],\n",
    " 'paraxylene_CHN_USD_MEDIAN':b[0],\n",
    " 'paraxylene_CHN_USD_STD':h[0],\n",
    " 'paraxylene_RT_USD_MEAN':x[1],\n",
    " 'paraxylene_RT_USD_MIN':y[1],\n",
    " 'paraxylene_RT_USD_MAX':z[1],\n",
    " 'paraxylene_RT_USD_MEDIAN':b[1],\n",
    " 'paraxylene_RT_USD_STD':h[1],\n",
    " 'paraxylene_SEA_USD_MEAN':x[2],\n",
    " 'paraxylene_SEA_USD_MIN':y[2],\n",
    " 'paraxylene_SEA_USD_MAX':z[2],\n",
    " 'paraxylene_SEA_USD_MEDIAN':b[2],\n",
    " 'paraxylene_SEA_USD_STD':h[2],\n",
    " 'ethylene_glycol_EU_EUR_MEAN':x[3],\n",
    " 'ethylene_glycol_EU_EUR_MIN':y[3],\n",
    " 'ethylene_glycol_EU_EUR_MAX':z[3],\n",
    " 'ethylene_glycol_EU_EUR_MEDIAN':b[3],\n",
    " 'ethylene_glycol_EU_EUR_STD':h[3],\n",
    " 'ethylene_glycol_CHN_USD_MEAN':x[4], \n",
    " 'ethylene_glycol_CHN_USD_MIN':y[4],\n",
    " 'ethylene_glycol_CHN_USD_MAX':z[4],\n",
    " 'ethylene_glycol_CHN_USD_MEDIAN':b[4],\n",
    " 'ethylene_glycol_CHN_USD_STD':h[4],\n",
    " 'Year_MEAN':x[5],\n",
    " 'Month_MEAN':x[6]}\n",
    "        train_data1 = train_data1.append(new_line, ignore_index=True)"
   ]
  },
  {
   "cell_type": "code",
   "execution_count": 229,
   "metadata": {
    "scrolled": true
   },
   "outputs": [
    {
     "data": {
      "text/plain": [
       "(216, 42)"
      ]
     },
     "execution_count": 229,
     "metadata": {},
     "output_type": "execute_result"
    }
   ],
   "source": [
    "train_data.shape"
   ]
  },
  {
   "cell_type": "code",
   "execution_count": 230,
   "metadata": {},
   "outputs": [
    {
     "data": {
      "text/plain": [
       "(216, 27)"
      ]
     },
     "execution_count": 230,
     "metadata": {},
     "output_type": "execute_result"
    }
   ],
   "source": [
    "train_data1.shape"
   ]
  },
  {
   "cell_type": "code",
   "execution_count": 231,
   "metadata": {},
   "outputs": [],
   "source": [
    "train_data.drop(['Year_MEAN', 'Month_MEAN'], axis=1, inplace=True)"
   ]
  },
  {
   "cell_type": "code",
   "execution_count": 232,
   "metadata": {},
   "outputs": [],
   "source": [
    "#train_data1"
   ]
  },
  {
   "cell_type": "code",
   "execution_count": 233,
   "metadata": {},
   "outputs": [],
   "source": [
    "train_data2 = pd.DataFrame()"
   ]
  },
  {
   "cell_type": "code",
   "execution_count": 234,
   "metadata": {},
   "outputs": [],
   "source": [
    "train_data2 = train_data.join(train_data1)"
   ]
  },
  {
   "cell_type": "code",
   "execution_count": 235,
   "metadata": {},
   "outputs": [
    {
     "data": {
      "text/html": [
       "<div>\n",
       "<style scoped>\n",
       "    .dataframe tbody tr th:only-of-type {\n",
       "        vertical-align: middle;\n",
       "    }\n",
       "\n",
       "    .dataframe tbody tr th {\n",
       "        vertical-align: top;\n",
       "    }\n",
       "\n",
       "    .dataframe thead th {\n",
       "        text-align: right;\n",
       "    }\n",
       "</style>\n",
       "<table border=\"1\" class=\"dataframe\">\n",
       "  <thead>\n",
       "    <tr style=\"text-align: right;\">\n",
       "      <th></th>\n",
       "      <th>brent_close_MEAN</th>\n",
       "      <th>brent_close_MIN</th>\n",
       "      <th>brent_close_MAX</th>\n",
       "      <th>brent_close_MEDIAN</th>\n",
       "      <th>brent_close_STD</th>\n",
       "      <th>brent_open_MEAN</th>\n",
       "      <th>brent_open_MIN</th>\n",
       "      <th>brent_open_MAX</th>\n",
       "      <th>brent_open_MEDIAN</th>\n",
       "      <th>brent_open_STD</th>\n",
       "      <th>...</th>\n",
       "      <th>ethylene_glycol_EU_EUR_MAX</th>\n",
       "      <th>ethylene_glycol_EU_EUR_MEDIAN</th>\n",
       "      <th>ethylene_glycol_EU_EUR_STD</th>\n",
       "      <th>ethylene_glycol_CHN_USD_MEAN</th>\n",
       "      <th>ethylene_glycol_CHN_USD_MIN</th>\n",
       "      <th>ethylene_glycol_CHN_USD_MAX</th>\n",
       "      <th>ethylene_glycol_CHN_USD_MEDIAN</th>\n",
       "      <th>ethylene_glycol_CHN_USD_STD</th>\n",
       "      <th>Year_MEAN</th>\n",
       "      <th>Month_MEAN</th>\n",
       "    </tr>\n",
       "  </thead>\n",
       "  <tbody>\n",
       "    <tr>\n",
       "      <td>0</td>\n",
       "      <td>NaN</td>\n",
       "      <td>NaN</td>\n",
       "      <td>NaN</td>\n",
       "      <td>NaN</td>\n",
       "      <td>NaN</td>\n",
       "      <td>NaN</td>\n",
       "      <td>NaN</td>\n",
       "      <td>NaN</td>\n",
       "      <td>NaN</td>\n",
       "      <td>NaN</td>\n",
       "      <td>...</td>\n",
       "      <td>NaN</td>\n",
       "      <td>NaN</td>\n",
       "      <td>NaN</td>\n",
       "      <td>NaN</td>\n",
       "      <td>NaN</td>\n",
       "      <td>NaN</td>\n",
       "      <td>NaN</td>\n",
       "      <td>NaN</td>\n",
       "      <td>NaN</td>\n",
       "      <td>NaN</td>\n",
       "    </tr>\n",
       "    <tr>\n",
       "      <td>1</td>\n",
       "      <td>NaN</td>\n",
       "      <td>NaN</td>\n",
       "      <td>NaN</td>\n",
       "      <td>NaN</td>\n",
       "      <td>NaN</td>\n",
       "      <td>NaN</td>\n",
       "      <td>NaN</td>\n",
       "      <td>NaN</td>\n",
       "      <td>NaN</td>\n",
       "      <td>NaN</td>\n",
       "      <td>...</td>\n",
       "      <td>NaN</td>\n",
       "      <td>NaN</td>\n",
       "      <td>NaN</td>\n",
       "      <td>NaN</td>\n",
       "      <td>NaN</td>\n",
       "      <td>NaN</td>\n",
       "      <td>NaN</td>\n",
       "      <td>NaN</td>\n",
       "      <td>NaN</td>\n",
       "      <td>NaN</td>\n",
       "    </tr>\n",
       "    <tr>\n",
       "      <td>2</td>\n",
       "      <td>NaN</td>\n",
       "      <td>NaN</td>\n",
       "      <td>NaN</td>\n",
       "      <td>NaN</td>\n",
       "      <td>NaN</td>\n",
       "      <td>NaN</td>\n",
       "      <td>NaN</td>\n",
       "      <td>NaN</td>\n",
       "      <td>NaN</td>\n",
       "      <td>NaN</td>\n",
       "      <td>...</td>\n",
       "      <td>NaN</td>\n",
       "      <td>NaN</td>\n",
       "      <td>NaN</td>\n",
       "      <td>NaN</td>\n",
       "      <td>NaN</td>\n",
       "      <td>NaN</td>\n",
       "      <td>NaN</td>\n",
       "      <td>NaN</td>\n",
       "      <td>NaN</td>\n",
       "      <td>NaN</td>\n",
       "    </tr>\n",
       "    <tr>\n",
       "      <td>3</td>\n",
       "      <td>NaN</td>\n",
       "      <td>NaN</td>\n",
       "      <td>NaN</td>\n",
       "      <td>NaN</td>\n",
       "      <td>NaN</td>\n",
       "      <td>NaN</td>\n",
       "      <td>NaN</td>\n",
       "      <td>NaN</td>\n",
       "      <td>NaN</td>\n",
       "      <td>NaN</td>\n",
       "      <td>...</td>\n",
       "      <td>NaN</td>\n",
       "      <td>NaN</td>\n",
       "      <td>NaN</td>\n",
       "      <td>NaN</td>\n",
       "      <td>NaN</td>\n",
       "      <td>NaN</td>\n",
       "      <td>NaN</td>\n",
       "      <td>NaN</td>\n",
       "      <td>NaN</td>\n",
       "      <td>NaN</td>\n",
       "    </tr>\n",
       "    <tr>\n",
       "      <td>4</td>\n",
       "      <td>NaN</td>\n",
       "      <td>NaN</td>\n",
       "      <td>NaN</td>\n",
       "      <td>NaN</td>\n",
       "      <td>NaN</td>\n",
       "      <td>NaN</td>\n",
       "      <td>NaN</td>\n",
       "      <td>NaN</td>\n",
       "      <td>NaN</td>\n",
       "      <td>NaN</td>\n",
       "      <td>...</td>\n",
       "      <td>NaN</td>\n",
       "      <td>NaN</td>\n",
       "      <td>NaN</td>\n",
       "      <td>NaN</td>\n",
       "      <td>NaN</td>\n",
       "      <td>NaN</td>\n",
       "      <td>NaN</td>\n",
       "      <td>NaN</td>\n",
       "      <td>NaN</td>\n",
       "      <td>NaN</td>\n",
       "    </tr>\n",
       "    <tr>\n",
       "      <td>...</td>\n",
       "      <td>...</td>\n",
       "      <td>...</td>\n",
       "      <td>...</td>\n",
       "      <td>...</td>\n",
       "      <td>...</td>\n",
       "      <td>...</td>\n",
       "      <td>...</td>\n",
       "      <td>...</td>\n",
       "      <td>...</td>\n",
       "      <td>...</td>\n",
       "      <td>...</td>\n",
       "      <td>...</td>\n",
       "      <td>...</td>\n",
       "      <td>...</td>\n",
       "      <td>...</td>\n",
       "      <td>...</td>\n",
       "      <td>...</td>\n",
       "      <td>...</td>\n",
       "      <td>...</td>\n",
       "      <td>...</td>\n",
       "      <td>...</td>\n",
       "    </tr>\n",
       "    <tr>\n",
       "      <td>211</td>\n",
       "      <td>NaN</td>\n",
       "      <td>NaN</td>\n",
       "      <td>NaN</td>\n",
       "      <td>NaN</td>\n",
       "      <td>NaN</td>\n",
       "      <td>NaN</td>\n",
       "      <td>NaN</td>\n",
       "      <td>NaN</td>\n",
       "      <td>NaN</td>\n",
       "      <td>NaN</td>\n",
       "      <td>...</td>\n",
       "      <td>475.0</td>\n",
       "      <td>465.0</td>\n",
       "      <td>6.614378</td>\n",
       "      <td>532.0</td>\n",
       "      <td>517.5</td>\n",
       "      <td>547.5</td>\n",
       "      <td>531.0</td>\n",
       "      <td>15.024979</td>\n",
       "      <td>2019.0</td>\n",
       "      <td>8.0</td>\n",
       "    </tr>\n",
       "    <tr>\n",
       "      <td>212</td>\n",
       "      <td>NaN</td>\n",
       "      <td>NaN</td>\n",
       "      <td>NaN</td>\n",
       "      <td>NaN</td>\n",
       "      <td>NaN</td>\n",
       "      <td>NaN</td>\n",
       "      <td>NaN</td>\n",
       "      <td>NaN</td>\n",
       "      <td>NaN</td>\n",
       "      <td>NaN</td>\n",
       "      <td>...</td>\n",
       "      <td>NaN</td>\n",
       "      <td>NaN</td>\n",
       "      <td>NaN</td>\n",
       "      <td>NaN</td>\n",
       "      <td>NaN</td>\n",
       "      <td>NaN</td>\n",
       "      <td>NaN</td>\n",
       "      <td>NaN</td>\n",
       "      <td>NaN</td>\n",
       "      <td>NaN</td>\n",
       "    </tr>\n",
       "    <tr>\n",
       "      <td>213</td>\n",
       "      <td>NaN</td>\n",
       "      <td>NaN</td>\n",
       "      <td>NaN</td>\n",
       "      <td>NaN</td>\n",
       "      <td>NaN</td>\n",
       "      <td>NaN</td>\n",
       "      <td>NaN</td>\n",
       "      <td>NaN</td>\n",
       "      <td>NaN</td>\n",
       "      <td>NaN</td>\n",
       "      <td>...</td>\n",
       "      <td>NaN</td>\n",
       "      <td>NaN</td>\n",
       "      <td>NaN</td>\n",
       "      <td>NaN</td>\n",
       "      <td>NaN</td>\n",
       "      <td>NaN</td>\n",
       "      <td>NaN</td>\n",
       "      <td>NaN</td>\n",
       "      <td>NaN</td>\n",
       "      <td>NaN</td>\n",
       "    </tr>\n",
       "    <tr>\n",
       "      <td>214</td>\n",
       "      <td>NaN</td>\n",
       "      <td>NaN</td>\n",
       "      <td>NaN</td>\n",
       "      <td>NaN</td>\n",
       "      <td>NaN</td>\n",
       "      <td>NaN</td>\n",
       "      <td>NaN</td>\n",
       "      <td>NaN</td>\n",
       "      <td>NaN</td>\n",
       "      <td>NaN</td>\n",
       "      <td>...</td>\n",
       "      <td>NaN</td>\n",
       "      <td>NaN</td>\n",
       "      <td>NaN</td>\n",
       "      <td>NaN</td>\n",
       "      <td>NaN</td>\n",
       "      <td>NaN</td>\n",
       "      <td>NaN</td>\n",
       "      <td>NaN</td>\n",
       "      <td>NaN</td>\n",
       "      <td>NaN</td>\n",
       "    </tr>\n",
       "    <tr>\n",
       "      <td>215</td>\n",
       "      <td>NaN</td>\n",
       "      <td>NaN</td>\n",
       "      <td>NaN</td>\n",
       "      <td>NaN</td>\n",
       "      <td>NaN</td>\n",
       "      <td>NaN</td>\n",
       "      <td>NaN</td>\n",
       "      <td>NaN</td>\n",
       "      <td>NaN</td>\n",
       "      <td>NaN</td>\n",
       "      <td>...</td>\n",
       "      <td>NaN</td>\n",
       "      <td>NaN</td>\n",
       "      <td>NaN</td>\n",
       "      <td>NaN</td>\n",
       "      <td>NaN</td>\n",
       "      <td>NaN</td>\n",
       "      <td>NaN</td>\n",
       "      <td>NaN</td>\n",
       "      <td>NaN</td>\n",
       "      <td>NaN</td>\n",
       "    </tr>\n",
       "  </tbody>\n",
       "</table>\n",
       "<p>216 rows × 67 columns</p>\n",
       "</div>"
      ],
      "text/plain": [
       "     brent_close_MEAN  brent_close_MIN  brent_close_MAX  brent_close_MEDIAN  \\\n",
       "0                 NaN              NaN              NaN                 NaN   \n",
       "1                 NaN              NaN              NaN                 NaN   \n",
       "2                 NaN              NaN              NaN                 NaN   \n",
       "3                 NaN              NaN              NaN                 NaN   \n",
       "4                 NaN              NaN              NaN                 NaN   \n",
       "..                ...              ...              ...                 ...   \n",
       "211               NaN              NaN              NaN                 NaN   \n",
       "212               NaN              NaN              NaN                 NaN   \n",
       "213               NaN              NaN              NaN                 NaN   \n",
       "214               NaN              NaN              NaN                 NaN   \n",
       "215               NaN              NaN              NaN                 NaN   \n",
       "\n",
       "     brent_close_STD  brent_open_MEAN  brent_open_MIN  brent_open_MAX  \\\n",
       "0                NaN              NaN             NaN             NaN   \n",
       "1                NaN              NaN             NaN             NaN   \n",
       "2                NaN              NaN             NaN             NaN   \n",
       "3                NaN              NaN             NaN             NaN   \n",
       "4                NaN              NaN             NaN             NaN   \n",
       "..               ...              ...             ...             ...   \n",
       "211              NaN              NaN             NaN             NaN   \n",
       "212              NaN              NaN             NaN             NaN   \n",
       "213              NaN              NaN             NaN             NaN   \n",
       "214              NaN              NaN             NaN             NaN   \n",
       "215              NaN              NaN             NaN             NaN   \n",
       "\n",
       "     brent_open_MEDIAN  brent_open_STD  ...  ethylene_glycol_EU_EUR_MAX  \\\n",
       "0                  NaN             NaN  ...                         NaN   \n",
       "1                  NaN             NaN  ...                         NaN   \n",
       "2                  NaN             NaN  ...                         NaN   \n",
       "3                  NaN             NaN  ...                         NaN   \n",
       "4                  NaN             NaN  ...                         NaN   \n",
       "..                 ...             ...  ...                         ...   \n",
       "211                NaN             NaN  ...                       475.0   \n",
       "212                NaN             NaN  ...                         NaN   \n",
       "213                NaN             NaN  ...                         NaN   \n",
       "214                NaN             NaN  ...                         NaN   \n",
       "215                NaN             NaN  ...                         NaN   \n",
       "\n",
       "     ethylene_glycol_EU_EUR_MEDIAN  ethylene_glycol_EU_EUR_STD  \\\n",
       "0                              NaN                         NaN   \n",
       "1                              NaN                         NaN   \n",
       "2                              NaN                         NaN   \n",
       "3                              NaN                         NaN   \n",
       "4                              NaN                         NaN   \n",
       "..                             ...                         ...   \n",
       "211                          465.0                    6.614378   \n",
       "212                            NaN                         NaN   \n",
       "213                            NaN                         NaN   \n",
       "214                            NaN                         NaN   \n",
       "215                            NaN                         NaN   \n",
       "\n",
       "     ethylene_glycol_CHN_USD_MEAN  ethylene_glycol_CHN_USD_MIN  \\\n",
       "0                             NaN                          NaN   \n",
       "1                             NaN                          NaN   \n",
       "2                             NaN                          NaN   \n",
       "3                             NaN                          NaN   \n",
       "4                             NaN                          NaN   \n",
       "..                            ...                          ...   \n",
       "211                         532.0                        517.5   \n",
       "212                           NaN                          NaN   \n",
       "213                           NaN                          NaN   \n",
       "214                           NaN                          NaN   \n",
       "215                           NaN                          NaN   \n",
       "\n",
       "     ethylene_glycol_CHN_USD_MAX  ethylene_glycol_CHN_USD_MEDIAN  \\\n",
       "0                            NaN                             NaN   \n",
       "1                            NaN                             NaN   \n",
       "2                            NaN                             NaN   \n",
       "3                            NaN                             NaN   \n",
       "4                            NaN                             NaN   \n",
       "..                           ...                             ...   \n",
       "211                        547.5                           531.0   \n",
       "212                          NaN                             NaN   \n",
       "213                          NaN                             NaN   \n",
       "214                          NaN                             NaN   \n",
       "215                          NaN                             NaN   \n",
       "\n",
       "     ethylene_glycol_CHN_USD_STD  Year_MEAN  Month_MEAN  \n",
       "0                            NaN        NaN         NaN  \n",
       "1                            NaN        NaN         NaN  \n",
       "2                            NaN        NaN         NaN  \n",
       "3                            NaN        NaN         NaN  \n",
       "4                            NaN        NaN         NaN  \n",
       "..                           ...        ...         ...  \n",
       "211                    15.024979     2019.0         8.0  \n",
       "212                          NaN        NaN         NaN  \n",
       "213                          NaN        NaN         NaN  \n",
       "214                          NaN        NaN         NaN  \n",
       "215                          NaN        NaN         NaN  \n",
       "\n",
       "[216 rows x 67 columns]"
      ]
     },
     "execution_count": 235,
     "metadata": {},
     "output_type": "execute_result"
    }
   ],
   "source": [
    "train_data2"
   ]
  },
  {
   "cell_type": "code",
   "execution_count": 236,
   "metadata": {
    "scrolled": true
   },
   "outputs": [],
   "source": [
    "NaNList = []\n",
    "for i in range(0, train_data2.shape[0]):\n",
    "    for k in range(0,train_data2.shape[1]):\n",
    "        if train_data2.iloc[[i], [66]].isnull().bool():\n",
    "            NaNList.append(i)\n",
    "            break\n",
    "train_data2.drop(NaNList, axis=0, inplace=True)\n",
    "train_data = train_data2.reset_index(drop=True)"
   ]
  },
  {
   "cell_type": "code",
   "execution_count": 237,
   "metadata": {
    "scrolled": true
   },
   "outputs": [
    {
     "data": {
      "text/html": [
       "<div>\n",
       "<style scoped>\n",
       "    .dataframe tbody tr th:only-of-type {\n",
       "        vertical-align: middle;\n",
       "    }\n",
       "\n",
       "    .dataframe tbody tr th {\n",
       "        vertical-align: top;\n",
       "    }\n",
       "\n",
       "    .dataframe thead th {\n",
       "        text-align: right;\n",
       "    }\n",
       "</style>\n",
       "<table border=\"1\" class=\"dataframe\">\n",
       "  <thead>\n",
       "    <tr style=\"text-align: right;\">\n",
       "      <th></th>\n",
       "      <th>brent_close_MEAN</th>\n",
       "      <th>brent_close_MIN</th>\n",
       "      <th>brent_close_MAX</th>\n",
       "      <th>brent_close_MEDIAN</th>\n",
       "      <th>brent_close_STD</th>\n",
       "      <th>brent_open_MEAN</th>\n",
       "      <th>brent_open_MIN</th>\n",
       "      <th>brent_open_MAX</th>\n",
       "      <th>brent_open_MEDIAN</th>\n",
       "      <th>brent_open_STD</th>\n",
       "      <th>...</th>\n",
       "      <th>ethylene_glycol_EU_EUR_MAX</th>\n",
       "      <th>ethylene_glycol_EU_EUR_MEDIAN</th>\n",
       "      <th>ethylene_glycol_EU_EUR_STD</th>\n",
       "      <th>ethylene_glycol_CHN_USD_MEAN</th>\n",
       "      <th>ethylene_glycol_CHN_USD_MIN</th>\n",
       "      <th>ethylene_glycol_CHN_USD_MAX</th>\n",
       "      <th>ethylene_glycol_CHN_USD_MEDIAN</th>\n",
       "      <th>ethylene_glycol_CHN_USD_STD</th>\n",
       "      <th>Year_MEAN</th>\n",
       "      <th>Month_MEAN</th>\n",
       "    </tr>\n",
       "  </thead>\n",
       "  <tbody>\n",
       "    <tr>\n",
       "      <td>0</td>\n",
       "      <td>32.976500</td>\n",
       "      <td>30.21</td>\n",
       "      <td>34.48</td>\n",
       "      <td>33.265</td>\n",
       "      <td>1.202542</td>\n",
       "      <td>32.881500</td>\n",
       "      <td>30.69</td>\n",
       "      <td>34.62</td>\n",
       "      <td>33.200</td>\n",
       "      <td>1.156539</td>\n",
       "      <td>...</td>\n",
       "      <td>622.5</td>\n",
       "      <td>622.50</td>\n",
       "      <td>NaN</td>\n",
       "      <td>860.000</td>\n",
       "      <td>860.0</td>\n",
       "      <td>860.0</td>\n",
       "      <td>860.00</td>\n",
       "      <td>NaN</td>\n",
       "      <td>2004.0</td>\n",
       "      <td>4.0</td>\n",
       "    </tr>\n",
       "    <tr>\n",
       "      <td>1</td>\n",
       "      <td>37.197895</td>\n",
       "      <td>35.93</td>\n",
       "      <td>38.76</td>\n",
       "      <td>37.080</td>\n",
       "      <td>0.828885</td>\n",
       "      <td>36.990526</td>\n",
       "      <td>35.22</td>\n",
       "      <td>38.30</td>\n",
       "      <td>36.960</td>\n",
       "      <td>0.921632</td>\n",
       "      <td>...</td>\n",
       "      <td>650.0</td>\n",
       "      <td>650.00</td>\n",
       "      <td>0.000000</td>\n",
       "      <td>856.875</td>\n",
       "      <td>852.5</td>\n",
       "      <td>860.0</td>\n",
       "      <td>857.50</td>\n",
       "      <td>3.145764</td>\n",
       "      <td>2004.0</td>\n",
       "      <td>5.0</td>\n",
       "    </tr>\n",
       "    <tr>\n",
       "      <td>2</td>\n",
       "      <td>35.446667</td>\n",
       "      <td>33.11</td>\n",
       "      <td>39.08</td>\n",
       "      <td>35.300</td>\n",
       "      <td>1.137987</td>\n",
       "      <td>35.418571</td>\n",
       "      <td>33.31</td>\n",
       "      <td>37.15</td>\n",
       "      <td>35.340</td>\n",
       "      <td>0.933168</td>\n",
       "      <td>...</td>\n",
       "      <td>650.0</td>\n",
       "      <td>647.50</td>\n",
       "      <td>2.886751</td>\n",
       "      <td>853.125</td>\n",
       "      <td>847.5</td>\n",
       "      <td>857.5</td>\n",
       "      <td>853.75</td>\n",
       "      <td>4.269563</td>\n",
       "      <td>2004.0</td>\n",
       "      <td>6.0</td>\n",
       "    </tr>\n",
       "    <tr>\n",
       "      <td>3</td>\n",
       "      <td>37.667273</td>\n",
       "      <td>35.92</td>\n",
       "      <td>40.03</td>\n",
       "      <td>37.835</td>\n",
       "      <td>1.113960</td>\n",
       "      <td>37.364091</td>\n",
       "      <td>34.25</td>\n",
       "      <td>39.55</td>\n",
       "      <td>37.350</td>\n",
       "      <td>1.182534</td>\n",
       "      <td>...</td>\n",
       "      <td>670.0</td>\n",
       "      <td>645.00</td>\n",
       "      <td>12.449900</td>\n",
       "      <td>892.000</td>\n",
       "      <td>862.5</td>\n",
       "      <td>935.0</td>\n",
       "      <td>880.00</td>\n",
       "      <td>29.864276</td>\n",
       "      <td>2004.0</td>\n",
       "      <td>7.0</td>\n",
       "    </tr>\n",
       "    <tr>\n",
       "      <td>4</td>\n",
       "      <td>41.762500</td>\n",
       "      <td>39.61</td>\n",
       "      <td>44.33</td>\n",
       "      <td>41.425</td>\n",
       "      <td>1.504243</td>\n",
       "      <td>41.787000</td>\n",
       "      <td>39.70</td>\n",
       "      <td>44.50</td>\n",
       "      <td>41.455</td>\n",
       "      <td>1.460692</td>\n",
       "      <td>...</td>\n",
       "      <td>795.0</td>\n",
       "      <td>743.75</td>\n",
       "      <td>56.545520</td>\n",
       "      <td>1072.500</td>\n",
       "      <td>955.0</td>\n",
       "      <td>1180.0</td>\n",
       "      <td>1077.50</td>\n",
       "      <td>98.361578</td>\n",
       "      <td>2004.0</td>\n",
       "      <td>8.0</td>\n",
       "    </tr>\n",
       "    <tr>\n",
       "      <td>...</td>\n",
       "      <td>...</td>\n",
       "      <td>...</td>\n",
       "      <td>...</td>\n",
       "      <td>...</td>\n",
       "      <td>...</td>\n",
       "      <td>...</td>\n",
       "      <td>...</td>\n",
       "      <td>...</td>\n",
       "      <td>...</td>\n",
       "      <td>...</td>\n",
       "      <td>...</td>\n",
       "      <td>...</td>\n",
       "      <td>...</td>\n",
       "      <td>...</td>\n",
       "      <td>...</td>\n",
       "      <td>...</td>\n",
       "      <td>...</td>\n",
       "      <td>...</td>\n",
       "      <td>...</td>\n",
       "      <td>...</td>\n",
       "      <td>...</td>\n",
       "    </tr>\n",
       "    <tr>\n",
       "      <td>180</td>\n",
       "      <td>71.628571</td>\n",
       "      <td>69.01</td>\n",
       "      <td>74.57</td>\n",
       "      <td>71.620</td>\n",
       "      <td>1.706565</td>\n",
       "      <td>71.375238</td>\n",
       "      <td>67.58</td>\n",
       "      <td>74.46</td>\n",
       "      <td>71.550</td>\n",
       "      <td>1.851768</td>\n",
       "      <td>...</td>\n",
       "      <td>607.5</td>\n",
       "      <td>601.25</td>\n",
       "      <td>11.250000</td>\n",
       "      <td>598.000</td>\n",
       "      <td>589.5</td>\n",
       "      <td>604.0</td>\n",
       "      <td>599.25</td>\n",
       "      <td>7.222650</td>\n",
       "      <td>2019.0</td>\n",
       "      <td>4.0</td>\n",
       "    </tr>\n",
       "    <tr>\n",
       "      <td>181</td>\n",
       "      <td>70.134286</td>\n",
       "      <td>64.49</td>\n",
       "      <td>72.62</td>\n",
       "      <td>70.390</td>\n",
       "      <td>1.904646</td>\n",
       "      <td>70.450952</td>\n",
       "      <td>66.24</td>\n",
       "      <td>72.82</td>\n",
       "      <td>70.480</td>\n",
       "      <td>1.476099</td>\n",
       "      <td>...</td>\n",
       "      <td>577.5</td>\n",
       "      <td>575.00</td>\n",
       "      <td>2.850439</td>\n",
       "      <td>551.600</td>\n",
       "      <td>528.5</td>\n",
       "      <td>584.0</td>\n",
       "      <td>542.00</td>\n",
       "      <td>24.579972</td>\n",
       "      <td>2019.0</td>\n",
       "      <td>5.0</td>\n",
       "    </tr>\n",
       "    <tr>\n",
       "      <td>182</td>\n",
       "      <td>63.164737</td>\n",
       "      <td>59.97</td>\n",
       "      <td>66.55</td>\n",
       "      <td>62.290</td>\n",
       "      <td>2.078291</td>\n",
       "      <td>62.934737</td>\n",
       "      <td>59.94</td>\n",
       "      <td>66.51</td>\n",
       "      <td>62.400</td>\n",
       "      <td>2.056992</td>\n",
       "      <td>...</td>\n",
       "      <td>545.0</td>\n",
       "      <td>528.75</td>\n",
       "      <td>14.215602</td>\n",
       "      <td>536.250</td>\n",
       "      <td>529.5</td>\n",
       "      <td>547.0</td>\n",
       "      <td>534.25</td>\n",
       "      <td>7.643080</td>\n",
       "      <td>2019.0</td>\n",
       "      <td>6.0</td>\n",
       "    </tr>\n",
       "    <tr>\n",
       "      <td>183</td>\n",
       "      <td>NaN</td>\n",
       "      <td>NaN</td>\n",
       "      <td>NaN</td>\n",
       "      <td>NaN</td>\n",
       "      <td>NaN</td>\n",
       "      <td>NaN</td>\n",
       "      <td>NaN</td>\n",
       "      <td>NaN</td>\n",
       "      <td>NaN</td>\n",
       "      <td>NaN</td>\n",
       "      <td>...</td>\n",
       "      <td>502.5</td>\n",
       "      <td>495.00</td>\n",
       "      <td>10.282469</td>\n",
       "      <td>536.500</td>\n",
       "      <td>528.5</td>\n",
       "      <td>543.5</td>\n",
       "      <td>537.00</td>\n",
       "      <td>7.164728</td>\n",
       "      <td>2019.0</td>\n",
       "      <td>7.0</td>\n",
       "    </tr>\n",
       "    <tr>\n",
       "      <td>184</td>\n",
       "      <td>NaN</td>\n",
       "      <td>NaN</td>\n",
       "      <td>NaN</td>\n",
       "      <td>NaN</td>\n",
       "      <td>NaN</td>\n",
       "      <td>NaN</td>\n",
       "      <td>NaN</td>\n",
       "      <td>NaN</td>\n",
       "      <td>NaN</td>\n",
       "      <td>NaN</td>\n",
       "      <td>...</td>\n",
       "      <td>475.0</td>\n",
       "      <td>465.00</td>\n",
       "      <td>6.614378</td>\n",
       "      <td>532.000</td>\n",
       "      <td>517.5</td>\n",
       "      <td>547.5</td>\n",
       "      <td>531.00</td>\n",
       "      <td>15.024979</td>\n",
       "      <td>2019.0</td>\n",
       "      <td>8.0</td>\n",
       "    </tr>\n",
       "  </tbody>\n",
       "</table>\n",
       "<p>185 rows × 67 columns</p>\n",
       "</div>"
      ],
      "text/plain": [
       "     brent_close_MEAN  brent_close_MIN  brent_close_MAX  brent_close_MEDIAN  \\\n",
       "0           32.976500            30.21            34.48              33.265   \n",
       "1           37.197895            35.93            38.76              37.080   \n",
       "2           35.446667            33.11            39.08              35.300   \n",
       "3           37.667273            35.92            40.03              37.835   \n",
       "4           41.762500            39.61            44.33              41.425   \n",
       "..                ...              ...              ...                 ...   \n",
       "180         71.628571            69.01            74.57              71.620   \n",
       "181         70.134286            64.49            72.62              70.390   \n",
       "182         63.164737            59.97            66.55              62.290   \n",
       "183               NaN              NaN              NaN                 NaN   \n",
       "184               NaN              NaN              NaN                 NaN   \n",
       "\n",
       "     brent_close_STD  brent_open_MEAN  brent_open_MIN  brent_open_MAX  \\\n",
       "0           1.202542        32.881500           30.69           34.62   \n",
       "1           0.828885        36.990526           35.22           38.30   \n",
       "2           1.137987        35.418571           33.31           37.15   \n",
       "3           1.113960        37.364091           34.25           39.55   \n",
       "4           1.504243        41.787000           39.70           44.50   \n",
       "..               ...              ...             ...             ...   \n",
       "180         1.706565        71.375238           67.58           74.46   \n",
       "181         1.904646        70.450952           66.24           72.82   \n",
       "182         2.078291        62.934737           59.94           66.51   \n",
       "183              NaN              NaN             NaN             NaN   \n",
       "184              NaN              NaN             NaN             NaN   \n",
       "\n",
       "     brent_open_MEDIAN  brent_open_STD  ...  ethylene_glycol_EU_EUR_MAX  \\\n",
       "0               33.200        1.156539  ...                       622.5   \n",
       "1               36.960        0.921632  ...                       650.0   \n",
       "2               35.340        0.933168  ...                       650.0   \n",
       "3               37.350        1.182534  ...                       670.0   \n",
       "4               41.455        1.460692  ...                       795.0   \n",
       "..                 ...             ...  ...                         ...   \n",
       "180             71.550        1.851768  ...                       607.5   \n",
       "181             70.480        1.476099  ...                       577.5   \n",
       "182             62.400        2.056992  ...                       545.0   \n",
       "183                NaN             NaN  ...                       502.5   \n",
       "184                NaN             NaN  ...                       475.0   \n",
       "\n",
       "     ethylene_glycol_EU_EUR_MEDIAN  ethylene_glycol_EU_EUR_STD  \\\n",
       "0                           622.50                         NaN   \n",
       "1                           650.00                    0.000000   \n",
       "2                           647.50                    2.886751   \n",
       "3                           645.00                   12.449900   \n",
       "4                           743.75                   56.545520   \n",
       "..                             ...                         ...   \n",
       "180                         601.25                   11.250000   \n",
       "181                         575.00                    2.850439   \n",
       "182                         528.75                   14.215602   \n",
       "183                         495.00                   10.282469   \n",
       "184                         465.00                    6.614378   \n",
       "\n",
       "     ethylene_glycol_CHN_USD_MEAN  ethylene_glycol_CHN_USD_MIN  \\\n",
       "0                         860.000                        860.0   \n",
       "1                         856.875                        852.5   \n",
       "2                         853.125                        847.5   \n",
       "3                         892.000                        862.5   \n",
       "4                        1072.500                        955.0   \n",
       "..                            ...                          ...   \n",
       "180                       598.000                        589.5   \n",
       "181                       551.600                        528.5   \n",
       "182                       536.250                        529.5   \n",
       "183                       536.500                        528.5   \n",
       "184                       532.000                        517.5   \n",
       "\n",
       "     ethylene_glycol_CHN_USD_MAX  ethylene_glycol_CHN_USD_MEDIAN  \\\n",
       "0                          860.0                          860.00   \n",
       "1                          860.0                          857.50   \n",
       "2                          857.5                          853.75   \n",
       "3                          935.0                          880.00   \n",
       "4                         1180.0                         1077.50   \n",
       "..                           ...                             ...   \n",
       "180                        604.0                          599.25   \n",
       "181                        584.0                          542.00   \n",
       "182                        547.0                          534.25   \n",
       "183                        543.5                          537.00   \n",
       "184                        547.5                          531.00   \n",
       "\n",
       "     ethylene_glycol_CHN_USD_STD  Year_MEAN  Month_MEAN  \n",
       "0                            NaN     2004.0         4.0  \n",
       "1                       3.145764     2004.0         5.0  \n",
       "2                       4.269563     2004.0         6.0  \n",
       "3                      29.864276     2004.0         7.0  \n",
       "4                      98.361578     2004.0         8.0  \n",
       "..                           ...        ...         ...  \n",
       "180                     7.222650     2019.0         4.0  \n",
       "181                    24.579972     2019.0         5.0  \n",
       "182                     7.643080     2019.0         6.0  \n",
       "183                     7.164728     2019.0         7.0  \n",
       "184                    15.024979     2019.0         8.0  \n",
       "\n",
       "[185 rows x 67 columns]"
      ]
     },
     "execution_count": 237,
     "metadata": {},
     "output_type": "execute_result"
    }
   ],
   "source": [
    "train_data"
   ]
  },
  {
   "cell_type": "code",
   "execution_count": 238,
   "metadata": {},
   "outputs": [
    {
     "name": "stdout",
     "output_type": "stream",
     "text": [
      "129\n"
     ]
    }
   ],
   "source": [
    "NaNList = []\n",
    "for i in range(0, train_data.shape[0]):\n",
    "    for k in range(0,train_data.shape[1]):\n",
    "        if train_data.iloc[[i], [k]].isnull().bool():\n",
    "              NaNList.append(k)\n",
    "\n",
    "print(len(NaNList))"
   ]
  },
  {
   "cell_type": "code",
   "execution_count": 239,
   "metadata": {},
   "outputs": [
    {
     "name": "stdout",
     "output_type": "stream",
     "text": [
      "column number =0,  amount of NaN = 2 \n",
      "column number =1,  amount of NaN = 2 \n",
      "column number =2,  amount of NaN = 2 \n",
      "column number =3,  amount of NaN = 2 \n",
      "column number =4,  amount of NaN = 2 \n",
      "column number =5,  amount of NaN = 2 \n",
      "column number =6,  amount of NaN = 2 \n",
      "column number =7,  amount of NaN = 2 \n",
      "column number =8,  amount of NaN = 2 \n",
      "column number =9,  amount of NaN = 2 \n",
      "column number =10,  amount of NaN = 2 \n",
      "column number =11,  amount of NaN = 2 \n",
      "column number =12,  amount of NaN = 2 \n",
      "column number =13,  amount of NaN = 2 \n",
      "column number =14,  amount of NaN = 2 \n",
      "column number =15,  amount of NaN = 2 \n",
      "column number =16,  amount of NaN = 2 \n",
      "column number =17,  amount of NaN = 2 \n",
      "column number =18,  amount of NaN = 2 \n",
      "column number =19,  amount of NaN = 2 \n",
      "column number =20,  amount of NaN = 2 \n",
      "column number =21,  amount of NaN = 2 \n",
      "column number =22,  amount of NaN = 2 \n",
      "column number =23,  amount of NaN = 2 \n",
      "column number =24,  amount of NaN = 2 \n",
      "column number =25,  amount of NaN = 2 \n",
      "column number =26,  amount of NaN = 2 \n",
      "column number =27,  amount of NaN = 2 \n",
      "column number =28,  amount of NaN = 2 \n",
      "column number =29,  amount of NaN = 2 \n",
      "column number =30,  amount of NaN = 2 \n",
      "column number =31,  amount of NaN = 2 \n",
      "column number =32,  amount of NaN = 2 \n",
      "column number =33,  amount of NaN = 2 \n",
      "column number =34,  amount of NaN = 2 \n",
      "column number =35,  amount of NaN = 2 \n",
      "column number =36,  amount of NaN = 2 \n",
      "column number =37,  amount of NaN = 2 \n",
      "column number =38,  amount of NaN = 2 \n",
      "column number =39,  amount of NaN = 2 \n",
      "column number =40,  amount of NaN = 9 \n",
      "column number =41,  amount of NaN = 9 \n",
      "column number =42,  amount of NaN = 9 \n",
      "column number =43,  amount of NaN = 9 \n",
      "column number =44,  amount of NaN = 9 \n",
      "column number =45,  amount of NaN = 0 \n",
      "column number =46,  amount of NaN = 0 \n",
      "column number =47,  amount of NaN = 0 \n",
      "column number =48,  amount of NaN = 0 \n",
      "column number =49,  amount of NaN = 1 \n",
      "column number =50,  amount of NaN = 0 \n",
      "column number =51,  amount of NaN = 0 \n",
      "column number =52,  amount of NaN = 0 \n",
      "column number =53,  amount of NaN = 0 \n",
      "column number =54,  amount of NaN = 1 \n",
      "column number =55,  amount of NaN = 0 \n",
      "column number =56,  amount of NaN = 0 \n",
      "column number =57,  amount of NaN = 0 \n",
      "column number =58,  amount of NaN = 0 \n",
      "column number =59,  amount of NaN = 1 \n",
      "column number =60,  amount of NaN = 0 \n",
      "column number =61,  amount of NaN = 0 \n",
      "column number =62,  amount of NaN = 0 \n",
      "column number =63,  amount of NaN = 0 \n",
      "column number =64,  amount of NaN = 1 \n",
      "column number =65,  amount of NaN = 0 \n",
      "column number =66,  amount of NaN = 0 \n"
     ]
    }
   ],
   "source": [
    "for i in range(0, train_data.shape[1]):\n",
    "    c=0\n",
    "    for k in NaNList:\n",
    "        if i == k:\n",
    "            c = c + 1\n",
    "    print ('column number ={0},  amount of NaN = {1} '.format(i, c))"
   ]
  },
  {
   "cell_type": "code",
   "execution_count": 240,
   "metadata": {},
   "outputs": [],
   "source": [
    "train_data.drop([0], axis = 0, inplace = True)\n",
    "train_data = train_data.reset_index(drop=True)"
   ]
  },
  {
   "cell_type": "code",
   "execution_count": 241,
   "metadata": {},
   "outputs": [
    {
     "data": {
      "text/html": [
       "<div>\n",
       "<style scoped>\n",
       "    .dataframe tbody tr th:only-of-type {\n",
       "        vertical-align: middle;\n",
       "    }\n",
       "\n",
       "    .dataframe tbody tr th {\n",
       "        vertical-align: top;\n",
       "    }\n",
       "\n",
       "    .dataframe thead th {\n",
       "        text-align: right;\n",
       "    }\n",
       "</style>\n",
       "<table border=\"1\" class=\"dataframe\">\n",
       "  <thead>\n",
       "    <tr style=\"text-align: right;\">\n",
       "      <th></th>\n",
       "      <th>brent_close_MEAN</th>\n",
       "      <th>brent_close_MIN</th>\n",
       "      <th>brent_close_MAX</th>\n",
       "      <th>brent_close_MEDIAN</th>\n",
       "      <th>brent_close_STD</th>\n",
       "      <th>brent_open_MEAN</th>\n",
       "      <th>brent_open_MIN</th>\n",
       "      <th>brent_open_MAX</th>\n",
       "      <th>brent_open_MEDIAN</th>\n",
       "      <th>brent_open_STD</th>\n",
       "      <th>...</th>\n",
       "      <th>ethylene_glycol_EU_EUR_MAX</th>\n",
       "      <th>ethylene_glycol_EU_EUR_MEDIAN</th>\n",
       "      <th>ethylene_glycol_EU_EUR_STD</th>\n",
       "      <th>ethylene_glycol_CHN_USD_MEAN</th>\n",
       "      <th>ethylene_glycol_CHN_USD_MIN</th>\n",
       "      <th>ethylene_glycol_CHN_USD_MAX</th>\n",
       "      <th>ethylene_glycol_CHN_USD_MEDIAN</th>\n",
       "      <th>ethylene_glycol_CHN_USD_STD</th>\n",
       "      <th>Year_MEAN</th>\n",
       "      <th>Month_MEAN</th>\n",
       "    </tr>\n",
       "  </thead>\n",
       "  <tbody>\n",
       "    <tr>\n",
       "      <td>0</td>\n",
       "      <td>37.197895</td>\n",
       "      <td>35.93</td>\n",
       "      <td>38.76</td>\n",
       "      <td>37.080</td>\n",
       "      <td>0.828885</td>\n",
       "      <td>36.990526</td>\n",
       "      <td>35.22</td>\n",
       "      <td>38.30</td>\n",
       "      <td>36.960</td>\n",
       "      <td>0.921632</td>\n",
       "      <td>...</td>\n",
       "      <td>650.0</td>\n",
       "      <td>650.00</td>\n",
       "      <td>0.000000</td>\n",
       "      <td>856.875</td>\n",
       "      <td>852.5</td>\n",
       "      <td>860.0</td>\n",
       "      <td>857.50</td>\n",
       "      <td>3.145764</td>\n",
       "      <td>2004.0</td>\n",
       "      <td>5.0</td>\n",
       "    </tr>\n",
       "    <tr>\n",
       "      <td>1</td>\n",
       "      <td>35.446667</td>\n",
       "      <td>33.11</td>\n",
       "      <td>39.08</td>\n",
       "      <td>35.300</td>\n",
       "      <td>1.137987</td>\n",
       "      <td>35.418571</td>\n",
       "      <td>33.31</td>\n",
       "      <td>37.15</td>\n",
       "      <td>35.340</td>\n",
       "      <td>0.933168</td>\n",
       "      <td>...</td>\n",
       "      <td>650.0</td>\n",
       "      <td>647.50</td>\n",
       "      <td>2.886751</td>\n",
       "      <td>853.125</td>\n",
       "      <td>847.5</td>\n",
       "      <td>857.5</td>\n",
       "      <td>853.75</td>\n",
       "      <td>4.269563</td>\n",
       "      <td>2004.0</td>\n",
       "      <td>6.0</td>\n",
       "    </tr>\n",
       "    <tr>\n",
       "      <td>2</td>\n",
       "      <td>37.667273</td>\n",
       "      <td>35.92</td>\n",
       "      <td>40.03</td>\n",
       "      <td>37.835</td>\n",
       "      <td>1.113960</td>\n",
       "      <td>37.364091</td>\n",
       "      <td>34.25</td>\n",
       "      <td>39.55</td>\n",
       "      <td>37.350</td>\n",
       "      <td>1.182534</td>\n",
       "      <td>...</td>\n",
       "      <td>670.0</td>\n",
       "      <td>645.00</td>\n",
       "      <td>12.449900</td>\n",
       "      <td>892.000</td>\n",
       "      <td>862.5</td>\n",
       "      <td>935.0</td>\n",
       "      <td>880.00</td>\n",
       "      <td>29.864276</td>\n",
       "      <td>2004.0</td>\n",
       "      <td>7.0</td>\n",
       "    </tr>\n",
       "    <tr>\n",
       "      <td>3</td>\n",
       "      <td>41.762500</td>\n",
       "      <td>39.61</td>\n",
       "      <td>44.33</td>\n",
       "      <td>41.425</td>\n",
       "      <td>1.504243</td>\n",
       "      <td>41.787000</td>\n",
       "      <td>39.70</td>\n",
       "      <td>44.50</td>\n",
       "      <td>41.455</td>\n",
       "      <td>1.460692</td>\n",
       "      <td>...</td>\n",
       "      <td>795.0</td>\n",
       "      <td>743.75</td>\n",
       "      <td>56.545520</td>\n",
       "      <td>1072.500</td>\n",
       "      <td>955.0</td>\n",
       "      <td>1180.0</td>\n",
       "      <td>1077.50</td>\n",
       "      <td>98.361578</td>\n",
       "      <td>2004.0</td>\n",
       "      <td>8.0</td>\n",
       "    </tr>\n",
       "    <tr>\n",
       "      <td>4</td>\n",
       "      <td>42.855909</td>\n",
       "      <td>40.20</td>\n",
       "      <td>46.45</td>\n",
       "      <td>42.035</td>\n",
       "      <td>2.185641</td>\n",
       "      <td>42.626364</td>\n",
       "      <td>39.90</td>\n",
       "      <td>46.80</td>\n",
       "      <td>41.815</td>\n",
       "      <td>2.209282</td>\n",
       "      <td>...</td>\n",
       "      <td>930.0</td>\n",
       "      <td>927.50</td>\n",
       "      <td>56.715665</td>\n",
       "      <td>1158.750</td>\n",
       "      <td>1130.0</td>\n",
       "      <td>1195.0</td>\n",
       "      <td>1155.00</td>\n",
       "      <td>27.195281</td>\n",
       "      <td>2004.0</td>\n",
       "      <td>9.0</td>\n",
       "    </tr>\n",
       "  </tbody>\n",
       "</table>\n",
       "<p>5 rows × 67 columns</p>\n",
       "</div>"
      ],
      "text/plain": [
       "   brent_close_MEAN  brent_close_MIN  brent_close_MAX  brent_close_MEDIAN  \\\n",
       "0         37.197895            35.93            38.76              37.080   \n",
       "1         35.446667            33.11            39.08              35.300   \n",
       "2         37.667273            35.92            40.03              37.835   \n",
       "3         41.762500            39.61            44.33              41.425   \n",
       "4         42.855909            40.20            46.45              42.035   \n",
       "\n",
       "   brent_close_STD  brent_open_MEAN  brent_open_MIN  brent_open_MAX  \\\n",
       "0         0.828885        36.990526           35.22           38.30   \n",
       "1         1.137987        35.418571           33.31           37.15   \n",
       "2         1.113960        37.364091           34.25           39.55   \n",
       "3         1.504243        41.787000           39.70           44.50   \n",
       "4         2.185641        42.626364           39.90           46.80   \n",
       "\n",
       "   brent_open_MEDIAN  brent_open_STD  ...  ethylene_glycol_EU_EUR_MAX  \\\n",
       "0             36.960        0.921632  ...                       650.0   \n",
       "1             35.340        0.933168  ...                       650.0   \n",
       "2             37.350        1.182534  ...                       670.0   \n",
       "3             41.455        1.460692  ...                       795.0   \n",
       "4             41.815        2.209282  ...                       930.0   \n",
       "\n",
       "   ethylene_glycol_EU_EUR_MEDIAN  ethylene_glycol_EU_EUR_STD  \\\n",
       "0                         650.00                    0.000000   \n",
       "1                         647.50                    2.886751   \n",
       "2                         645.00                   12.449900   \n",
       "3                         743.75                   56.545520   \n",
       "4                         927.50                   56.715665   \n",
       "\n",
       "   ethylene_glycol_CHN_USD_MEAN  ethylene_glycol_CHN_USD_MIN  \\\n",
       "0                       856.875                        852.5   \n",
       "1                       853.125                        847.5   \n",
       "2                       892.000                        862.5   \n",
       "3                      1072.500                        955.0   \n",
       "4                      1158.750                       1130.0   \n",
       "\n",
       "   ethylene_glycol_CHN_USD_MAX  ethylene_glycol_CHN_USD_MEDIAN  \\\n",
       "0                        860.0                          857.50   \n",
       "1                        857.5                          853.75   \n",
       "2                        935.0                          880.00   \n",
       "3                       1180.0                         1077.50   \n",
       "4                       1195.0                         1155.00   \n",
       "\n",
       "   ethylene_glycol_CHN_USD_STD  Year_MEAN  Month_MEAN  \n",
       "0                     3.145764     2004.0         5.0  \n",
       "1                     4.269563     2004.0         6.0  \n",
       "2                    29.864276     2004.0         7.0  \n",
       "3                    98.361578     2004.0         8.0  \n",
       "4                    27.195281     2004.0         9.0  \n",
       "\n",
       "[5 rows x 67 columns]"
      ]
     },
     "execution_count": 241,
     "metadata": {},
     "output_type": "execute_result"
    }
   ],
   "source": [
    "train_data.head()"
   ]
  },
  {
   "cell_type": "code",
   "execution_count": 242,
   "metadata": {},
   "outputs": [],
   "source": [
    "#train_data.to_excel('pre_train_data.xlsx')"
   ]
  },
  {
   "cell_type": "code",
   "execution_count": 243,
   "metadata": {},
   "outputs": [],
   "source": [
    "train_data_ALL = train_data"
   ]
  },
  {
   "cell_type": "code",
   "execution_count": 244,
   "metadata": {},
   "outputs": [
    {
     "data": {
      "text/plain": [
       "(184, 67)"
      ]
     },
     "execution_count": 244,
     "metadata": {},
     "output_type": "execute_result"
    }
   ],
   "source": [
    "train_data.shape"
   ]
  },
  {
   "cell_type": "code",
   "execution_count": 245,
   "metadata": {},
   "outputs": [],
   "source": [
    "train_data['pet'] = train_target[['pet']]"
   ]
  },
  {
   "cell_type": "code",
   "execution_count": 246,
   "metadata": {
    "scrolled": true
   },
   "outputs": [
    {
     "data": {
      "text/html": [
       "<div>\n",
       "<style scoped>\n",
       "    .dataframe tbody tr th:only-of-type {\n",
       "        vertical-align: middle;\n",
       "    }\n",
       "\n",
       "    .dataframe tbody tr th {\n",
       "        vertical-align: top;\n",
       "    }\n",
       "\n",
       "    .dataframe thead th {\n",
       "        text-align: right;\n",
       "    }\n",
       "</style>\n",
       "<table border=\"1\" class=\"dataframe\">\n",
       "  <thead>\n",
       "    <tr style=\"text-align: right;\">\n",
       "      <th></th>\n",
       "      <th>brent_close_MEAN</th>\n",
       "      <th>brent_close_MIN</th>\n",
       "      <th>brent_close_MAX</th>\n",
       "      <th>brent_close_MEDIAN</th>\n",
       "      <th>brent_close_STD</th>\n",
       "      <th>brent_open_MEAN</th>\n",
       "      <th>brent_open_MIN</th>\n",
       "      <th>brent_open_MAX</th>\n",
       "      <th>brent_open_MEDIAN</th>\n",
       "      <th>brent_open_STD</th>\n",
       "      <th>...</th>\n",
       "      <th>ethylene_glycol_EU_EUR_MEDIAN</th>\n",
       "      <th>ethylene_glycol_EU_EUR_STD</th>\n",
       "      <th>ethylene_glycol_CHN_USD_MEAN</th>\n",
       "      <th>ethylene_glycol_CHN_USD_MIN</th>\n",
       "      <th>ethylene_glycol_CHN_USD_MAX</th>\n",
       "      <th>ethylene_glycol_CHN_USD_MEDIAN</th>\n",
       "      <th>ethylene_glycol_CHN_USD_STD</th>\n",
       "      <th>Year_MEAN</th>\n",
       "      <th>Month_MEAN</th>\n",
       "      <th>pet</th>\n",
       "    </tr>\n",
       "  </thead>\n",
       "  <tbody>\n",
       "    <tr>\n",
       "      <td>0</td>\n",
       "      <td>37.197895</td>\n",
       "      <td>35.93</td>\n",
       "      <td>38.76</td>\n",
       "      <td>37.080</td>\n",
       "      <td>0.828885</td>\n",
       "      <td>36.990526</td>\n",
       "      <td>35.22</td>\n",
       "      <td>38.30</td>\n",
       "      <td>36.960</td>\n",
       "      <td>0.921632</td>\n",
       "      <td>...</td>\n",
       "      <td>650.00</td>\n",
       "      <td>0.000000</td>\n",
       "      <td>856.875</td>\n",
       "      <td>852.5</td>\n",
       "      <td>860.0</td>\n",
       "      <td>857.50</td>\n",
       "      <td>3.145764</td>\n",
       "      <td>2004.0</td>\n",
       "      <td>5.0</td>\n",
       "      <td>961.25</td>\n",
       "    </tr>\n",
       "    <tr>\n",
       "      <td>1</td>\n",
       "      <td>35.446667</td>\n",
       "      <td>33.11</td>\n",
       "      <td>39.08</td>\n",
       "      <td>35.300</td>\n",
       "      <td>1.137987</td>\n",
       "      <td>35.418571</td>\n",
       "      <td>33.31</td>\n",
       "      <td>37.15</td>\n",
       "      <td>35.340</td>\n",
       "      <td>0.933168</td>\n",
       "      <td>...</td>\n",
       "      <td>647.50</td>\n",
       "      <td>2.886751</td>\n",
       "      <td>853.125</td>\n",
       "      <td>847.5</td>\n",
       "      <td>857.5</td>\n",
       "      <td>853.75</td>\n",
       "      <td>4.269563</td>\n",
       "      <td>2004.0</td>\n",
       "      <td>6.0</td>\n",
       "      <td>962.00</td>\n",
       "    </tr>\n",
       "    <tr>\n",
       "      <td>2</td>\n",
       "      <td>37.667273</td>\n",
       "      <td>35.92</td>\n",
       "      <td>40.03</td>\n",
       "      <td>37.835</td>\n",
       "      <td>1.113960</td>\n",
       "      <td>37.364091</td>\n",
       "      <td>34.25</td>\n",
       "      <td>39.55</td>\n",
       "      <td>37.350</td>\n",
       "      <td>1.182534</td>\n",
       "      <td>...</td>\n",
       "      <td>645.00</td>\n",
       "      <td>12.449900</td>\n",
       "      <td>892.000</td>\n",
       "      <td>862.5</td>\n",
       "      <td>935.0</td>\n",
       "      <td>880.00</td>\n",
       "      <td>29.864276</td>\n",
       "      <td>2004.0</td>\n",
       "      <td>7.0</td>\n",
       "      <td>1053.75</td>\n",
       "    </tr>\n",
       "    <tr>\n",
       "      <td>3</td>\n",
       "      <td>41.762500</td>\n",
       "      <td>39.61</td>\n",
       "      <td>44.33</td>\n",
       "      <td>41.425</td>\n",
       "      <td>1.504243</td>\n",
       "      <td>41.787000</td>\n",
       "      <td>39.70</td>\n",
       "      <td>44.50</td>\n",
       "      <td>41.455</td>\n",
       "      <td>1.460692</td>\n",
       "      <td>...</td>\n",
       "      <td>743.75</td>\n",
       "      <td>56.545520</td>\n",
       "      <td>1072.500</td>\n",
       "      <td>955.0</td>\n",
       "      <td>1180.0</td>\n",
       "      <td>1077.50</td>\n",
       "      <td>98.361578</td>\n",
       "      <td>2004.0</td>\n",
       "      <td>8.0</td>\n",
       "      <td>1180.00</td>\n",
       "    </tr>\n",
       "    <tr>\n",
       "      <td>4</td>\n",
       "      <td>42.855909</td>\n",
       "      <td>40.20</td>\n",
       "      <td>46.45</td>\n",
       "      <td>42.035</td>\n",
       "      <td>2.185641</td>\n",
       "      <td>42.626364</td>\n",
       "      <td>39.90</td>\n",
       "      <td>46.80</td>\n",
       "      <td>41.815</td>\n",
       "      <td>2.209282</td>\n",
       "      <td>...</td>\n",
       "      <td>927.50</td>\n",
       "      <td>56.715665</td>\n",
       "      <td>1158.750</td>\n",
       "      <td>1130.0</td>\n",
       "      <td>1195.0</td>\n",
       "      <td>1155.00</td>\n",
       "      <td>27.195281</td>\n",
       "      <td>2004.0</td>\n",
       "      <td>9.0</td>\n",
       "      <td>1240.00</td>\n",
       "    </tr>\n",
       "    <tr>\n",
       "      <td>...</td>\n",
       "      <td>...</td>\n",
       "      <td>...</td>\n",
       "      <td>...</td>\n",
       "      <td>...</td>\n",
       "      <td>...</td>\n",
       "      <td>...</td>\n",
       "      <td>...</td>\n",
       "      <td>...</td>\n",
       "      <td>...</td>\n",
       "      <td>...</td>\n",
       "      <td>...</td>\n",
       "      <td>...</td>\n",
       "      <td>...</td>\n",
       "      <td>...</td>\n",
       "      <td>...</td>\n",
       "      <td>...</td>\n",
       "      <td>...</td>\n",
       "      <td>...</td>\n",
       "      <td>...</td>\n",
       "      <td>...</td>\n",
       "      <td>...</td>\n",
       "    </tr>\n",
       "    <tr>\n",
       "      <td>179</td>\n",
       "      <td>71.628571</td>\n",
       "      <td>69.01</td>\n",
       "      <td>74.57</td>\n",
       "      <td>71.620</td>\n",
       "      <td>1.706565</td>\n",
       "      <td>71.375238</td>\n",
       "      <td>67.58</td>\n",
       "      <td>74.46</td>\n",
       "      <td>71.550</td>\n",
       "      <td>1.851768</td>\n",
       "      <td>...</td>\n",
       "      <td>601.25</td>\n",
       "      <td>11.250000</td>\n",
       "      <td>598.000</td>\n",
       "      <td>589.5</td>\n",
       "      <td>604.0</td>\n",
       "      <td>599.25</td>\n",
       "      <td>7.222650</td>\n",
       "      <td>2019.0</td>\n",
       "      <td>4.0</td>\n",
       "      <td>NaN</td>\n",
       "    </tr>\n",
       "    <tr>\n",
       "      <td>180</td>\n",
       "      <td>70.134286</td>\n",
       "      <td>64.49</td>\n",
       "      <td>72.62</td>\n",
       "      <td>70.390</td>\n",
       "      <td>1.904646</td>\n",
       "      <td>70.450952</td>\n",
       "      <td>66.24</td>\n",
       "      <td>72.82</td>\n",
       "      <td>70.480</td>\n",
       "      <td>1.476099</td>\n",
       "      <td>...</td>\n",
       "      <td>575.00</td>\n",
       "      <td>2.850439</td>\n",
       "      <td>551.600</td>\n",
       "      <td>528.5</td>\n",
       "      <td>584.0</td>\n",
       "      <td>542.00</td>\n",
       "      <td>24.579972</td>\n",
       "      <td>2019.0</td>\n",
       "      <td>5.0</td>\n",
       "      <td>NaN</td>\n",
       "    </tr>\n",
       "    <tr>\n",
       "      <td>181</td>\n",
       "      <td>63.164737</td>\n",
       "      <td>59.97</td>\n",
       "      <td>66.55</td>\n",
       "      <td>62.290</td>\n",
       "      <td>2.078291</td>\n",
       "      <td>62.934737</td>\n",
       "      <td>59.94</td>\n",
       "      <td>66.51</td>\n",
       "      <td>62.400</td>\n",
       "      <td>2.056992</td>\n",
       "      <td>...</td>\n",
       "      <td>528.75</td>\n",
       "      <td>14.215602</td>\n",
       "      <td>536.250</td>\n",
       "      <td>529.5</td>\n",
       "      <td>547.0</td>\n",
       "      <td>534.25</td>\n",
       "      <td>7.643080</td>\n",
       "      <td>2019.0</td>\n",
       "      <td>6.0</td>\n",
       "      <td>NaN</td>\n",
       "    </tr>\n",
       "    <tr>\n",
       "      <td>182</td>\n",
       "      <td>NaN</td>\n",
       "      <td>NaN</td>\n",
       "      <td>NaN</td>\n",
       "      <td>NaN</td>\n",
       "      <td>NaN</td>\n",
       "      <td>NaN</td>\n",
       "      <td>NaN</td>\n",
       "      <td>NaN</td>\n",
       "      <td>NaN</td>\n",
       "      <td>NaN</td>\n",
       "      <td>...</td>\n",
       "      <td>495.00</td>\n",
       "      <td>10.282469</td>\n",
       "      <td>536.500</td>\n",
       "      <td>528.5</td>\n",
       "      <td>543.5</td>\n",
       "      <td>537.00</td>\n",
       "      <td>7.164728</td>\n",
       "      <td>2019.0</td>\n",
       "      <td>7.0</td>\n",
       "      <td>NaN</td>\n",
       "    </tr>\n",
       "    <tr>\n",
       "      <td>183</td>\n",
       "      <td>NaN</td>\n",
       "      <td>NaN</td>\n",
       "      <td>NaN</td>\n",
       "      <td>NaN</td>\n",
       "      <td>NaN</td>\n",
       "      <td>NaN</td>\n",
       "      <td>NaN</td>\n",
       "      <td>NaN</td>\n",
       "      <td>NaN</td>\n",
       "      <td>NaN</td>\n",
       "      <td>...</td>\n",
       "      <td>465.00</td>\n",
       "      <td>6.614378</td>\n",
       "      <td>532.000</td>\n",
       "      <td>517.5</td>\n",
       "      <td>547.5</td>\n",
       "      <td>531.00</td>\n",
       "      <td>15.024979</td>\n",
       "      <td>2019.0</td>\n",
       "      <td>8.0</td>\n",
       "      <td>NaN</td>\n",
       "    </tr>\n",
       "  </tbody>\n",
       "</table>\n",
       "<p>184 rows × 68 columns</p>\n",
       "</div>"
      ],
      "text/plain": [
       "     brent_close_MEAN  brent_close_MIN  brent_close_MAX  brent_close_MEDIAN  \\\n",
       "0           37.197895            35.93            38.76              37.080   \n",
       "1           35.446667            33.11            39.08              35.300   \n",
       "2           37.667273            35.92            40.03              37.835   \n",
       "3           41.762500            39.61            44.33              41.425   \n",
       "4           42.855909            40.20            46.45              42.035   \n",
       "..                ...              ...              ...                 ...   \n",
       "179         71.628571            69.01            74.57              71.620   \n",
       "180         70.134286            64.49            72.62              70.390   \n",
       "181         63.164737            59.97            66.55              62.290   \n",
       "182               NaN              NaN              NaN                 NaN   \n",
       "183               NaN              NaN              NaN                 NaN   \n",
       "\n",
       "     brent_close_STD  brent_open_MEAN  brent_open_MIN  brent_open_MAX  \\\n",
       "0           0.828885        36.990526           35.22           38.30   \n",
       "1           1.137987        35.418571           33.31           37.15   \n",
       "2           1.113960        37.364091           34.25           39.55   \n",
       "3           1.504243        41.787000           39.70           44.50   \n",
       "4           2.185641        42.626364           39.90           46.80   \n",
       "..               ...              ...             ...             ...   \n",
       "179         1.706565        71.375238           67.58           74.46   \n",
       "180         1.904646        70.450952           66.24           72.82   \n",
       "181         2.078291        62.934737           59.94           66.51   \n",
       "182              NaN              NaN             NaN             NaN   \n",
       "183              NaN              NaN             NaN             NaN   \n",
       "\n",
       "     brent_open_MEDIAN  brent_open_STD  ...  ethylene_glycol_EU_EUR_MEDIAN  \\\n",
       "0               36.960        0.921632  ...                         650.00   \n",
       "1               35.340        0.933168  ...                         647.50   \n",
       "2               37.350        1.182534  ...                         645.00   \n",
       "3               41.455        1.460692  ...                         743.75   \n",
       "4               41.815        2.209282  ...                         927.50   \n",
       "..                 ...             ...  ...                            ...   \n",
       "179             71.550        1.851768  ...                         601.25   \n",
       "180             70.480        1.476099  ...                         575.00   \n",
       "181             62.400        2.056992  ...                         528.75   \n",
       "182                NaN             NaN  ...                         495.00   \n",
       "183                NaN             NaN  ...                         465.00   \n",
       "\n",
       "     ethylene_glycol_EU_EUR_STD  ethylene_glycol_CHN_USD_MEAN  \\\n",
       "0                      0.000000                       856.875   \n",
       "1                      2.886751                       853.125   \n",
       "2                     12.449900                       892.000   \n",
       "3                     56.545520                      1072.500   \n",
       "4                     56.715665                      1158.750   \n",
       "..                          ...                           ...   \n",
       "179                   11.250000                       598.000   \n",
       "180                    2.850439                       551.600   \n",
       "181                   14.215602                       536.250   \n",
       "182                   10.282469                       536.500   \n",
       "183                    6.614378                       532.000   \n",
       "\n",
       "     ethylene_glycol_CHN_USD_MIN  ethylene_glycol_CHN_USD_MAX  \\\n",
       "0                          852.5                        860.0   \n",
       "1                          847.5                        857.5   \n",
       "2                          862.5                        935.0   \n",
       "3                          955.0                       1180.0   \n",
       "4                         1130.0                       1195.0   \n",
       "..                           ...                          ...   \n",
       "179                        589.5                        604.0   \n",
       "180                        528.5                        584.0   \n",
       "181                        529.5                        547.0   \n",
       "182                        528.5                        543.5   \n",
       "183                        517.5                        547.5   \n",
       "\n",
       "     ethylene_glycol_CHN_USD_MEDIAN  ethylene_glycol_CHN_USD_STD  Year_MEAN  \\\n",
       "0                            857.50                     3.145764     2004.0   \n",
       "1                            853.75                     4.269563     2004.0   \n",
       "2                            880.00                    29.864276     2004.0   \n",
       "3                           1077.50                    98.361578     2004.0   \n",
       "4                           1155.00                    27.195281     2004.0   \n",
       "..                              ...                          ...        ...   \n",
       "179                          599.25                     7.222650     2019.0   \n",
       "180                          542.00                    24.579972     2019.0   \n",
       "181                          534.25                     7.643080     2019.0   \n",
       "182                          537.00                     7.164728     2019.0   \n",
       "183                          531.00                    15.024979     2019.0   \n",
       "\n",
       "     Month_MEAN      pet  \n",
       "0           5.0   961.25  \n",
       "1           6.0   962.00  \n",
       "2           7.0  1053.75  \n",
       "3           8.0  1180.00  \n",
       "4           9.0  1240.00  \n",
       "..          ...      ...  \n",
       "179         4.0      NaN  \n",
       "180         5.0      NaN  \n",
       "181         6.0      NaN  \n",
       "182         7.0      NaN  \n",
       "183         8.0      NaN  \n",
       "\n",
       "[184 rows x 68 columns]"
      ]
     },
     "execution_count": 246,
     "metadata": {},
     "output_type": "execute_result"
    }
   ],
   "source": [
    "train_data"
   ]
  },
  {
   "cell_type": "code",
   "execution_count": 247,
   "metadata": {},
   "outputs": [],
   "source": [
    "#train_data.to_excel('pre_train_data.xlsx')"
   ]
  },
  {
   "cell_type": "code",
   "execution_count": 248,
   "metadata": {},
   "outputs": [],
   "source": [
    "NaNList = []\n",
    "for i in range(0, train_data.shape[0]):\n",
    "        if train_data.iloc[[i], [67]].isnull().bool():\n",
    "            NaNList.append(i)\n",
    "\n",
    "train_data = train_data.drop(NaNList, axis=0)"
   ]
  },
  {
   "cell_type": "code",
   "execution_count": 249,
   "metadata": {},
   "outputs": [],
   "source": [
    "NaNList = []\n",
    "for i in range(0, train_data.shape[0]):\n",
    "    for k in range(0,train_data.shape[1]):\n",
    "        if train_data.iloc[[i], [k]].isnull().bool():\n",
    "            NaNList.append(i)\n",
    "            break\n",
    "train_data.drop(NaNList, axis=0, inplace=True)\n",
    "train_data = train_data.reset_index(drop=True)"
   ]
  },
  {
   "cell_type": "code",
   "execution_count": 250,
   "metadata": {
    "scrolled": false
   },
   "outputs": [
    {
     "data": {
      "text/html": [
       "<div>\n",
       "<style scoped>\n",
       "    .dataframe tbody tr th:only-of-type {\n",
       "        vertical-align: middle;\n",
       "    }\n",
       "\n",
       "    .dataframe tbody tr th {\n",
       "        vertical-align: top;\n",
       "    }\n",
       "\n",
       "    .dataframe thead th {\n",
       "        text-align: right;\n",
       "    }\n",
       "</style>\n",
       "<table border=\"1\" class=\"dataframe\">\n",
       "  <thead>\n",
       "    <tr style=\"text-align: right;\">\n",
       "      <th></th>\n",
       "      <th>brent_close_MEAN</th>\n",
       "      <th>brent_close_MIN</th>\n",
       "      <th>brent_close_MAX</th>\n",
       "      <th>brent_close_MEDIAN</th>\n",
       "      <th>brent_close_STD</th>\n",
       "      <th>brent_open_MEAN</th>\n",
       "      <th>brent_open_MIN</th>\n",
       "      <th>brent_open_MAX</th>\n",
       "      <th>brent_open_MEDIAN</th>\n",
       "      <th>brent_open_STD</th>\n",
       "      <th>...</th>\n",
       "      <th>ethylene_glycol_EU_EUR_MEDIAN</th>\n",
       "      <th>ethylene_glycol_EU_EUR_STD</th>\n",
       "      <th>ethylene_glycol_CHN_USD_MEAN</th>\n",
       "      <th>ethylene_glycol_CHN_USD_MIN</th>\n",
       "      <th>ethylene_glycol_CHN_USD_MAX</th>\n",
       "      <th>ethylene_glycol_CHN_USD_MEDIAN</th>\n",
       "      <th>ethylene_glycol_CHN_USD_STD</th>\n",
       "      <th>Year_MEAN</th>\n",
       "      <th>Month_MEAN</th>\n",
       "      <th>pet</th>\n",
       "    </tr>\n",
       "  </thead>\n",
       "  <tbody>\n",
       "    <tr>\n",
       "      <td>0</td>\n",
       "      <td>44.415789</td>\n",
       "      <td>40.51</td>\n",
       "      <td>46.96</td>\n",
       "      <td>44.950</td>\n",
       "      <td>1.790802</td>\n",
       "      <td>44.145263</td>\n",
       "      <td>39.40</td>\n",
       "      <td>46.70</td>\n",
       "      <td>44.500</td>\n",
       "      <td>2.151791</td>\n",
       "      <td>...</td>\n",
       "      <td>732.50</td>\n",
       "      <td>5.000000</td>\n",
       "      <td>1021.250</td>\n",
       "      <td>1005.0</td>\n",
       "      <td>1045.0</td>\n",
       "      <td>1017.50</td>\n",
       "      <td>17.017148</td>\n",
       "      <td>2005.0</td>\n",
       "      <td>1.0</td>\n",
       "      <td>1235.000</td>\n",
       "    </tr>\n",
       "    <tr>\n",
       "      <td>1</td>\n",
       "      <td>46.271176</td>\n",
       "      <td>43.04</td>\n",
       "      <td>50.06</td>\n",
       "      <td>45.820</td>\n",
       "      <td>2.224702</td>\n",
       "      <td>46.165294</td>\n",
       "      <td>43.70</td>\n",
       "      <td>50.00</td>\n",
       "      <td>45.480</td>\n",
       "      <td>1.945071</td>\n",
       "      <td>...</td>\n",
       "      <td>733.75</td>\n",
       "      <td>1.443376</td>\n",
       "      <td>1074.375</td>\n",
       "      <td>1060.0</td>\n",
       "      <td>1090.0</td>\n",
       "      <td>1073.75</td>\n",
       "      <td>16.630168</td>\n",
       "      <td>2005.0</td>\n",
       "      <td>2.0</td>\n",
       "      <td>1271.250</td>\n",
       "    </tr>\n",
       "    <tr>\n",
       "      <td>2</td>\n",
       "      <td>53.272857</td>\n",
       "      <td>50.11</td>\n",
       "      <td>55.65</td>\n",
       "      <td>53.100</td>\n",
       "      <td>1.447122</td>\n",
       "      <td>53.005238</td>\n",
       "      <td>50.08</td>\n",
       "      <td>55.75</td>\n",
       "      <td>53.090</td>\n",
       "      <td>1.582983</td>\n",
       "      <td>...</td>\n",
       "      <td>745.00</td>\n",
       "      <td>11.547005</td>\n",
       "      <td>1082.500</td>\n",
       "      <td>1075.0</td>\n",
       "      <td>1100.0</td>\n",
       "      <td>1077.50</td>\n",
       "      <td>11.902381</td>\n",
       "      <td>2005.0</td>\n",
       "      <td>3.0</td>\n",
       "      <td>1242.000</td>\n",
       "    </tr>\n",
       "    <tr>\n",
       "      <td>3</td>\n",
       "      <td>53.307143</td>\n",
       "      <td>50.48</td>\n",
       "      <td>56.51</td>\n",
       "      <td>53.210</td>\n",
       "      <td>1.800428</td>\n",
       "      <td>53.499048</td>\n",
       "      <td>50.60</td>\n",
       "      <td>56.80</td>\n",
       "      <td>53.300</td>\n",
       "      <td>1.765956</td>\n",
       "      <td>...</td>\n",
       "      <td>730.00</td>\n",
       "      <td>31.424513</td>\n",
       "      <td>912.500</td>\n",
       "      <td>780.0</td>\n",
       "      <td>1000.0</td>\n",
       "      <td>920.00</td>\n",
       "      <td>87.642741</td>\n",
       "      <td>2005.0</td>\n",
       "      <td>4.0</td>\n",
       "      <td>1122.500</td>\n",
       "    </tr>\n",
       "    <tr>\n",
       "      <td>4</td>\n",
       "      <td>49.742632</td>\n",
       "      <td>47.88</td>\n",
       "      <td>51.43</td>\n",
       "      <td>50.070</td>\n",
       "      <td>1.259836</td>\n",
       "      <td>49.927368</td>\n",
       "      <td>47.90</td>\n",
       "      <td>51.78</td>\n",
       "      <td>49.960</td>\n",
       "      <td>1.339676</td>\n",
       "      <td>...</td>\n",
       "      <td>615.00</td>\n",
       "      <td>31.721444</td>\n",
       "      <td>696.250</td>\n",
       "      <td>660.0</td>\n",
       "      <td>775.0</td>\n",
       "      <td>675.00</td>\n",
       "      <td>53.131127</td>\n",
       "      <td>2005.0</td>\n",
       "      <td>5.0</td>\n",
       "      <td>1060.000</td>\n",
       "    </tr>\n",
       "    <tr>\n",
       "      <td>...</td>\n",
       "      <td>...</td>\n",
       "      <td>...</td>\n",
       "      <td>...</td>\n",
       "      <td>...</td>\n",
       "      <td>...</td>\n",
       "      <td>...</td>\n",
       "      <td>...</td>\n",
       "      <td>...</td>\n",
       "      <td>...</td>\n",
       "      <td>...</td>\n",
       "      <td>...</td>\n",
       "      <td>...</td>\n",
       "      <td>...</td>\n",
       "      <td>...</td>\n",
       "      <td>...</td>\n",
       "      <td>...</td>\n",
       "      <td>...</td>\n",
       "      <td>...</td>\n",
       "      <td>...</td>\n",
       "      <td>...</td>\n",
       "      <td>...</td>\n",
       "    </tr>\n",
       "    <tr>\n",
       "      <td>126</td>\n",
       "      <td>56.749091</td>\n",
       "      <td>52.21</td>\n",
       "      <td>62.07</td>\n",
       "      <td>56.945</td>\n",
       "      <td>2.715765</td>\n",
       "      <td>57.176818</td>\n",
       "      <td>52.99</td>\n",
       "      <td>63.02</td>\n",
       "      <td>57.110</td>\n",
       "      <td>2.799026</td>\n",
       "      <td>...</td>\n",
       "      <td>895.00</td>\n",
       "      <td>48.746795</td>\n",
       "      <td>859.800</td>\n",
       "      <td>816.5</td>\n",
       "      <td>924.5</td>\n",
       "      <td>856.00</td>\n",
       "      <td>39.975930</td>\n",
       "      <td>2015.0</td>\n",
       "      <td>7.0</td>\n",
       "      <td>908.125</td>\n",
       "    </tr>\n",
       "    <tr>\n",
       "      <td>127</td>\n",
       "      <td>48.068421</td>\n",
       "      <td>42.69</td>\n",
       "      <td>54.15</td>\n",
       "      <td>49.030</td>\n",
       "      <td>2.837850</td>\n",
       "      <td>47.972632</td>\n",
       "      <td>42.79</td>\n",
       "      <td>51.55</td>\n",
       "      <td>48.760</td>\n",
       "      <td>2.559451</td>\n",
       "      <td>...</td>\n",
       "      <td>776.25</td>\n",
       "      <td>24.947862</td>\n",
       "      <td>736.625</td>\n",
       "      <td>661.5</td>\n",
       "      <td>788.0</td>\n",
       "      <td>748.50</td>\n",
       "      <td>56.502765</td>\n",
       "      <td>2015.0</td>\n",
       "      <td>8.0</td>\n",
       "      <td>886.250</td>\n",
       "    </tr>\n",
       "    <tr>\n",
       "      <td>128</td>\n",
       "      <td>48.578000</td>\n",
       "      <td>46.37</td>\n",
       "      <td>50.68</td>\n",
       "      <td>48.745</td>\n",
       "      <td>1.198607</td>\n",
       "      <td>48.793000</td>\n",
       "      <td>46.65</td>\n",
       "      <td>52.92</td>\n",
       "      <td>48.420</td>\n",
       "      <td>1.435190</td>\n",
       "      <td>...</td>\n",
       "      <td>713.75</td>\n",
       "      <td>5.951190</td>\n",
       "      <td>698.375</td>\n",
       "      <td>683.5</td>\n",
       "      <td>712.5</td>\n",
       "      <td>698.75</td>\n",
       "      <td>12.899451</td>\n",
       "      <td>2015.0</td>\n",
       "      <td>9.0</td>\n",
       "      <td>868.500</td>\n",
       "    </tr>\n",
       "    <tr>\n",
       "      <td>129</td>\n",
       "      <td>49.292727</td>\n",
       "      <td>46.81</td>\n",
       "      <td>53.05</td>\n",
       "      <td>48.925</td>\n",
       "      <td>1.662973</td>\n",
       "      <td>49.393182</td>\n",
       "      <td>46.91</td>\n",
       "      <td>53.35</td>\n",
       "      <td>48.920</td>\n",
       "      <td>1.737684</td>\n",
       "      <td>...</td>\n",
       "      <td>712.50</td>\n",
       "      <td>18.791620</td>\n",
       "      <td>659.200</td>\n",
       "      <td>633.0</td>\n",
       "      <td>682.5</td>\n",
       "      <td>653.50</td>\n",
       "      <td>19.357169</td>\n",
       "      <td>2015.0</td>\n",
       "      <td>10.0</td>\n",
       "      <td>853.750</td>\n",
       "    </tr>\n",
       "    <tr>\n",
       "      <td>130</td>\n",
       "      <td>45.857000</td>\n",
       "      <td>43.57</td>\n",
       "      <td>50.54</td>\n",
       "      <td>45.160</td>\n",
       "      <td>1.959987</td>\n",
       "      <td>46.220000</td>\n",
       "      <td>43.97</td>\n",
       "      <td>50.25</td>\n",
       "      <td>45.745</td>\n",
       "      <td>1.983238</td>\n",
       "      <td>...</td>\n",
       "      <td>775.00</td>\n",
       "      <td>14.930394</td>\n",
       "      <td>597.000</td>\n",
       "      <td>561.5</td>\n",
       "      <td>626.0</td>\n",
       "      <td>600.25</td>\n",
       "      <td>28.416544</td>\n",
       "      <td>2015.0</td>\n",
       "      <td>11.0</td>\n",
       "      <td>818.750</td>\n",
       "    </tr>\n",
       "  </tbody>\n",
       "</table>\n",
       "<p>131 rows × 68 columns</p>\n",
       "</div>"
      ],
      "text/plain": [
       "     brent_close_MEAN  brent_close_MIN  brent_close_MAX  brent_close_MEDIAN  \\\n",
       "0           44.415789            40.51            46.96              44.950   \n",
       "1           46.271176            43.04            50.06              45.820   \n",
       "2           53.272857            50.11            55.65              53.100   \n",
       "3           53.307143            50.48            56.51              53.210   \n",
       "4           49.742632            47.88            51.43              50.070   \n",
       "..                ...              ...              ...                 ...   \n",
       "126         56.749091            52.21            62.07              56.945   \n",
       "127         48.068421            42.69            54.15              49.030   \n",
       "128         48.578000            46.37            50.68              48.745   \n",
       "129         49.292727            46.81            53.05              48.925   \n",
       "130         45.857000            43.57            50.54              45.160   \n",
       "\n",
       "     brent_close_STD  brent_open_MEAN  brent_open_MIN  brent_open_MAX  \\\n",
       "0           1.790802        44.145263           39.40           46.70   \n",
       "1           2.224702        46.165294           43.70           50.00   \n",
       "2           1.447122        53.005238           50.08           55.75   \n",
       "3           1.800428        53.499048           50.60           56.80   \n",
       "4           1.259836        49.927368           47.90           51.78   \n",
       "..               ...              ...             ...             ...   \n",
       "126         2.715765        57.176818           52.99           63.02   \n",
       "127         2.837850        47.972632           42.79           51.55   \n",
       "128         1.198607        48.793000           46.65           52.92   \n",
       "129         1.662973        49.393182           46.91           53.35   \n",
       "130         1.959987        46.220000           43.97           50.25   \n",
       "\n",
       "     brent_open_MEDIAN  brent_open_STD  ...  ethylene_glycol_EU_EUR_MEDIAN  \\\n",
       "0               44.500        2.151791  ...                         732.50   \n",
       "1               45.480        1.945071  ...                         733.75   \n",
       "2               53.090        1.582983  ...                         745.00   \n",
       "3               53.300        1.765956  ...                         730.00   \n",
       "4               49.960        1.339676  ...                         615.00   \n",
       "..                 ...             ...  ...                            ...   \n",
       "126             57.110        2.799026  ...                         895.00   \n",
       "127             48.760        2.559451  ...                         776.25   \n",
       "128             48.420        1.435190  ...                         713.75   \n",
       "129             48.920        1.737684  ...                         712.50   \n",
       "130             45.745        1.983238  ...                         775.00   \n",
       "\n",
       "     ethylene_glycol_EU_EUR_STD  ethylene_glycol_CHN_USD_MEAN  \\\n",
       "0                      5.000000                      1021.250   \n",
       "1                      1.443376                      1074.375   \n",
       "2                     11.547005                      1082.500   \n",
       "3                     31.424513                       912.500   \n",
       "4                     31.721444                       696.250   \n",
       "..                          ...                           ...   \n",
       "126                   48.746795                       859.800   \n",
       "127                   24.947862                       736.625   \n",
       "128                    5.951190                       698.375   \n",
       "129                   18.791620                       659.200   \n",
       "130                   14.930394                       597.000   \n",
       "\n",
       "     ethylene_glycol_CHN_USD_MIN  ethylene_glycol_CHN_USD_MAX  \\\n",
       "0                         1005.0                       1045.0   \n",
       "1                         1060.0                       1090.0   \n",
       "2                         1075.0                       1100.0   \n",
       "3                          780.0                       1000.0   \n",
       "4                          660.0                        775.0   \n",
       "..                           ...                          ...   \n",
       "126                        816.5                        924.5   \n",
       "127                        661.5                        788.0   \n",
       "128                        683.5                        712.5   \n",
       "129                        633.0                        682.5   \n",
       "130                        561.5                        626.0   \n",
       "\n",
       "     ethylene_glycol_CHN_USD_MEDIAN  ethylene_glycol_CHN_USD_STD  Year_MEAN  \\\n",
       "0                           1017.50                    17.017148     2005.0   \n",
       "1                           1073.75                    16.630168     2005.0   \n",
       "2                           1077.50                    11.902381     2005.0   \n",
       "3                            920.00                    87.642741     2005.0   \n",
       "4                            675.00                    53.131127     2005.0   \n",
       "..                              ...                          ...        ...   \n",
       "126                          856.00                    39.975930     2015.0   \n",
       "127                          748.50                    56.502765     2015.0   \n",
       "128                          698.75                    12.899451     2015.0   \n",
       "129                          653.50                    19.357169     2015.0   \n",
       "130                          600.25                    28.416544     2015.0   \n",
       "\n",
       "     Month_MEAN       pet  \n",
       "0           1.0  1235.000  \n",
       "1           2.0  1271.250  \n",
       "2           3.0  1242.000  \n",
       "3           4.0  1122.500  \n",
       "4           5.0  1060.000  \n",
       "..          ...       ...  \n",
       "126         7.0   908.125  \n",
       "127         8.0   886.250  \n",
       "128         9.0   868.500  \n",
       "129        10.0   853.750  \n",
       "130        11.0   818.750  \n",
       "\n",
       "[131 rows x 68 columns]"
      ]
     },
     "execution_count": 250,
     "metadata": {},
     "output_type": "execute_result"
    }
   ],
   "source": [
    "train_data"
   ]
  },
  {
   "cell_type": "markdown",
   "metadata": {},
   "source": [
    "Посмотрим теперь на корреляцию Пирсона."
   ]
  },
  {
   "cell_type": "code",
   "execution_count": 251,
   "metadata": {
    "scrolled": true
   },
   "outputs": [
    {
     "data": {
      "text/plain": [
       "brent_close_MEAN                  0.767608\n",
       "brent_close_MIN                   0.776909\n",
       "brent_close_MAX                   0.746888\n",
       "brent_close_MEDIAN                0.768576\n",
       "brent_close_STD                  -0.000689\n",
       "                                    ...   \n",
       "ethylene_glycol_CHN_USD_MAX       0.742719\n",
       "ethylene_glycol_CHN_USD_MEDIAN    0.772559\n",
       "ethylene_glycol_CHN_USD_STD      -0.085155\n",
       "Year_MEAN                         0.066246\n",
       "Month_MEAN                       -0.108955\n",
       "Length: 67, dtype: float64"
      ]
     },
     "execution_count": 251,
     "metadata": {},
     "output_type": "execute_result"
    }
   ],
   "source": [
    "train_data.drop(labels='pet', axis=1).corrwith(train_data.pet)"
   ]
  },
  {
   "cell_type": "code",
   "execution_count": 252,
   "metadata": {},
   "outputs": [],
   "source": [
    "#train_data.drop(labels='pet', axis=1).corrwith(train_data.pet).to_excel('cor_train_data.xlsx')"
   ]
  },
  {
   "cell_type": "code",
   "execution_count": 253,
   "metadata": {},
   "outputs": [
    {
     "data": {
      "text/html": [
       "<div>\n",
       "<style scoped>\n",
       "    .dataframe tbody tr th:only-of-type {\n",
       "        vertical-align: middle;\n",
       "    }\n",
       "\n",
       "    .dataframe tbody tr th {\n",
       "        vertical-align: top;\n",
       "    }\n",
       "\n",
       "    .dataframe thead th {\n",
       "        text-align: right;\n",
       "    }\n",
       "</style>\n",
       "<table border=\"1\" class=\"dataframe\">\n",
       "  <thead>\n",
       "    <tr style=\"text-align: right;\">\n",
       "      <th></th>\n",
       "      <th>brent_close_MEAN</th>\n",
       "      <th>brent_close_MIN</th>\n",
       "      <th>brent_close_MAX</th>\n",
       "      <th>brent_close_MEDIAN</th>\n",
       "      <th>brent_close_STD</th>\n",
       "      <th>brent_open_MEAN</th>\n",
       "      <th>brent_open_MIN</th>\n",
       "      <th>brent_open_MAX</th>\n",
       "      <th>brent_open_MEDIAN</th>\n",
       "      <th>brent_open_STD</th>\n",
       "      <th>...</th>\n",
       "      <th>ethylene_glycol_EU_EUR_MEDIAN</th>\n",
       "      <th>ethylene_glycol_EU_EUR_STD</th>\n",
       "      <th>ethylene_glycol_CHN_USD_MEAN</th>\n",
       "      <th>ethylene_glycol_CHN_USD_MIN</th>\n",
       "      <th>ethylene_glycol_CHN_USD_MAX</th>\n",
       "      <th>ethylene_glycol_CHN_USD_MEDIAN</th>\n",
       "      <th>ethylene_glycol_CHN_USD_STD</th>\n",
       "      <th>Year_MEAN</th>\n",
       "      <th>Month_MEAN</th>\n",
       "      <th>pet</th>\n",
       "    </tr>\n",
       "  </thead>\n",
       "  <tbody>\n",
       "    <tr>\n",
       "      <td>brent_close_MEAN</td>\n",
       "      <td>1.000000</td>\n",
       "      <td>0.995615</td>\n",
       "      <td>0.995252</td>\n",
       "      <td>0.999707</td>\n",
       "      <td>0.203281</td>\n",
       "      <td>0.999901</td>\n",
       "      <td>0.995643</td>\n",
       "      <td>0.992995</td>\n",
       "      <td>0.999704</td>\n",
       "      <td>0.200922</td>\n",
       "      <td>...</td>\n",
       "      <td>0.574071</td>\n",
       "      <td>-0.072879</td>\n",
       "      <td>0.650946</td>\n",
       "      <td>0.657175</td>\n",
       "      <td>0.637085</td>\n",
       "      <td>0.649187</td>\n",
       "      <td>0.006279</td>\n",
       "      <td>0.389605</td>\n",
       "      <td>0.006945</td>\n",
       "      <td>0.767608</td>\n",
       "    </tr>\n",
       "    <tr>\n",
       "      <td>brent_close_MIN</td>\n",
       "      <td>0.995615</td>\n",
       "      <td>1.000000</td>\n",
       "      <td>0.984058</td>\n",
       "      <td>0.995071</td>\n",
       "      <td>0.119497</td>\n",
       "      <td>0.995185</td>\n",
       "      <td>0.999423</td>\n",
       "      <td>0.980631</td>\n",
       "      <td>0.994574</td>\n",
       "      <td>0.117695</td>\n",
       "      <td>...</td>\n",
       "      <td>0.579037</td>\n",
       "      <td>-0.097135</td>\n",
       "      <td>0.656609</td>\n",
       "      <td>0.667803</td>\n",
       "      <td>0.637815</td>\n",
       "      <td>0.655390</td>\n",
       "      <td>-0.030818</td>\n",
       "      <td>0.396280</td>\n",
       "      <td>0.004154</td>\n",
       "      <td>0.776909</td>\n",
       "    </tr>\n",
       "    <tr>\n",
       "      <td>brent_close_MAX</td>\n",
       "      <td>0.995252</td>\n",
       "      <td>0.984058</td>\n",
       "      <td>1.000000</td>\n",
       "      <td>0.994124</td>\n",
       "      <td>0.289533</td>\n",
       "      <td>0.995811</td>\n",
       "      <td>0.984810</td>\n",
       "      <td>0.998983</td>\n",
       "      <td>0.994957</td>\n",
       "      <td>0.286955</td>\n",
       "      <td>...</td>\n",
       "      <td>0.566628</td>\n",
       "      <td>-0.042045</td>\n",
       "      <td>0.634799</td>\n",
       "      <td>0.635701</td>\n",
       "      <td>0.626856</td>\n",
       "      <td>0.631736</td>\n",
       "      <td>0.047234</td>\n",
       "      <td>0.383053</td>\n",
       "      <td>0.015104</td>\n",
       "      <td>0.746888</td>\n",
       "    </tr>\n",
       "    <tr>\n",
       "      <td>brent_close_MEDIAN</td>\n",
       "      <td>0.999707</td>\n",
       "      <td>0.995071</td>\n",
       "      <td>0.994124</td>\n",
       "      <td>1.000000</td>\n",
       "      <td>0.200406</td>\n",
       "      <td>0.999505</td>\n",
       "      <td>0.995111</td>\n",
       "      <td>0.991660</td>\n",
       "      <td>0.999843</td>\n",
       "      <td>0.197258</td>\n",
       "      <td>...</td>\n",
       "      <td>0.574510</td>\n",
       "      <td>-0.073695</td>\n",
       "      <td>0.653022</td>\n",
       "      <td>0.659463</td>\n",
       "      <td>0.638707</td>\n",
       "      <td>0.651607</td>\n",
       "      <td>0.004109</td>\n",
       "      <td>0.388232</td>\n",
       "      <td>0.005026</td>\n",
       "      <td>0.768576</td>\n",
       "    </tr>\n",
       "    <tr>\n",
       "      <td>brent_close_STD</td>\n",
       "      <td>0.203281</td>\n",
       "      <td>0.119497</td>\n",
       "      <td>0.289533</td>\n",
       "      <td>0.200406</td>\n",
       "      <td>1.000000</td>\n",
       "      <td>0.208711</td>\n",
       "      <td>0.125951</td>\n",
       "      <td>0.302626</td>\n",
       "      <td>0.207643</td>\n",
       "      <td>0.984179</td>\n",
       "      <td>...</td>\n",
       "      <td>0.047509</td>\n",
       "      <td>0.306108</td>\n",
       "      <td>0.027182</td>\n",
       "      <td>-0.029307</td>\n",
       "      <td>0.086297</td>\n",
       "      <td>0.015368</td>\n",
       "      <td>0.445404</td>\n",
       "      <td>-0.001449</td>\n",
       "      <td>0.062209</td>\n",
       "      <td>-0.000689</td>\n",
       "    </tr>\n",
       "    <tr>\n",
       "      <td>...</td>\n",
       "      <td>...</td>\n",
       "      <td>...</td>\n",
       "      <td>...</td>\n",
       "      <td>...</td>\n",
       "      <td>...</td>\n",
       "      <td>...</td>\n",
       "      <td>...</td>\n",
       "      <td>...</td>\n",
       "      <td>...</td>\n",
       "      <td>...</td>\n",
       "      <td>...</td>\n",
       "      <td>...</td>\n",
       "      <td>...</td>\n",
       "      <td>...</td>\n",
       "      <td>...</td>\n",
       "      <td>...</td>\n",
       "      <td>...</td>\n",
       "      <td>...</td>\n",
       "      <td>...</td>\n",
       "      <td>...</td>\n",
       "      <td>...</td>\n",
       "    </tr>\n",
       "    <tr>\n",
       "      <td>ethylene_glycol_CHN_USD_MEDIAN</td>\n",
       "      <td>0.649187</td>\n",
       "      <td>0.655390</td>\n",
       "      <td>0.631736</td>\n",
       "      <td>0.651607</td>\n",
       "      <td>0.015368</td>\n",
       "      <td>0.646038</td>\n",
       "      <td>0.656425</td>\n",
       "      <td>0.624096</td>\n",
       "      <td>0.647658</td>\n",
       "      <td>-0.017684</td>\n",
       "      <td>...</td>\n",
       "      <td>0.830104</td>\n",
       "      <td>-0.025213</td>\n",
       "      <td>0.999032</td>\n",
       "      <td>0.991173</td>\n",
       "      <td>0.986781</td>\n",
       "      <td>1.000000</td>\n",
       "      <td>0.103915</td>\n",
       "      <td>0.079824</td>\n",
       "      <td>-0.018915</td>\n",
       "      <td>0.772559</td>\n",
       "    </tr>\n",
       "    <tr>\n",
       "      <td>ethylene_glycol_CHN_USD_STD</td>\n",
       "      <td>0.006279</td>\n",
       "      <td>-0.030818</td>\n",
       "      <td>0.047234</td>\n",
       "      <td>0.004109</td>\n",
       "      <td>0.445404</td>\n",
       "      <td>0.010810</td>\n",
       "      <td>-0.025136</td>\n",
       "      <td>0.056626</td>\n",
       "      <td>0.008879</td>\n",
       "      <td>0.438260</td>\n",
       "      <td>...</td>\n",
       "      <td>0.139682</td>\n",
       "      <td>0.389615</td>\n",
       "      <td>0.120899</td>\n",
       "      <td>-0.009854</td>\n",
       "      <td>0.249098</td>\n",
       "      <td>0.103915</td>\n",
       "      <td>1.000000</td>\n",
       "      <td>-0.075036</td>\n",
       "      <td>0.079819</td>\n",
       "      <td>-0.085155</td>\n",
       "    </tr>\n",
       "    <tr>\n",
       "      <td>Year_MEAN</td>\n",
       "      <td>0.389605</td>\n",
       "      <td>0.396280</td>\n",
       "      <td>0.383053</td>\n",
       "      <td>0.388232</td>\n",
       "      <td>-0.001449</td>\n",
       "      <td>0.391012</td>\n",
       "      <td>0.400146</td>\n",
       "      <td>0.378713</td>\n",
       "      <td>0.389465</td>\n",
       "      <td>-0.011449</td>\n",
       "      <td>...</td>\n",
       "      <td>0.340522</td>\n",
       "      <td>-0.022926</td>\n",
       "      <td>0.076506</td>\n",
       "      <td>0.086311</td>\n",
       "      <td>0.066898</td>\n",
       "      <td>0.079824</td>\n",
       "      <td>-0.075036</td>\n",
       "      <td>1.000000</td>\n",
       "      <td>-0.019607</td>\n",
       "      <td>0.066246</td>\n",
       "    </tr>\n",
       "    <tr>\n",
       "      <td>Month_MEAN</td>\n",
       "      <td>0.006945</td>\n",
       "      <td>0.004154</td>\n",
       "      <td>0.015104</td>\n",
       "      <td>0.005026</td>\n",
       "      <td>0.062209</td>\n",
       "      <td>0.010321</td>\n",
       "      <td>0.005758</td>\n",
       "      <td>0.019010</td>\n",
       "      <td>0.008266</td>\n",
       "      <td>0.065805</td>\n",
       "      <td>...</td>\n",
       "      <td>0.077798</td>\n",
       "      <td>0.116129</td>\n",
       "      <td>-0.021575</td>\n",
       "      <td>-0.037932</td>\n",
       "      <td>-0.015477</td>\n",
       "      <td>-0.018915</td>\n",
       "      <td>0.079819</td>\n",
       "      <td>-0.019607</td>\n",
       "      <td>1.000000</td>\n",
       "      <td>-0.108955</td>\n",
       "    </tr>\n",
       "    <tr>\n",
       "      <td>pet</td>\n",
       "      <td>0.767608</td>\n",
       "      <td>0.776909</td>\n",
       "      <td>0.746888</td>\n",
       "      <td>0.768576</td>\n",
       "      <td>-0.000689</td>\n",
       "      <td>0.763572</td>\n",
       "      <td>0.772654</td>\n",
       "      <td>0.736403</td>\n",
       "      <td>0.765478</td>\n",
       "      <td>-0.013215</td>\n",
       "      <td>...</td>\n",
       "      <td>0.573557</td>\n",
       "      <td>-0.153929</td>\n",
       "      <td>0.772222</td>\n",
       "      <td>0.791835</td>\n",
       "      <td>0.742719</td>\n",
       "      <td>0.772559</td>\n",
       "      <td>-0.085155</td>\n",
       "      <td>0.066246</td>\n",
       "      <td>-0.108955</td>\n",
       "      <td>1.000000</td>\n",
       "    </tr>\n",
       "  </tbody>\n",
       "</table>\n",
       "<p>68 rows × 68 columns</p>\n",
       "</div>"
      ],
      "text/plain": [
       "                                brent_close_MEAN  brent_close_MIN  \\\n",
       "brent_close_MEAN                        1.000000         0.995615   \n",
       "brent_close_MIN                         0.995615         1.000000   \n",
       "brent_close_MAX                         0.995252         0.984058   \n",
       "brent_close_MEDIAN                      0.999707         0.995071   \n",
       "brent_close_STD                         0.203281         0.119497   \n",
       "...                                          ...              ...   \n",
       "ethylene_glycol_CHN_USD_MEDIAN          0.649187         0.655390   \n",
       "ethylene_glycol_CHN_USD_STD             0.006279        -0.030818   \n",
       "Year_MEAN                               0.389605         0.396280   \n",
       "Month_MEAN                              0.006945         0.004154   \n",
       "pet                                     0.767608         0.776909   \n",
       "\n",
       "                                brent_close_MAX  brent_close_MEDIAN  \\\n",
       "brent_close_MEAN                       0.995252            0.999707   \n",
       "brent_close_MIN                        0.984058            0.995071   \n",
       "brent_close_MAX                        1.000000            0.994124   \n",
       "brent_close_MEDIAN                     0.994124            1.000000   \n",
       "brent_close_STD                        0.289533            0.200406   \n",
       "...                                         ...                 ...   \n",
       "ethylene_glycol_CHN_USD_MEDIAN         0.631736            0.651607   \n",
       "ethylene_glycol_CHN_USD_STD            0.047234            0.004109   \n",
       "Year_MEAN                              0.383053            0.388232   \n",
       "Month_MEAN                             0.015104            0.005026   \n",
       "pet                                    0.746888            0.768576   \n",
       "\n",
       "                                brent_close_STD  brent_open_MEAN  \\\n",
       "brent_close_MEAN                       0.203281         0.999901   \n",
       "brent_close_MIN                        0.119497         0.995185   \n",
       "brent_close_MAX                        0.289533         0.995811   \n",
       "brent_close_MEDIAN                     0.200406         0.999505   \n",
       "brent_close_STD                        1.000000         0.208711   \n",
       "...                                         ...              ...   \n",
       "ethylene_glycol_CHN_USD_MEDIAN         0.015368         0.646038   \n",
       "ethylene_glycol_CHN_USD_STD            0.445404         0.010810   \n",
       "Year_MEAN                             -0.001449         0.391012   \n",
       "Month_MEAN                             0.062209         0.010321   \n",
       "pet                                   -0.000689         0.763572   \n",
       "\n",
       "                                brent_open_MIN  brent_open_MAX  \\\n",
       "brent_close_MEAN                      0.995643        0.992995   \n",
       "brent_close_MIN                       0.999423        0.980631   \n",
       "brent_close_MAX                       0.984810        0.998983   \n",
       "brent_close_MEDIAN                    0.995111        0.991660   \n",
       "brent_close_STD                       0.125951        0.302626   \n",
       "...                                        ...             ...   \n",
       "ethylene_glycol_CHN_USD_MEDIAN        0.656425        0.624096   \n",
       "ethylene_glycol_CHN_USD_STD          -0.025136        0.056626   \n",
       "Year_MEAN                             0.400146        0.378713   \n",
       "Month_MEAN                            0.005758        0.019010   \n",
       "pet                                   0.772654        0.736403   \n",
       "\n",
       "                                brent_open_MEDIAN  brent_open_STD  ...  \\\n",
       "brent_close_MEAN                         0.999704        0.200922  ...   \n",
       "brent_close_MIN                          0.994574        0.117695  ...   \n",
       "brent_close_MAX                          0.994957        0.286955  ...   \n",
       "brent_close_MEDIAN                       0.999843        0.197258  ...   \n",
       "brent_close_STD                          0.207643        0.984179  ...   \n",
       "...                                           ...             ...  ...   \n",
       "ethylene_glycol_CHN_USD_MEDIAN           0.647658       -0.017684  ...   \n",
       "ethylene_glycol_CHN_USD_STD              0.008879        0.438260  ...   \n",
       "Year_MEAN                                0.389465       -0.011449  ...   \n",
       "Month_MEAN                               0.008266        0.065805  ...   \n",
       "pet                                      0.765478       -0.013215  ...   \n",
       "\n",
       "                                ethylene_glycol_EU_EUR_MEDIAN  \\\n",
       "brent_close_MEAN                                     0.574071   \n",
       "brent_close_MIN                                      0.579037   \n",
       "brent_close_MAX                                      0.566628   \n",
       "brent_close_MEDIAN                                   0.574510   \n",
       "brent_close_STD                                      0.047509   \n",
       "...                                                       ...   \n",
       "ethylene_glycol_CHN_USD_MEDIAN                       0.830104   \n",
       "ethylene_glycol_CHN_USD_STD                          0.139682   \n",
       "Year_MEAN                                            0.340522   \n",
       "Month_MEAN                                           0.077798   \n",
       "pet                                                  0.573557   \n",
       "\n",
       "                                ethylene_glycol_EU_EUR_STD  \\\n",
       "brent_close_MEAN                                 -0.072879   \n",
       "brent_close_MIN                                  -0.097135   \n",
       "brent_close_MAX                                  -0.042045   \n",
       "brent_close_MEDIAN                               -0.073695   \n",
       "brent_close_STD                                   0.306108   \n",
       "...                                                    ...   \n",
       "ethylene_glycol_CHN_USD_MEDIAN                   -0.025213   \n",
       "ethylene_glycol_CHN_USD_STD                       0.389615   \n",
       "Year_MEAN                                        -0.022926   \n",
       "Month_MEAN                                        0.116129   \n",
       "pet                                              -0.153929   \n",
       "\n",
       "                                ethylene_glycol_CHN_USD_MEAN  \\\n",
       "brent_close_MEAN                                    0.650946   \n",
       "brent_close_MIN                                     0.656609   \n",
       "brent_close_MAX                                     0.634799   \n",
       "brent_close_MEDIAN                                  0.653022   \n",
       "brent_close_STD                                     0.027182   \n",
       "...                                                      ...   \n",
       "ethylene_glycol_CHN_USD_MEDIAN                      0.999032   \n",
       "ethylene_glycol_CHN_USD_STD                         0.120899   \n",
       "Year_MEAN                                           0.076506   \n",
       "Month_MEAN                                         -0.021575   \n",
       "pet                                                 0.772222   \n",
       "\n",
       "                                ethylene_glycol_CHN_USD_MIN  \\\n",
       "brent_close_MEAN                                   0.657175   \n",
       "brent_close_MIN                                    0.667803   \n",
       "brent_close_MAX                                    0.635701   \n",
       "brent_close_MEDIAN                                 0.659463   \n",
       "brent_close_STD                                   -0.029307   \n",
       "...                                                     ...   \n",
       "ethylene_glycol_CHN_USD_MEDIAN                     0.991173   \n",
       "ethylene_glycol_CHN_USD_STD                       -0.009854   \n",
       "Year_MEAN                                          0.086311   \n",
       "Month_MEAN                                        -0.037932   \n",
       "pet                                                0.791835   \n",
       "\n",
       "                                ethylene_glycol_CHN_USD_MAX  \\\n",
       "brent_close_MEAN                                   0.637085   \n",
       "brent_close_MIN                                    0.637815   \n",
       "brent_close_MAX                                    0.626856   \n",
       "brent_close_MEDIAN                                 0.638707   \n",
       "brent_close_STD                                    0.086297   \n",
       "...                                                     ...   \n",
       "ethylene_glycol_CHN_USD_MEDIAN                     0.986781   \n",
       "ethylene_glycol_CHN_USD_STD                        0.249098   \n",
       "Year_MEAN                                          0.066898   \n",
       "Month_MEAN                                        -0.015477   \n",
       "pet                                                0.742719   \n",
       "\n",
       "                                ethylene_glycol_CHN_USD_MEDIAN  \\\n",
       "brent_close_MEAN                                      0.649187   \n",
       "brent_close_MIN                                       0.655390   \n",
       "brent_close_MAX                                       0.631736   \n",
       "brent_close_MEDIAN                                    0.651607   \n",
       "brent_close_STD                                       0.015368   \n",
       "...                                                        ...   \n",
       "ethylene_glycol_CHN_USD_MEDIAN                        1.000000   \n",
       "ethylene_glycol_CHN_USD_STD                           0.103915   \n",
       "Year_MEAN                                             0.079824   \n",
       "Month_MEAN                                           -0.018915   \n",
       "pet                                                   0.772559   \n",
       "\n",
       "                                ethylene_glycol_CHN_USD_STD  Year_MEAN  \\\n",
       "brent_close_MEAN                                   0.006279   0.389605   \n",
       "brent_close_MIN                                   -0.030818   0.396280   \n",
       "brent_close_MAX                                    0.047234   0.383053   \n",
       "brent_close_MEDIAN                                 0.004109   0.388232   \n",
       "brent_close_STD                                    0.445404  -0.001449   \n",
       "...                                                     ...        ...   \n",
       "ethylene_glycol_CHN_USD_MEDIAN                     0.103915   0.079824   \n",
       "ethylene_glycol_CHN_USD_STD                        1.000000  -0.075036   \n",
       "Year_MEAN                                         -0.075036   1.000000   \n",
       "Month_MEAN                                         0.079819  -0.019607   \n",
       "pet                                               -0.085155   0.066246   \n",
       "\n",
       "                                Month_MEAN       pet  \n",
       "brent_close_MEAN                  0.006945  0.767608  \n",
       "brent_close_MIN                   0.004154  0.776909  \n",
       "brent_close_MAX                   0.015104  0.746888  \n",
       "brent_close_MEDIAN                0.005026  0.768576  \n",
       "brent_close_STD                   0.062209 -0.000689  \n",
       "...                                    ...       ...  \n",
       "ethylene_glycol_CHN_USD_MEDIAN   -0.018915  0.772559  \n",
       "ethylene_glycol_CHN_USD_STD       0.079819 -0.085155  \n",
       "Year_MEAN                        -0.019607  0.066246  \n",
       "Month_MEAN                        1.000000 -0.108955  \n",
       "pet                              -0.108955  1.000000  \n",
       "\n",
       "[68 rows x 68 columns]"
      ]
     },
     "execution_count": 253,
     "metadata": {},
     "output_type": "execute_result"
    }
   ],
   "source": [
    "train_data.corr()"
   ]
  },
  {
   "cell_type": "code",
   "execution_count": 254,
   "metadata": {},
   "outputs": [],
   "source": [
    "#sns.pairplot(train_data)"
   ]
  },
  {
   "cell_type": "markdown",
   "metadata": {},
   "source": [
    "Есть немного мультиколлинеарности? \n",
    "Выбросы?\n",
    "может что-нибудь выкинуть?"
   ]
  },
  {
   "cell_type": "code",
   "execution_count": 255,
   "metadata": {},
   "outputs": [],
   "source": [
    "train_data.drop(['brent_close_STD','brent_open_STD','brent_max_STD','brent_min_STD', 'USDCNY_close_MEAN', 'USDCNY_close_MIN', 'USDCNY_close_MAX',\n",
    "       'USDCNY_close_MEDIAN', 'USDCNY_close_STD', 'USDCNY_open_MEAN',\n",
    "       'USDCNY_open_MIN', 'USDCNY_open_MAX', 'USDCNY_open_MEDIAN',\n",
    "       'USDCNY_open_STD', 'USDCNY_max_MEAN', 'USDCNY_max_MIN',\n",
    "       'USDCNY_max_MAX', 'USDCNY_max_MEDIAN', 'USDCNY_max_STD',\n",
    "       'USDCNY_min_MEAN', 'USDCNY_min_MIN', 'USDCNY_min_MAX',\n",
    "       'USDCNY_min_MEDIAN', 'USDCNY_min_STD', 'paraxylene_CHN_USD_STD', 'paraxylene_RT_USD_STD', 'ethylene_glycol_CHN_USD_MIN', 'ethylene_glycol_CHN_USD_MAX',\n",
    "       'ethylene_glycol_CHN_USD_MEDIAN', 'ethylene_glycol_CHN_USD_STD', 'paraxylene_SEA_USD_STD', 'Year_MEAN', 'Month_MEAN'], axis=1, inplace=True)"
   ]
  },
  {
   "cell_type": "code",
   "execution_count": 256,
   "metadata": {},
   "outputs": [],
   "source": [
    "#train_data.columns"
   ]
  },
  {
   "cell_type": "code",
   "execution_count": 257,
   "metadata": {},
   "outputs": [
    {
     "data": {
      "text/plain": [
       "brent_close_MEAN                   83.924379\n",
       "brent_close_MIN                    79.779695\n",
       "brent_close_MAX                    88.187252\n",
       "brent_close_MEDIAN                 83.882328\n",
       "brent_open_MEAN                    83.926630\n",
       "brent_open_MIN                     79.665954\n",
       "brent_open_MAX                     88.397634\n",
       "brent_open_MEDIAN                  83.903855\n",
       "brent_max_MEAN                     85.002827\n",
       "brent_max_MIN                      81.015954\n",
       "brent_max_MAX                      89.246565\n",
       "brent_max_MEDIAN                   84.924275\n",
       "brent_min_MEAN                     82.794787\n",
       "brent_min_MIN                      78.776489\n",
       "brent_min_MAX                      87.040534\n",
       "brent_min_MEDIAN                   82.800687\n",
       "paraxylene_CHN_USD_MEAN          1192.643448\n",
       "paraxylene_CHN_USD_MIN           1152.606870\n",
       "paraxylene_CHN_USD_MAX           1232.645038\n",
       "paraxylene_CHN_USD_MEDIAN        1192.654580\n",
       "paraxylene_RT_USD_MEAN           1130.971660\n",
       "paraxylene_RT_USD_MIN            1092.164122\n",
       "paraxylene_RT_USD_MAX            1172.358779\n",
       "paraxylene_RT_USD_MEDIAN         1128.666985\n",
       "paraxylene_SEA_USD_MEAN          1198.227354\n",
       "paraxylene_SEA_USD_MIN           1158.354962\n",
       "paraxylene_SEA_USD_MAX           1238.255725\n",
       "paraxylene_SEA_USD_MEDIAN        1198.175573\n",
       "ethylene_glycol_EU_EUR_MEAN       749.700318\n",
       "ethylene_glycol_EU_EUR_MIN        728.465649\n",
       "ethylene_glycol_EU_EUR_MAX        772.072519\n",
       "ethylene_glycol_EU_EUR_MEDIAN     749.316794\n",
       "ethylene_glycol_EU_EUR_STD         19.616624\n",
       "ethylene_glycol_CHN_USD_MEAN      934.890458\n",
       "pet                              1260.188931\n",
       "dtype: float64"
      ]
     },
     "execution_count": 257,
     "metadata": {},
     "output_type": "execute_result"
    }
   ],
   "source": [
    "train_data.mean()"
   ]
  },
  {
   "cell_type": "markdown",
   "metadata": {},
   "source": [
    "Нужно масштабировать..."
   ]
  },
  {
   "cell_type": "code",
   "execution_count": 258,
   "metadata": {},
   "outputs": [],
   "source": [
    "X = train_data.drop('pet',1)\n",
    "y = train_data['pet']"
   ]
  },
  {
   "cell_type": "code",
   "execution_count": 259,
   "metadata": {},
   "outputs": [],
   "source": [
    "scaler = StandardScaler()\n",
    "scaler.fit(X, y)\n",
    "X_scaled = scaler.transform(X)"
   ]
  },
  {
   "cell_type": "code",
   "execution_count": 260,
   "metadata": {},
   "outputs": [
    {
     "data": {
      "text/plain": [
       "array([[-1.60831043, -1.64260549, -1.65658457, ..., -0.11491134,\n",
       "        -0.91993983,  0.41728093],\n",
       "       [-1.53278158, -1.53677854, -1.53202104, ..., -0.10636993,\n",
       "        -1.14378634,  0.67397578],\n",
       "       [-1.24775809, -1.24104869, -1.30740486, ..., -0.02949721,\n",
       "        -0.50788497,  0.71323499],\n",
       "       ...,\n",
       "       [-1.43887571, -1.39748853, -1.50710833, ..., -0.24303253,\n",
       "        -0.86007389, -1.14281976],\n",
       "       [-1.40978069, -1.37908384, -1.4118775 , ..., -0.25157394,\n",
       "        -0.05192402, -1.33210956],\n",
       "       [-1.54964182, -1.51460926, -1.51273378, ...,  0.17549669,\n",
       "        -0.29494155, -1.63265393]])"
      ]
     },
     "execution_count": 260,
     "metadata": {},
     "output_type": "execute_result"
    }
   ],
   "source": [
    "X_scaled"
   ]
  },
  {
   "cell_type": "markdown",
   "metadata": {},
   "source": [
    "## Кросс валидация"
   ]
  },
  {
   "cell_type": "markdown",
   "metadata": {},
   "source": [
    "какую стратегию кросс валидации выбрать?"
   ]
  },
  {
   "cell_type": "markdown",
   "metadata": {},
   "source": [
    "Обучение / тест"
   ]
  },
  {
   "cell_type": "code",
   "execution_count": 261,
   "metadata": {},
   "outputs": [],
   "source": [
    "X_train, X_test, y_train, y_test = train_test_split(X_scaled, y, test_size=0.2, shuffle=False)"
   ]
  },
  {
   "cell_type": "markdown",
   "metadata": {},
   "source": [
    "Стратегии кросс-валидации"
   ]
  },
  {
   "cell_type": "code",
   "execution_count": 262,
   "metadata": {},
   "outputs": [],
   "source": [
    "cv_strategy_KFold = KFold(n_splits=5, random_state=None, shuffle=False)\n",
    "cv_strategy_TMS = TimeSeriesSplit(max_train_size=None, n_splits=5)"
   ]
  },
  {
   "cell_type": "markdown",
   "metadata": {},
   "source": [
    "Загружаем метрику качества"
   ]
  },
  {
   "cell_type": "code",
   "execution_count": 263,
   "metadata": {},
   "outputs": [],
   "source": [
    "scorer = metrics.make_scorer(metrics.mean_absolute_error)\n",
    "scorerCV = metrics.make_scorer(metrics.mean_absolute_error, greater_is_better=False)"
   ]
  },
  {
   "cell_type": "markdown",
   "metadata": {},
   "source": [
    "### linear_regressor"
   ]
  },
  {
   "cell_type": "code",
   "execution_count": 264,
   "metadata": {},
   "outputs": [],
   "source": [
    "linear_regressor = linear_model.LinearRegression()\n",
    "linear_regressor.fit(X_train, y_train)\n",
    "predictions = linear_regressor.predict(X_test)"
   ]
  },
  {
   "cell_type": "code",
   "execution_count": 265,
   "metadata": {},
   "outputs": [],
   "source": [
    "#print (len(y_train))\n",
    "#print (len(y_test))"
   ]
  },
  {
   "cell_type": "code",
   "execution_count": 266,
   "metadata": {
    "scrolled": true
   },
   "outputs": [
    {
     "name": "stdout",
     "output_type": "stream",
     "text": [
      "[1459.77790094 1420.92562748 1460.24785882 1423.43000917 1402.05169255\n",
      " 1384.77470699 1376.52431957 1328.9059952  1296.58229135 1351.96913098\n",
      " 1378.7391834  1413.33273029 1289.47319743 1228.41369477 1199.39933035\n",
      " 1055.90529129 1015.67802456 1120.24476961 1046.70541237 1154.24208555\n",
      " 1288.23516783 1220.27813963 1035.41463084 1093.7886968  1047.71924609\n",
      " 1018.48020441 1009.00994798]\n"
     ]
    }
   ],
   "source": [
    "print (predictions)"
   ]
  },
  {
   "cell_type": "code",
   "execution_count": 267,
   "metadata": {},
   "outputs": [
    {
     "data": {
      "text/plain": [
       "104    1359.375000\n",
       "105    1322.000000\n",
       "106    1330.833333\n",
       "107    1310.000000\n",
       "108    1271.875000\n",
       "109    1235.625000\n",
       "110    1243.750000\n",
       "111    1215.500000\n",
       "112    1298.750000\n",
       "113    1313.750000\n",
       "114    1305.000000\n",
       "115    1248.750000\n",
       "116    1168.000000\n",
       "117    1113.750000\n",
       "118    1016.250000\n",
       "119     891.875000\n",
       "120     919.166667\n",
       "121     956.875000\n",
       "122    1015.000000\n",
       "123    1098.500000\n",
       "124    1047.500000\n",
       "125     979.500000\n",
       "126     908.125000\n",
       "127     886.250000\n",
       "128     868.500000\n",
       "129     853.750000\n",
       "130     818.750000\n",
       "Name: pet, dtype: float64"
      ]
     },
     "execution_count": 267,
     "metadata": {},
     "output_type": "execute_result"
    }
   ],
   "source": [
    "y_test"
   ]
  },
  {
   "cell_type": "code",
   "execution_count": 268,
   "metadata": {},
   "outputs": [
    {
     "data": {
      "text/plain": [
       "130.65128531652076"
      ]
     },
     "execution_count": 268,
     "metadata": {},
     "output_type": "execute_result"
    }
   ],
   "source": [
    "metrics.mean_absolute_error(y_test, predictions)"
   ]
  },
  {
   "cell_type": "code",
   "execution_count": 269,
   "metadata": {},
   "outputs": [
    {
     "data": {
      "text/plain": [
       "array([  3417.3247193 ,    532.79179271,   -214.6442532 ,   -392.7793718 ,\n",
       "          -79.62296112,    -30.76786008,   -687.10790345,    798.34295067,\n",
       "        -1957.06990044,    106.36578846,    996.49431711,   -503.28886049,\n",
       "          220.17801679,   -881.04159074,   -532.32715732,   -771.12069511,\n",
       "        13801.00277958,  -3110.89135567,  -3347.65327653,  -6187.79443478,\n",
       "         -456.16618391,    132.99822297,    245.39968771,    122.97442429,\n",
       "       -13896.91851342,   2938.03956263,   3213.41573365,   6643.35913399,\n",
       "         -354.87083433,    308.73211762,     24.54454733,     29.05216656,\n",
       "           24.4324096 ,     69.38503574])"
      ]
     },
     "execution_count": 269,
     "metadata": {},
     "output_type": "execute_result"
    }
   ],
   "source": [
    "linear_regressor.coef_"
   ]
  },
  {
   "cell_type": "code",
   "execution_count": 270,
   "metadata": {},
   "outputs": [
    {
     "data": {
      "text/plain": [
       "1287.0839640172146"
      ]
     },
     "execution_count": 270,
     "metadata": {},
     "output_type": "execute_result"
    }
   ],
   "source": [
    "linear_regressor.intercept_"
   ]
  },
  {
   "cell_type": "code",
   "execution_count": 271,
   "metadata": {},
   "outputs": [
    {
     "name": "stdout",
     "output_type": "stream",
     "text": [
      "LR (KFold)) mean:103.1792450292691, max:163.3252180620271, min:66.89067331454359, std:33.39718048485181\n"
     ]
    }
   ],
   "source": [
    "lr_scoring = cross_val_score(linear_regressor, X_train, y_train, scoring = scorer, cv = cv_strategy_KFold)\n",
    "print ('LR (KFold)) mean:{}, max:{}, min:{}, std:{}'.format(lr_scoring .mean(), lr_scoring .max(), \n",
    "                                                     lr_scoring .min(), lr_scoring .std()))"
   ]
  },
  {
   "cell_type": "code",
   "execution_count": 272,
   "metadata": {},
   "outputs": [
    {
     "data": {
      "text/plain": [
       "array([ 66.89067331, 111.28360757,  81.45371577, 163.32521806,\n",
       "        92.94301043])"
      ]
     },
     "execution_count": 272,
     "metadata": {},
     "output_type": "execute_result"
    }
   ],
   "source": [
    "lr_scoring"
   ]
  },
  {
   "cell_type": "code",
   "execution_count": 273,
   "metadata": {},
   "outputs": [
    {
     "name": "stdout",
     "output_type": "stream",
     "text": [
      "LR (TMS)) mean:176.19667497051643, max:332.02110193940473, min:82.1752637148193, std:91.08459346038957\n"
     ]
    }
   ],
   "source": [
    "lr_scoring = cross_val_score(linear_regressor, X_train, y_train, scoring = scorer, cv = cv_strategy_TMS)\n",
    "print ('LR (TMS)) mean:{}, max:{}, min:{}, std:{}'.format(lr_scoring .mean(), lr_scoring .max(), \n",
    "                                                     lr_scoring .min(), lr_scoring .std()))"
   ]
  },
  {
   "cell_type": "code",
   "execution_count": 274,
   "metadata": {},
   "outputs": [
    {
     "data": {
      "text/plain": [
       "array([139.24098931, 332.02110194,  82.17526371, 221.59307742,\n",
       "       105.95294247])"
      ]
     },
     "execution_count": 274,
     "metadata": {},
     "output_type": "execute_result"
    }
   ],
   "source": [
    "lr_scoring"
   ]
  },
  {
   "cell_type": "code",
   "execution_count": 275,
   "metadata": {
    "scrolled": true
   },
   "outputs": [
    {
     "data": {
      "text/plain": [
       "dict_keys(['copy_X', 'fit_intercept', 'n_jobs', 'normalize'])"
      ]
     },
     "execution_count": 275,
     "metadata": {},
     "output_type": "execute_result"
    }
   ],
   "source": [
    "linear_regressor.get_params().keys()"
   ]
  },
  {
   "cell_type": "markdown",
   "metadata": {},
   "source": [
    "### lasso_regressor"
   ]
  },
  {
   "cell_type": "code",
   "execution_count": 276,
   "metadata": {
    "scrolled": true
   },
   "outputs": [],
   "source": [
    "lasso_regressor = linear_model.Lasso()\n",
    "lasso_regressor.fit(X_train, y_train)\n",
    "predictions = lasso_regressor.predict(X_test)"
   ]
  },
  {
   "cell_type": "code",
   "execution_count": 277,
   "metadata": {},
   "outputs": [
    {
     "data": {
      "text/plain": [
       "112.55583971097214"
      ]
     },
     "execution_count": 277,
     "metadata": {},
     "output_type": "execute_result"
    }
   ],
   "source": [
    "metrics.mean_absolute_error(y_test, predictions)"
   ]
  },
  {
   "cell_type": "code",
   "execution_count": 278,
   "metadata": {},
   "outputs": [
    {
     "name": "stdout",
     "output_type": "stream",
     "text": [
      "LR (KFold)) mean:94.54141936461424, max:156.81214875051376, min:56.22990596038595, std:35.40799089501361\n"
     ]
    }
   ],
   "source": [
    "ls_scoring = cross_val_score(lasso_regressor, X_train, y_train, scoring = scorer, cv = cv_strategy_KFold)\n",
    "print ('LR (KFold)) mean:{}, max:{}, min:{}, std:{}'.format(ls_scoring .mean(), ls_scoring .max(), \n",
    "                                                     ls_scoring .min(), ls_scoring .std()))"
   ]
  },
  {
   "cell_type": "code",
   "execution_count": 279,
   "metadata": {},
   "outputs": [
    {
     "data": {
      "text/plain": [
       "array([ 56.22990596,  79.55253315,  71.91358129, 156.81214875,\n",
       "       108.19892766])"
      ]
     },
     "execution_count": 279,
     "metadata": {},
     "output_type": "execute_result"
    }
   ],
   "source": [
    "ls_scoring"
   ]
  },
  {
   "cell_type": "code",
   "execution_count": 280,
   "metadata": {},
   "outputs": [
    {
     "name": "stdout",
     "output_type": "stream",
     "text": [
      "LR (TMS)) mean:94.03047681562029, max:160.13338619385746, min:41.21733685220826, std:38.97771433532373\n"
     ]
    }
   ],
   "source": [
    "ls_scoring = cross_val_score(lasso_regressor, X_train, y_train, scoring = scorer, cv = cv_strategy_TMS)\n",
    "print ('LR (TMS)) mean:{}, max:{}, min:{}, std:{}'.format(ls_scoring .mean(), ls_scoring .max(), \n",
    "                                                     ls_scoring .min(), ls_scoring .std()))"
   ]
  },
  {
   "cell_type": "code",
   "execution_count": 281,
   "metadata": {},
   "outputs": [
    {
     "data": {
      "text/plain": [
       "array([ 41.21733685,  80.62901634,  82.73107439, 160.13338619,\n",
       "       105.44157031])"
      ]
     },
     "execution_count": 281,
     "metadata": {},
     "output_type": "execute_result"
    }
   ],
   "source": [
    "ls_scoring"
   ]
  },
  {
   "cell_type": "code",
   "execution_count": 282,
   "metadata": {
    "scrolled": true
   },
   "outputs": [
    {
     "data": {
      "text/plain": [
       "dict_keys(['alpha', 'copy_X', 'fit_intercept', 'max_iter', 'normalize', 'positive', 'precompute', 'random_state', 'selection', 'tol', 'warm_start'])"
      ]
     },
     "execution_count": 282,
     "metadata": {},
     "output_type": "execute_result"
    }
   ],
   "source": [
    "lasso_regressor.get_params().keys()"
   ]
  },
  {
   "cell_type": "code",
   "execution_count": 283,
   "metadata": {},
   "outputs": [],
   "source": [
    "parameters_grid = {\n",
    "    'alpha' : [0.5, 1, 1.5, 2],\n",
    "    'tol' : [0.00001, 0.0001, 0.001],\n",
    "    'max_iter': [500, 1000, 2000],\n",
    "}"
   ]
  },
  {
   "cell_type": "code",
   "execution_count": 284,
   "metadata": {},
   "outputs": [],
   "source": [
    "grid_cv = GridSearchCV(lasso_regressor, parameters_grid, scoring = scorerCV, cv = cv_strategy_KFold)"
   ]
  },
  {
   "cell_type": "code",
   "execution_count": 285,
   "metadata": {},
   "outputs": [
    {
     "name": "stdout",
     "output_type": "stream",
     "text": [
      "CPU times: user 673 ms, sys: 30.5 ms, total: 704 ms\n",
      "Wall time: 579 ms\n"
     ]
    },
    {
     "data": {
      "text/plain": [
       "GridSearchCV(cv=KFold(n_splits=5, random_state=None, shuffle=False),\n",
       "             error_score='raise-deprecating',\n",
       "             estimator=Lasso(alpha=1.0, copy_X=True, fit_intercept=True,\n",
       "                             max_iter=1000, normalize=False, positive=False,\n",
       "                             precompute=False, random_state=None,\n",
       "                             selection='cyclic', tol=0.0001, warm_start=False),\n",
       "             iid='warn', n_jobs=None,\n",
       "             param_grid={'alpha': [0.5, 1, 1.5, 2],\n",
       "                         'max_iter': [500, 1000, 2000],\n",
       "                         'tol': [1e-05, 0.0001, 0.001]},\n",
       "             pre_dispatch='2*n_jobs', refit=True, return_train_score=False,\n",
       "             scoring=make_scorer(mean_absolute_error, greater_is_better=False),\n",
       "             verbose=0)"
      ]
     },
     "execution_count": 285,
     "metadata": {},
     "output_type": "execute_result"
    }
   ],
   "source": [
    "%%time\n",
    "grid_cv.fit(X_train, y_train)"
   ]
  },
  {
   "cell_type": "code",
   "execution_count": 286,
   "metadata": {},
   "outputs": [
    {
     "data": {
      "text/plain": [
       "Lasso(alpha=0.5, copy_X=True, fit_intercept=True, max_iter=2000,\n",
       "      normalize=False, positive=False, precompute=False, random_state=None,\n",
       "      selection='cyclic', tol=0.001, warm_start=False)"
      ]
     },
     "execution_count": 286,
     "metadata": {},
     "output_type": "execute_result"
    }
   ],
   "source": [
    "grid_cv.best_estimator_"
   ]
  },
  {
   "cell_type": "code",
   "execution_count": 287,
   "metadata": {},
   "outputs": [
    {
     "name": "stdout",
     "output_type": "stream",
     "text": [
      "-91.09595518757138\n",
      "{'alpha': 0.5, 'max_iter': 2000, 'tol': 0.001}\n"
     ]
    }
   ],
   "source": [
    "print(grid_cv.best_score_)\n",
    "print(grid_cv.best_params_)"
   ]
  },
  {
   "cell_type": "code",
   "execution_count": 288,
   "metadata": {},
   "outputs": [
    {
     "data": {
      "text/plain": [
       "104.3832500970394"
      ]
     },
     "execution_count": 288,
     "metadata": {},
     "output_type": "execute_result"
    }
   ],
   "source": [
    "predictions = grid_cv.predict(X_test)\n",
    "metrics.mean_absolute_error(y_test, predictions)"
   ]
  },
  {
   "cell_type": "code",
   "execution_count": 289,
   "metadata": {},
   "outputs": [],
   "source": [
    "grid_cv = GridSearchCV(lasso_regressor, parameters_grid, scoring = scorerCV, cv = cv_strategy_TMS)"
   ]
  },
  {
   "cell_type": "code",
   "execution_count": 290,
   "metadata": {},
   "outputs": [
    {
     "name": "stdout",
     "output_type": "stream",
     "text": [
      "CPU times: user 468 ms, sys: 2.27 ms, total: 471 ms\n",
      "Wall time: 471 ms\n"
     ]
    },
    {
     "data": {
      "text/plain": [
       "GridSearchCV(cv=TimeSeriesSplit(max_train_size=None, n_splits=5),\n",
       "             error_score='raise-deprecating',\n",
       "             estimator=Lasso(alpha=1.0, copy_X=True, fit_intercept=True,\n",
       "                             max_iter=1000, normalize=False, positive=False,\n",
       "                             precompute=False, random_state=None,\n",
       "                             selection='cyclic', tol=0.0001, warm_start=False),\n",
       "             iid='warn', n_jobs=None,\n",
       "             param_grid={'alpha': [0.5, 1, 1.5, 2],\n",
       "                         'max_iter': [500, 1000, 2000],\n",
       "                         'tol': [1e-05, 0.0001, 0.001]},\n",
       "             pre_dispatch='2*n_jobs', refit=True, return_train_score=False,\n",
       "             scoring=make_scorer(mean_absolute_error, greater_is_better=False),\n",
       "             verbose=0)"
      ]
     },
     "execution_count": 290,
     "metadata": {},
     "output_type": "execute_result"
    }
   ],
   "source": [
    "%%time\n",
    "grid_cv.fit(X_train, y_train)"
   ]
  },
  {
   "cell_type": "code",
   "execution_count": 291,
   "metadata": {
    "scrolled": true
   },
   "outputs": [
    {
     "data": {
      "text/plain": [
       "Lasso(alpha=0.5, copy_X=True, fit_intercept=True, max_iter=500, normalize=False,\n",
       "      positive=False, precompute=False, random_state=None, selection='cyclic',\n",
       "      tol=0.0001, warm_start=False)"
      ]
     },
     "execution_count": 291,
     "metadata": {},
     "output_type": "execute_result"
    }
   ],
   "source": [
    "grid_cv.best_estimator_"
   ]
  },
  {
   "cell_type": "code",
   "execution_count": 292,
   "metadata": {},
   "outputs": [
    {
     "name": "stdout",
     "output_type": "stream",
     "text": [
      "-92.19833260974293\n",
      "{'alpha': 0.5, 'max_iter': 500, 'tol': 0.0001}\n"
     ]
    }
   ],
   "source": [
    "print(grid_cv.best_score_)\n",
    "print(grid_cv.best_params_)"
   ]
  },
  {
   "cell_type": "code",
   "execution_count": 293,
   "metadata": {
    "scrolled": true
   },
   "outputs": [
    {
     "data": {
      "text/plain": [
       "103.4062828784122"
      ]
     },
     "execution_count": 293,
     "metadata": {},
     "output_type": "execute_result"
    }
   ],
   "source": [
    "predictions = grid_cv.predict(X_test)\n",
    "metrics.mean_absolute_error(y_test, predictions)"
   ]
  },
  {
   "cell_type": "markdown",
   "metadata": {},
   "source": [
    "### Ridge regressor"
   ]
  },
  {
   "cell_type": "code",
   "execution_count": 294,
   "metadata": {},
   "outputs": [],
   "source": [
    "ridge_regressor = linear_model.Ridge()\n",
    "ridge_regressor.fit(X_train, y_train)\n",
    "predictions = ridge_regressor.predict(X_test)"
   ]
  },
  {
   "cell_type": "code",
   "execution_count": 295,
   "metadata": {},
   "outputs": [
    {
     "data": {
      "text/plain": [
       "103.04063974255652"
      ]
     },
     "execution_count": 295,
     "metadata": {},
     "output_type": "execute_result"
    }
   ],
   "source": [
    "metrics.mean_absolute_error(y_test, predictions)"
   ]
  },
  {
   "cell_type": "code",
   "execution_count": 296,
   "metadata": {},
   "outputs": [
    {
     "name": "stdout",
     "output_type": "stream",
     "text": [
      "LR (KFold)) mean:91.67042031185457, max:160.50504134381148, min:56.07974951977009, std:37.2906410655964\n"
     ]
    }
   ],
   "source": [
    "rd_scoring = cross_val_score(ridge_regressor, X_train, y_train, scoring = scorer, cv = cv_strategy_KFold)\n",
    "print ('LR (KFold)) mean:{}, max:{}, min:{}, std:{}'.format(rd_scoring .mean(), rd_scoring .max(), \n",
    "                                                     rd_scoring .min(), rd_scoring .std()))"
   ]
  },
  {
   "cell_type": "code",
   "execution_count": 297,
   "metadata": {},
   "outputs": [
    {
     "data": {
      "text/plain": [
       "array([ 56.07974952,  71.25646525,  70.27168644, 160.50504134,\n",
       "       100.23915901])"
      ]
     },
     "execution_count": 297,
     "metadata": {},
     "output_type": "execute_result"
    }
   ],
   "source": [
    "rd_scoring"
   ]
  },
  {
   "cell_type": "code",
   "execution_count": 298,
   "metadata": {},
   "outputs": [
    {
     "name": "stdout",
     "output_type": "stream",
     "text": [
      "LR (KFold)) mean:94.59796191387882, max:159.59634367426048, min:54.30127566538534, std:35.818312107657455\n"
     ]
    }
   ],
   "source": [
    "rd_scoring = cross_val_score(ridge_regressor, X_train, y_train, scoring = scorer, cv = cv_strategy_TMS)\n",
    "print ('LR (KFold)) mean:{}, max:{}, min:{}, std:{}'.format(rd_scoring .mean(), rd_scoring .max(), \n",
    "                                                     rd_scoring .min(), rd_scoring .std()))"
   ]
  },
  {
   "cell_type": "code",
   "execution_count": 299,
   "metadata": {},
   "outputs": [
    {
     "data": {
      "text/plain": [
       "array([ 54.30127567,  83.70175047,  74.42642683, 159.59634367,\n",
       "       100.96401293])"
      ]
     },
     "execution_count": 299,
     "metadata": {},
     "output_type": "execute_result"
    }
   ],
   "source": [
    "rd_scoring"
   ]
  },
  {
   "cell_type": "code",
   "execution_count": 300,
   "metadata": {},
   "outputs": [
    {
     "data": {
      "text/plain": [
       "dict_keys(['alpha', 'copy_X', 'fit_intercept', 'max_iter', 'normalize', 'random_state', 'solver', 'tol'])"
      ]
     },
     "execution_count": 300,
     "metadata": {},
     "output_type": "execute_result"
    }
   ],
   "source": [
    "ridge_regressor.get_params().keys()"
   ]
  },
  {
   "cell_type": "code",
   "execution_count": 301,
   "metadata": {},
   "outputs": [],
   "source": [
    "parameters_grid = {\n",
    "    'alpha' : [0.5, 1, 1.5, 2],\n",
    "    'tol' : [0.00001, 0.0001, 0.001],\n",
    "    'max_iter': [500, 1000, 2000],\n",
    "}"
   ]
  },
  {
   "cell_type": "code",
   "execution_count": 302,
   "metadata": {},
   "outputs": [],
   "source": [
    "grid_cv = GridSearchCV(ridge_regressor, parameters_grid, scoring = scorerCV, cv = cv_strategy_KFold)"
   ]
  },
  {
   "cell_type": "code",
   "execution_count": 303,
   "metadata": {},
   "outputs": [
    {
     "name": "stdout",
     "output_type": "stream",
     "text": [
      "CPU times: user 752 ms, sys: 127 ms, total: 879 ms\n",
      "Wall time: 298 ms\n"
     ]
    },
    {
     "data": {
      "text/plain": [
       "GridSearchCV(cv=KFold(n_splits=5, random_state=None, shuffle=False),\n",
       "             error_score='raise-deprecating',\n",
       "             estimator=Ridge(alpha=1.0, copy_X=True, fit_intercept=True,\n",
       "                             max_iter=None, normalize=False, random_state=None,\n",
       "                             solver='auto', tol=0.001),\n",
       "             iid='warn', n_jobs=None,\n",
       "             param_grid={'alpha': [0.5, 1, 1.5, 2],\n",
       "                         'max_iter': [500, 1000, 2000],\n",
       "                         'tol': [1e-05, 0.0001, 0.001]},\n",
       "             pre_dispatch='2*n_jobs', refit=True, return_train_score=False,\n",
       "             scoring=make_scorer(mean_absolute_error, greater_is_better=False),\n",
       "             verbose=0)"
      ]
     },
     "execution_count": 303,
     "metadata": {},
     "output_type": "execute_result"
    }
   ],
   "source": [
    "%%time\n",
    "grid_cv.fit(X_train, y_train)"
   ]
  },
  {
   "cell_type": "code",
   "execution_count": 304,
   "metadata": {},
   "outputs": [
    {
     "data": {
      "text/plain": [
       "Ridge(alpha=0.5, copy_X=True, fit_intercept=True, max_iter=500, normalize=False,\n",
       "      random_state=None, solver='auto', tol=1e-05)"
      ]
     },
     "execution_count": 304,
     "metadata": {},
     "output_type": "execute_result"
    }
   ],
   "source": [
    "grid_cv.best_estimator_"
   ]
  },
  {
   "cell_type": "code",
   "execution_count": 305,
   "metadata": {},
   "outputs": [
    {
     "name": "stdout",
     "output_type": "stream",
     "text": [
      "-90.4476601304479\n",
      "{'alpha': 0.5, 'max_iter': 500, 'tol': 1e-05}\n"
     ]
    }
   ],
   "source": [
    "print(grid_cv.best_score_)\n",
    "print(grid_cv.best_params_)"
   ]
  },
  {
   "cell_type": "code",
   "execution_count": 306,
   "metadata": {},
   "outputs": [
    {
     "data": {
      "text/plain": [
       "100.4759546427352"
      ]
     },
     "execution_count": 306,
     "metadata": {},
     "output_type": "execute_result"
    }
   ],
   "source": [
    "predictions = grid_cv.predict(X_test)\n",
    "metrics.mean_absolute_error(y_test, predictions)"
   ]
  },
  {
   "cell_type": "code",
   "execution_count": 307,
   "metadata": {},
   "outputs": [],
   "source": [
    "grid_cv = GridSearchCV(ridge_regressor, parameters_grid, scoring = scorerCV, cv = cv_strategy_TMS)"
   ]
  },
  {
   "cell_type": "code",
   "execution_count": 308,
   "metadata": {},
   "outputs": [
    {
     "name": "stdout",
     "output_type": "stream",
     "text": [
      "CPU times: user 760 ms, sys: 127 ms, total: 887 ms\n",
      "Wall time: 309 ms\n"
     ]
    },
    {
     "data": {
      "text/plain": [
       "GridSearchCV(cv=TimeSeriesSplit(max_train_size=None, n_splits=5),\n",
       "             error_score='raise-deprecating',\n",
       "             estimator=Ridge(alpha=1.0, copy_X=True, fit_intercept=True,\n",
       "                             max_iter=None, normalize=False, random_state=None,\n",
       "                             solver='auto', tol=0.001),\n",
       "             iid='warn', n_jobs=None,\n",
       "             param_grid={'alpha': [0.5, 1, 1.5, 2],\n",
       "                         'max_iter': [500, 1000, 2000],\n",
       "                         'tol': [1e-05, 0.0001, 0.001]},\n",
       "             pre_dispatch='2*n_jobs', refit=True, return_train_score=False,\n",
       "             scoring=make_scorer(mean_absolute_error, greater_is_better=False),\n",
       "             verbose=0)"
      ]
     },
     "execution_count": 308,
     "metadata": {},
     "output_type": "execute_result"
    }
   ],
   "source": [
    "%%time\n",
    "grid_cv.fit(X_train, y_train)"
   ]
  },
  {
   "cell_type": "code",
   "execution_count": 309,
   "metadata": {},
   "outputs": [
    {
     "data": {
      "text/plain": [
       "Ridge(alpha=0.5, copy_X=True, fit_intercept=True, max_iter=500, normalize=False,\n",
       "      random_state=None, solver='auto', tol=1e-05)"
      ]
     },
     "execution_count": 309,
     "metadata": {},
     "output_type": "execute_result"
    }
   ],
   "source": [
    "grid_cv.best_estimator_"
   ]
  },
  {
   "cell_type": "code",
   "execution_count": 310,
   "metadata": {},
   "outputs": [
    {
     "name": "stdout",
     "output_type": "stream",
     "text": [
      "-93.39619601127787\n",
      "{'alpha': 0.5, 'max_iter': 500, 'tol': 1e-05}\n"
     ]
    }
   ],
   "source": [
    "print(grid_cv.best_score_)\n",
    "print(grid_cv.best_params_)"
   ]
  },
  {
   "cell_type": "code",
   "execution_count": 311,
   "metadata": {},
   "outputs": [
    {
     "data": {
      "text/plain": [
       "100.4759546427352"
      ]
     },
     "execution_count": 311,
     "metadata": {},
     "output_type": "execute_result"
    }
   ],
   "source": [
    "predictions = grid_cv.predict(X_test)\n",
    "metrics.mean_absolute_error(y_test, predictions)"
   ]
  },
  {
   "cell_type": "markdown",
   "metadata": {},
   "source": [
    "### SGDRegressor"
   ]
  },
  {
   "cell_type": "code",
   "execution_count": 312,
   "metadata": {},
   "outputs": [],
   "source": [
    "#SGD_regressor = linear_model.SGDRegressor(shuffle=False, tol=4)\n",
    "SGD_regressor = linear_model.SGDRegressor(shuffle=False,tol=4, power_t=0.5, penalty= 'l2',\\\n",
    "                                          eta0= 0.01, alpha= 0.05)\n",
    "SGD_regressor.fit(X_train, y_train)\n",
    "predictions = SGD_regressor.predict(X_test)"
   ]
  },
  {
   "cell_type": "code",
   "execution_count": 313,
   "metadata": {},
   "outputs": [
    {
     "data": {
      "text/plain": [
       "56.12414160848579"
      ]
     },
     "execution_count": 313,
     "metadata": {},
     "output_type": "execute_result"
    }
   ],
   "source": [
    "metrics.mean_absolute_error(y_test, predictions)"
   ]
  },
  {
   "cell_type": "code",
   "execution_count": 314,
   "metadata": {},
   "outputs": [
    {
     "name": "stdout",
     "output_type": "stream",
     "text": [
      "SGD (KFold) mean:91.39847194455123, max:188.6092233341332, min:52.69923455168907, std:50.052364179301115\n"
     ]
    }
   ],
   "source": [
    "SGD_scoring = cross_val_score(SGD_regressor, X_train, y_train, scoring = scorer, cv = cv_strategy_KFold)\n",
    "print ('SGD (KFold) mean:{}, max:{}, min:{}, std:{}'.format(SGD_scoring .mean(), SGD_scoring .max(), \n",
    "                                                     SGD_scoring .min(), SGD_scoring .std()))"
   ]
  },
  {
   "cell_type": "code",
   "execution_count": 315,
   "metadata": {},
   "outputs": [
    {
     "data": {
      "text/plain": [
       "array([ 54.92034061,  52.69923455,  82.00128638, 188.60922333,\n",
       "        78.76227484])"
      ]
     },
     "execution_count": 315,
     "metadata": {},
     "output_type": "execute_result"
    }
   ],
   "source": [
    "SGD_scoring"
   ]
  },
  {
   "cell_type": "code",
   "execution_count": 316,
   "metadata": {},
   "outputs": [
    {
     "name": "stdout",
     "output_type": "stream",
     "text": [
      "SGD (TMS) mean:421.8232397997672, max:843.3680217683911, min:56.2773543705801, std:312.38542412248626\n"
     ]
    }
   ],
   "source": [
    "SGD_scoring = cross_val_score(SGD_regressor, X_train, y_train, scoring = scorer, cv = cv_strategy_TMS)\n",
    "print ('SGD (TMS) mean:{}, max:{}, min:{}, std:{}'.format(SGD_scoring .mean(), SGD_scoring .max(), \n",
    "                                                     SGD_scoring .min(), SGD_scoring .std()))"
   ]
  },
  {
   "cell_type": "code",
   "execution_count": 317,
   "metadata": {},
   "outputs": [
    {
     "data": {
      "text/plain": [
       "array([737.11356848, 843.36802177, 171.8994209 , 300.45783348,\n",
       "        56.27735437])"
      ]
     },
     "execution_count": 317,
     "metadata": {},
     "output_type": "execute_result"
    }
   ],
   "source": [
    "SGD_scoring"
   ]
  },
  {
   "cell_type": "code",
   "execution_count": 318,
   "metadata": {
    "scrolled": true
   },
   "outputs": [
    {
     "data": {
      "text/plain": [
       "dict_keys(['alpha', 'average', 'early_stopping', 'epsilon', 'eta0', 'fit_intercept', 'l1_ratio', 'learning_rate', 'loss', 'max_iter', 'n_iter_no_change', 'penalty', 'power_t', 'random_state', 'shuffle', 'tol', 'validation_fraction', 'verbose', 'warm_start'])"
      ]
     },
     "execution_count": 318,
     "metadata": {},
     "output_type": "execute_result"
    }
   ],
   "source": [
    "SGD_regressor.get_params().keys()"
   ]
  },
  {
   "cell_type": "code",
   "execution_count": 319,
   "metadata": {},
   "outputs": [],
   "source": [
    "parameters_grid = {\n",
    "    'penalty' : ['l1', 'l2'],\n",
    "    'alpha' : [0.0001, 0.001, 0.005],\n",
    "    'eta0' : [0.001, 0.01, 0.05],\n",
    "    #'tol' : [3.5, 4, 4.5],\n",
    "    'power_t' : [0.3, 0.5, 0.7], \n",
    "    \n",
    "}"
   ]
  },
  {
   "cell_type": "code",
   "execution_count": 320,
   "metadata": {},
   "outputs": [],
   "source": [
    "#grid_cv = GridSearchCV(SGD_regressor, parameters_grid, scoring = scorerCV, cv = cv_strategy_KFold)"
   ]
  },
  {
   "cell_type": "code",
   "execution_count": 321,
   "metadata": {},
   "outputs": [],
   "source": [
    "#%%time\n",
    "#grid_cv.fit(X_train, y_train)"
   ]
  },
  {
   "cell_type": "code",
   "execution_count": 322,
   "metadata": {},
   "outputs": [],
   "source": [
    "#grid_cv.best_estimator_"
   ]
  },
  {
   "cell_type": "code",
   "execution_count": 323,
   "metadata": {},
   "outputs": [],
   "source": [
    "#print(grid_cv.best_score_)\n",
    "#print(grid_cv.best_params_)"
   ]
  },
  {
   "cell_type": "code",
   "execution_count": 324,
   "metadata": {},
   "outputs": [],
   "source": [
    "#predictions = grid_cv.predict(X_test)\n",
    "#metrics.mean_absolute_error(y_test, predictions)"
   ]
  },
  {
   "cell_type": "code",
   "execution_count": 325,
   "metadata": {},
   "outputs": [],
   "source": [
    "#grid_cv = GridSearchCV(SGD_regressor, parameters_grid, scoring = scorerCV, cv = cv_strategy_TMS)"
   ]
  },
  {
   "cell_type": "code",
   "execution_count": 326,
   "metadata": {},
   "outputs": [],
   "source": [
    "#%%time\n",
    "#grid_cv.fit(X_train, y_train)"
   ]
  },
  {
   "cell_type": "code",
   "execution_count": 327,
   "metadata": {},
   "outputs": [],
   "source": [
    "#grid_cv.best_estimator_"
   ]
  },
  {
   "cell_type": "code",
   "execution_count": 328,
   "metadata": {},
   "outputs": [],
   "source": [
    "#print(grid_cv.best_score_)\n",
    "#print(grid_cv.best_params_)"
   ]
  },
  {
   "cell_type": "code",
   "execution_count": 329,
   "metadata": {},
   "outputs": [],
   "source": [
    "#predictions = grid_cv.predict(X_test)\n",
    "#metrics.mean_absolute_error(y_test, predictions)"
   ]
  },
  {
   "cell_type": "code",
   "execution_count": 330,
   "metadata": {},
   "outputs": [],
   "source": [
    "randomized_grid_cv = RandomizedSearchCV(SGD_regressor, parameters_grid, scoring = scorerCV, \\\n",
    "                                        cv = cv_strategy_KFold, n_iter = 100)"
   ]
  },
  {
   "cell_type": "code",
   "execution_count": 331,
   "metadata": {},
   "outputs": [
    {
     "name": "stdout",
     "output_type": "stream",
     "text": [
      "CPU times: user 3.32 s, sys: 9.09 ms, total: 3.33 s\n",
      "Wall time: 3.36 s\n"
     ]
    },
    {
     "data": {
      "text/plain": [
       "RandomizedSearchCV(cv=KFold(n_splits=5, random_state=None, shuffle=False),\n",
       "                   error_score='raise-deprecating',\n",
       "                   estimator=SGDRegressor(alpha=0.05, average=False,\n",
       "                                          early_stopping=False, epsilon=0.1,\n",
       "                                          eta0=0.01, fit_intercept=True,\n",
       "                                          l1_ratio=0.15,\n",
       "                                          learning_rate='invscaling',\n",
       "                                          loss='squared_loss', max_iter=1000,\n",
       "                                          n_iter_no_change=5, penalty='l2',\n",
       "                                          power_t=0.5, random_state=None...\n",
       "                                          validation_fraction=0.1, verbose=0,\n",
       "                                          warm_start=False),\n",
       "                   iid='warn', n_iter=100, n_jobs=None,\n",
       "                   param_distributions={'alpha': [0.0001, 0.001, 0.005],\n",
       "                                        'eta0': [0.001, 0.01, 0.05],\n",
       "                                        'penalty': ['l1', 'l2'],\n",
       "                                        'power_t': [0.3, 0.5, 0.7]},\n",
       "                   pre_dispatch='2*n_jobs', random_state=None, refit=True,\n",
       "                   return_train_score=False,\n",
       "                   scoring=make_scorer(mean_absolute_error, greater_is_better=False),\n",
       "                   verbose=0)"
      ]
     },
     "execution_count": 331,
     "metadata": {},
     "output_type": "execute_result"
    }
   ],
   "source": [
    "%%time\n",
    "randomized_grid_cv.fit(X_train, y_train)"
   ]
  },
  {
   "cell_type": "code",
   "execution_count": 332,
   "metadata": {},
   "outputs": [
    {
     "data": {
      "text/plain": [
       "SGDRegressor(alpha=0.005, average=False, early_stopping=False, epsilon=0.1,\n",
       "             eta0=0.01, fit_intercept=True, l1_ratio=0.15,\n",
       "             learning_rate='invscaling', loss='squared_loss', max_iter=1000,\n",
       "             n_iter_no_change=5, penalty='l2', power_t=0.3, random_state=None,\n",
       "             shuffle=False, tol=4, validation_fraction=0.1, verbose=0,\n",
       "             warm_start=False)"
      ]
     },
     "execution_count": 332,
     "metadata": {},
     "output_type": "execute_result"
    }
   ],
   "source": [
    "randomized_grid_cv.best_estimator_"
   ]
  },
  {
   "cell_type": "code",
   "execution_count": 333,
   "metadata": {},
   "outputs": [
    {
     "name": "stdout",
     "output_type": "stream",
     "text": [
      "-80.12173314691441\n",
      "{'power_t': 0.3, 'penalty': 'l2', 'eta0': 0.01, 'alpha': 0.005}\n"
     ]
    }
   ],
   "source": [
    "print(randomized_grid_cv.best_score_)\n",
    "print(randomized_grid_cv.best_params_)"
   ]
  },
  {
   "cell_type": "code",
   "execution_count": 334,
   "metadata": {},
   "outputs": [
    {
     "data": {
      "text/plain": [
       "75.8061370654723"
      ]
     },
     "execution_count": 334,
     "metadata": {},
     "output_type": "execute_result"
    }
   ],
   "source": [
    "predictions = randomized_grid_cv.predict(X_test)\n",
    "metrics.mean_absolute_error(y_test, predictions)"
   ]
  },
  {
   "cell_type": "code",
   "execution_count": 335,
   "metadata": {},
   "outputs": [],
   "source": [
    "randomized_grid_cv = RandomizedSearchCV(SGD_regressor, parameters_grid, scoring = scorerCV, \\\n",
    "                                        cv = cv_strategy_TMS, n_iter = 100)"
   ]
  },
  {
   "cell_type": "code",
   "execution_count": 336,
   "metadata": {
    "scrolled": true
   },
   "outputs": [
    {
     "name": "stdout",
     "output_type": "stream",
     "text": [
      "CPU times: user 2.56 s, sys: 4.65 ms, total: 2.56 s\n",
      "Wall time: 2.57 s\n"
     ]
    },
    {
     "data": {
      "text/plain": [
       "RandomizedSearchCV(cv=TimeSeriesSplit(max_train_size=None, n_splits=5),\n",
       "                   error_score='raise-deprecating',\n",
       "                   estimator=SGDRegressor(alpha=0.05, average=False,\n",
       "                                          early_stopping=False, epsilon=0.1,\n",
       "                                          eta0=0.01, fit_intercept=True,\n",
       "                                          l1_ratio=0.15,\n",
       "                                          learning_rate='invscaling',\n",
       "                                          loss='squared_loss', max_iter=1000,\n",
       "                                          n_iter_no_change=5, penalty='l2',\n",
       "                                          power_t=0.5, random_state=None,\n",
       "                                          s...\n",
       "                                          validation_fraction=0.1, verbose=0,\n",
       "                                          warm_start=False),\n",
       "                   iid='warn', n_iter=100, n_jobs=None,\n",
       "                   param_distributions={'alpha': [0.0001, 0.001, 0.005],\n",
       "                                        'eta0': [0.001, 0.01, 0.05],\n",
       "                                        'penalty': ['l1', 'l2'],\n",
       "                                        'power_t': [0.3, 0.5, 0.7]},\n",
       "                   pre_dispatch='2*n_jobs', random_state=None, refit=True,\n",
       "                   return_train_score=False,\n",
       "                   scoring=make_scorer(mean_absolute_error, greater_is_better=False),\n",
       "                   verbose=0)"
      ]
     },
     "execution_count": 336,
     "metadata": {},
     "output_type": "execute_result"
    }
   ],
   "source": [
    "%%time\n",
    "randomized_grid_cv.fit(X_train, y_train)"
   ]
  },
  {
   "cell_type": "code",
   "execution_count": 337,
   "metadata": {},
   "outputs": [
    {
     "data": {
      "text/plain": [
       "SGDRegressor(alpha=0.005, average=False, early_stopping=False, epsilon=0.1,\n",
       "             eta0=0.05, fit_intercept=True, l1_ratio=0.15,\n",
       "             learning_rate='invscaling', loss='squared_loss', max_iter=1000,\n",
       "             n_iter_no_change=5, penalty='l2', power_t=0.3, random_state=None,\n",
       "             shuffle=False, tol=4, validation_fraction=0.1, verbose=0,\n",
       "             warm_start=False)"
      ]
     },
     "execution_count": 337,
     "metadata": {},
     "output_type": "execute_result"
    }
   ],
   "source": [
    "randomized_grid_cv.best_estimator_"
   ]
  },
  {
   "cell_type": "code",
   "execution_count": 338,
   "metadata": {},
   "outputs": [
    {
     "name": "stdout",
     "output_type": "stream",
     "text": [
      "-175.24035951560617\n",
      "{'power_t': 0.3, 'penalty': 'l2', 'eta0': 0.05, 'alpha': 0.005}\n"
     ]
    }
   ],
   "source": [
    "print(randomized_grid_cv.best_score_)\n",
    "print(randomized_grid_cv.best_params_)"
   ]
  },
  {
   "cell_type": "code",
   "execution_count": 339,
   "metadata": {},
   "outputs": [
    {
     "data": {
      "text/plain": [
       "97.78042765743255"
      ]
     },
     "execution_count": 339,
     "metadata": {},
     "output_type": "execute_result"
    }
   ],
   "source": [
    "predictions = randomized_grid_cv.predict(X_test)\n",
    "metrics.mean_absolute_error(y_test, predictions)"
   ]
  },
  {
   "cell_type": "markdown",
   "metadata": {},
   "source": [
    "### GradientBoostingRegressor"
   ]
  },
  {
   "cell_type": "code",
   "execution_count": 340,
   "metadata": {},
   "outputs": [],
   "source": [
    "estimator = GradientBoostingRegressor()\n",
    "estimator.fit(X_train, y_train)\n",
    "predictions = estimator.predict(X_test)"
   ]
  },
  {
   "cell_type": "code",
   "execution_count": 341,
   "metadata": {},
   "outputs": [
    {
     "data": {
      "text/plain": [
       "142.83005888696883"
      ]
     },
     "execution_count": 341,
     "metadata": {},
     "output_type": "execute_result"
    }
   ],
   "source": [
    "metrics.mean_absolute_error(y_test, predictions)"
   ]
  },
  {
   "cell_type": "code",
   "execution_count": 342,
   "metadata": {},
   "outputs": [
    {
     "name": "stdout",
     "output_type": "stream",
     "text": [
      "GBR (KFold) mean:106.98360233298851, max:177.50056539969796, min:61.38981041802707, std:41.25386705977016\n"
     ]
    }
   ],
   "source": [
    "GBR_scoring = cross_val_score(estimator, X_train, y_train, scoring = scorer, cv = cv_strategy_KFold)\n",
    "print ('GBR (KFold) mean:{}, max:{}, min:{}, std:{}'.format(GBR_scoring .mean(), GBR_scoring .max(), \n",
    "                                                     GBR_scoring .min(), GBR_scoring .std()))"
   ]
  },
  {
   "cell_type": "code",
   "execution_count": 343,
   "metadata": {},
   "outputs": [
    {
     "data": {
      "text/plain": [
       "array([ 61.38981042,  74.94277907,  96.29414859, 177.5005654 ,\n",
       "       124.79070819])"
      ]
     },
     "execution_count": 343,
     "metadata": {},
     "output_type": "execute_result"
    }
   ],
   "source": [
    "GBR_scoring"
   ]
  },
  {
   "cell_type": "code",
   "execution_count": 344,
   "metadata": {},
   "outputs": [
    {
     "name": "stdout",
     "output_type": "stream",
     "text": [
      "GBR (TMS) mean:113.15137844868414, max:193.51747759200893, min:44.55623426319882, std:52.716086081584116\n"
     ]
    }
   ],
   "source": [
    "GBR_scoring = cross_val_score(estimator, X_train, y_train, scoring = scorer, cv = cv_strategy_TMS)\n",
    "print ('GBR (TMS) mean:{}, max:{}, min:{}, std:{}'.format(GBR_scoring .mean(), GBR_scoring .max(), \n",
    "                                                     GBR_scoring .min(), GBR_scoring .std()))"
   ]
  },
  {
   "cell_type": "code",
   "execution_count": 345,
   "metadata": {},
   "outputs": [
    {
     "data": {
      "text/plain": [
       "array([ 44.55623426, 110.21452917,  72.10592702, 193.51747759,\n",
       "       145.3627242 ])"
      ]
     },
     "execution_count": 345,
     "metadata": {},
     "output_type": "execute_result"
    }
   ],
   "source": [
    "GBR_scoring"
   ]
  },
  {
   "cell_type": "code",
   "execution_count": 346,
   "metadata": {},
   "outputs": [
    {
     "data": {
      "text/plain": [
       "dict_keys(['alpha', 'criterion', 'init', 'learning_rate', 'loss', 'max_depth', 'max_features', 'max_leaf_nodes', 'min_impurity_decrease', 'min_impurity_split', 'min_samples_leaf', 'min_samples_split', 'min_weight_fraction_leaf', 'n_estimators', 'n_iter_no_change', 'presort', 'random_state', 'subsample', 'tol', 'validation_fraction', 'verbose', 'warm_start'])"
      ]
     },
     "execution_count": 346,
     "metadata": {},
     "output_type": "execute_result"
    }
   ],
   "source": [
    "estimator.get_params().keys()"
   ]
  },
  {
   "cell_type": "code",
   "execution_count": 347,
   "metadata": {},
   "outputs": [],
   "source": [
    "parameters_grid = {\n",
    "    'n_estimators' : [50, 100, 200, 500],\n",
    "    'max_depth' : [3, 5, 10, 15],\n",
    "    \n",
    "}"
   ]
  },
  {
   "cell_type": "code",
   "execution_count": 348,
   "metadata": {},
   "outputs": [],
   "source": [
    "grid_cv = GridSearchCV(estimator, parameters_grid, scoring = scorerCV, cv = cv_strategy_KFold)"
   ]
  },
  {
   "cell_type": "code",
   "execution_count": 349,
   "metadata": {},
   "outputs": [
    {
     "name": "stdout",
     "output_type": "stream",
     "text": [
      "CPU times: user 8.67 s, sys: 28.6 ms, total: 8.7 s\n",
      "Wall time: 8.73 s\n"
     ]
    },
    {
     "data": {
      "text/plain": [
       "GridSearchCV(cv=KFold(n_splits=5, random_state=None, shuffle=False),\n",
       "             error_score='raise-deprecating',\n",
       "             estimator=GradientBoostingRegressor(alpha=0.9,\n",
       "                                                 criterion='friedman_mse',\n",
       "                                                 init=None, learning_rate=0.1,\n",
       "                                                 loss='ls', max_depth=3,\n",
       "                                                 max_features=None,\n",
       "                                                 max_leaf_nodes=None,\n",
       "                                                 min_impurity_decrease=0.0,\n",
       "                                                 min_impurity_split=None,\n",
       "                                                 min_samples_leaf=1,\n",
       "                                                 min_samples_split=2,\n",
       "                                                 min_...\n",
       "                                                 n_iter_no_change=None,\n",
       "                                                 presort='auto',\n",
       "                                                 random_state=None,\n",
       "                                                 subsample=1.0, tol=0.0001,\n",
       "                                                 validation_fraction=0.1,\n",
       "                                                 verbose=0, warm_start=False),\n",
       "             iid='warn', n_jobs=None,\n",
       "             param_grid={'max_depth': [3, 5, 10, 15],\n",
       "                         'n_estimators': [50, 100, 200, 500]},\n",
       "             pre_dispatch='2*n_jobs', refit=True, return_train_score=False,\n",
       "             scoring=make_scorer(mean_absolute_error, greater_is_better=False),\n",
       "             verbose=0)"
      ]
     },
     "execution_count": 349,
     "metadata": {},
     "output_type": "execute_result"
    }
   ],
   "source": [
    "%%time\n",
    "grid_cv.fit(X_train, y_train)"
   ]
  },
  {
   "cell_type": "code",
   "execution_count": 350,
   "metadata": {},
   "outputs": [
    {
     "data": {
      "text/plain": [
       "GradientBoostingRegressor(alpha=0.9, criterion='friedman_mse', init=None,\n",
       "                          learning_rate=0.1, loss='ls', max_depth=5,\n",
       "                          max_features=None, max_leaf_nodes=None,\n",
       "                          min_impurity_decrease=0.0, min_impurity_split=None,\n",
       "                          min_samples_leaf=1, min_samples_split=2,\n",
       "                          min_weight_fraction_leaf=0.0, n_estimators=200,\n",
       "                          n_iter_no_change=None, presort='auto',\n",
       "                          random_state=None, subsample=1.0, tol=0.0001,\n",
       "                          validation_fraction=0.1, verbose=0, warm_start=False)"
      ]
     },
     "execution_count": 350,
     "metadata": {},
     "output_type": "execute_result"
    }
   ],
   "source": [
    "grid_cv.best_estimator_"
   ]
  },
  {
   "cell_type": "code",
   "execution_count": 351,
   "metadata": {},
   "outputs": [
    {
     "name": "stdout",
     "output_type": "stream",
     "text": [
      "-98.15110795287454\n",
      "{'max_depth': 5, 'n_estimators': 200}\n"
     ]
    }
   ],
   "source": [
    "print(grid_cv.best_score_)\n",
    "print(grid_cv.best_params_)"
   ]
  },
  {
   "cell_type": "code",
   "execution_count": 352,
   "metadata": {},
   "outputs": [
    {
     "data": {
      "text/plain": [
       "129.86240963045472"
      ]
     },
     "execution_count": 352,
     "metadata": {},
     "output_type": "execute_result"
    }
   ],
   "source": [
    "predictions = grid_cv.predict(X_test)\n",
    "metrics.mean_absolute_error(y_test, predictions)"
   ]
  },
  {
   "cell_type": "code",
   "execution_count": 353,
   "metadata": {},
   "outputs": [],
   "source": [
    "grid_cv = GridSearchCV(estimator, parameters_grid, scoring = scorerCV, cv = cv_strategy_TMS)"
   ]
  },
  {
   "cell_type": "code",
   "execution_count": 354,
   "metadata": {},
   "outputs": [
    {
     "name": "stdout",
     "output_type": "stream",
     "text": [
      "CPU times: user 6.42 s, sys: 13.1 ms, total: 6.43 s\n",
      "Wall time: 6.45 s\n"
     ]
    },
    {
     "data": {
      "text/plain": [
       "GridSearchCV(cv=TimeSeriesSplit(max_train_size=None, n_splits=5),\n",
       "             error_score='raise-deprecating',\n",
       "             estimator=GradientBoostingRegressor(alpha=0.9,\n",
       "                                                 criterion='friedman_mse',\n",
       "                                                 init=None, learning_rate=0.1,\n",
       "                                                 loss='ls', max_depth=3,\n",
       "                                                 max_features=None,\n",
       "                                                 max_leaf_nodes=None,\n",
       "                                                 min_impurity_decrease=0.0,\n",
       "                                                 min_impurity_split=None,\n",
       "                                                 min_samples_leaf=1,\n",
       "                                                 min_samples_split=2,\n",
       "                                                 min_we...\n",
       "                                                 n_iter_no_change=None,\n",
       "                                                 presort='auto',\n",
       "                                                 random_state=None,\n",
       "                                                 subsample=1.0, tol=0.0001,\n",
       "                                                 validation_fraction=0.1,\n",
       "                                                 verbose=0, warm_start=False),\n",
       "             iid='warn', n_jobs=None,\n",
       "             param_grid={'max_depth': [3, 5, 10, 15],\n",
       "                         'n_estimators': [50, 100, 200, 500]},\n",
       "             pre_dispatch='2*n_jobs', refit=True, return_train_score=False,\n",
       "             scoring=make_scorer(mean_absolute_error, greater_is_better=False),\n",
       "             verbose=0)"
      ]
     },
     "execution_count": 354,
     "metadata": {},
     "output_type": "execute_result"
    }
   ],
   "source": [
    "%%time\n",
    "grid_cv.fit(X_train, y_train)"
   ]
  },
  {
   "cell_type": "code",
   "execution_count": 355,
   "metadata": {},
   "outputs": [
    {
     "data": {
      "text/plain": [
       "GradientBoostingRegressor(alpha=0.9, criterion='friedman_mse', init=None,\n",
       "                          learning_rate=0.1, loss='ls', max_depth=15,\n",
       "                          max_features=None, max_leaf_nodes=None,\n",
       "                          min_impurity_decrease=0.0, min_impurity_split=None,\n",
       "                          min_samples_leaf=1, min_samples_split=2,\n",
       "                          min_weight_fraction_leaf=0.0, n_estimators=100,\n",
       "                          n_iter_no_change=None, presort='auto',\n",
       "                          random_state=None, subsample=1.0, tol=0.0001,\n",
       "                          validation_fraction=0.1, verbose=0, warm_start=False)"
      ]
     },
     "execution_count": 355,
     "metadata": {},
     "output_type": "execute_result"
    }
   ],
   "source": [
    "grid_cv.best_estimator_"
   ]
  },
  {
   "cell_type": "code",
   "execution_count": 356,
   "metadata": {},
   "outputs": [
    {
     "name": "stdout",
     "output_type": "stream",
     "text": [
      "-110.87105144086775\n",
      "{'max_depth': 15, 'n_estimators': 100}\n"
     ]
    }
   ],
   "source": [
    "print(grid_cv.best_score_)\n",
    "print(grid_cv.best_params_)"
   ]
  },
  {
   "cell_type": "code",
   "execution_count": 357,
   "metadata": {},
   "outputs": [
    {
     "data": {
      "text/plain": [
       "136.70836864450433"
      ]
     },
     "execution_count": 357,
     "metadata": {},
     "output_type": "execute_result"
    }
   ],
   "source": [
    "predictions = grid_cv.predict(X_test)\n",
    "metrics.mean_absolute_error(y_test, predictions)"
   ]
  },
  {
   "cell_type": "code",
   "execution_count": 358,
   "metadata": {},
   "outputs": [],
   "source": [
    "#randomized_grid_cv = RandomizedSearchCV(estimator, parameters_grid, scoring = scorerCV, cv = cv_strategy_KFold, n_iter = 20, random_state = 0)"
   ]
  },
  {
   "cell_type": "code",
   "execution_count": 359,
   "metadata": {},
   "outputs": [],
   "source": [
    "#%%time\n",
    "#randomized_grid_cv.fit(X_train, y_train)"
   ]
  },
  {
   "cell_type": "code",
   "execution_count": 360,
   "metadata": {},
   "outputs": [],
   "source": [
    "#print(randomized_grid_cv.best_score_)\n",
    "#print(randomized_grid_cv.best_params_)"
   ]
  },
  {
   "cell_type": "code",
   "execution_count": 361,
   "metadata": {},
   "outputs": [],
   "source": [
    "#predictions = randomized_grid_cv.predict(X_test)\n",
    "#metrics.mean_absolute_error(y_test, predictions)"
   ]
  },
  {
   "cell_type": "code",
   "execution_count": 362,
   "metadata": {},
   "outputs": [],
   "source": [
    "#randomized_grid_cv = RandomizedSearchCV(estimator, parameters_grid, scoring = scorerCV, cv = cv_strategy_TMS, n_iter = 20, random_state = 0)"
   ]
  },
  {
   "cell_type": "code",
   "execution_count": 363,
   "metadata": {},
   "outputs": [],
   "source": [
    "#%%time\n",
    "#randomized_grid_cv.fit(X_train, y_train)"
   ]
  },
  {
   "cell_type": "code",
   "execution_count": 364,
   "metadata": {},
   "outputs": [],
   "source": [
    "#print(randomized_grid_cv.best_score_)\n",
    "#print(randomized_grid_cv.best_params_)"
   ]
  },
  {
   "cell_type": "code",
   "execution_count": 365,
   "metadata": {},
   "outputs": [],
   "source": [
    "#predictions = randomized_grid_cv.predict(X_test)\n",
    "#metrics.mean_absolute_error(y_test, predictions)"
   ]
  },
  {
   "cell_type": "code",
   "execution_count": 366,
   "metadata": {},
   "outputs": [],
   "source": [
    "train_data_ALL.drop(['brent_close_STD','brent_open_STD','brent_max_STD','brent_min_STD', 'USDCNY_close_MEAN', 'USDCNY_close_MIN', 'USDCNY_close_MAX',\n",
    "       'USDCNY_close_MEDIAN', 'USDCNY_close_STD', 'USDCNY_open_MEAN',\n",
    "       'USDCNY_open_MIN', 'USDCNY_open_MAX', 'USDCNY_open_MEDIAN',\n",
    "       'USDCNY_open_STD', 'USDCNY_max_MEAN', 'USDCNY_max_MIN',\n",
    "       'USDCNY_max_MAX', 'USDCNY_max_MEDIAN', 'USDCNY_max_STD',\n",
    "       'USDCNY_min_MEAN', 'USDCNY_min_MIN', 'USDCNY_min_MAX',\n",
    "       'USDCNY_min_MEDIAN', 'USDCNY_min_STD', 'paraxylene_CHN_USD_STD', 'paraxylene_RT_USD_STD', 'ethylene_glycol_CHN_USD_MIN', 'ethylene_glycol_CHN_USD_MAX',\n",
    "       'ethylene_glycol_CHN_USD_MEDIAN', 'ethylene_glycol_CHN_USD_STD', 'paraxylene_SEA_USD_STD'], axis=1, inplace=True)"
   ]
  },
  {
   "cell_type": "code",
   "execution_count": 367,
   "metadata": {
    "scrolled": false
   },
   "outputs": [
    {
     "data": {
      "text/html": [
       "<div>\n",
       "<style scoped>\n",
       "    .dataframe tbody tr th:only-of-type {\n",
       "        vertical-align: middle;\n",
       "    }\n",
       "\n",
       "    .dataframe tbody tr th {\n",
       "        vertical-align: top;\n",
       "    }\n",
       "\n",
       "    .dataframe thead th {\n",
       "        text-align: right;\n",
       "    }\n",
       "</style>\n",
       "<table border=\"1\" class=\"dataframe\">\n",
       "  <thead>\n",
       "    <tr style=\"text-align: right;\">\n",
       "      <th></th>\n",
       "      <th>brent_close_MEAN</th>\n",
       "      <th>brent_close_MIN</th>\n",
       "      <th>brent_close_MAX</th>\n",
       "      <th>brent_close_MEDIAN</th>\n",
       "      <th>brent_open_MEAN</th>\n",
       "      <th>brent_open_MIN</th>\n",
       "      <th>brent_open_MAX</th>\n",
       "      <th>brent_open_MEDIAN</th>\n",
       "      <th>brent_max_MEAN</th>\n",
       "      <th>brent_max_MIN</th>\n",
       "      <th>...</th>\n",
       "      <th>paraxylene_SEA_USD_MEDIAN</th>\n",
       "      <th>ethylene_glycol_EU_EUR_MEAN</th>\n",
       "      <th>ethylene_glycol_EU_EUR_MIN</th>\n",
       "      <th>ethylene_glycol_EU_EUR_MAX</th>\n",
       "      <th>ethylene_glycol_EU_EUR_MEDIAN</th>\n",
       "      <th>ethylene_glycol_EU_EUR_STD</th>\n",
       "      <th>ethylene_glycol_CHN_USD_MEAN</th>\n",
       "      <th>Year_MEAN</th>\n",
       "      <th>Month_MEAN</th>\n",
       "      <th>pet</th>\n",
       "    </tr>\n",
       "  </thead>\n",
       "  <tbody>\n",
       "    <tr>\n",
       "      <td>0</td>\n",
       "      <td>37.197895</td>\n",
       "      <td>35.93</td>\n",
       "      <td>38.76</td>\n",
       "      <td>37.080</td>\n",
       "      <td>36.990526</td>\n",
       "      <td>35.22</td>\n",
       "      <td>38.30</td>\n",
       "      <td>36.960</td>\n",
       "      <td>37.634737</td>\n",
       "      <td>36.00</td>\n",
       "      <td>...</td>\n",
       "      <td>726.25</td>\n",
       "      <td>650.000</td>\n",
       "      <td>650.0</td>\n",
       "      <td>650.0</td>\n",
       "      <td>650.00</td>\n",
       "      <td>0.000000</td>\n",
       "      <td>856.875</td>\n",
       "      <td>2004.0</td>\n",
       "      <td>5.0</td>\n",
       "      <td>961.25</td>\n",
       "    </tr>\n",
       "    <tr>\n",
       "      <td>1</td>\n",
       "      <td>35.446667</td>\n",
       "      <td>33.11</td>\n",
       "      <td>39.08</td>\n",
       "      <td>35.300</td>\n",
       "      <td>35.418571</td>\n",
       "      <td>33.31</td>\n",
       "      <td>37.15</td>\n",
       "      <td>35.340</td>\n",
       "      <td>35.976190</td>\n",
       "      <td>33.88</td>\n",
       "      <td>...</td>\n",
       "      <td>735.00</td>\n",
       "      <td>647.500</td>\n",
       "      <td>645.0</td>\n",
       "      <td>650.0</td>\n",
       "      <td>647.50</td>\n",
       "      <td>2.886751</td>\n",
       "      <td>853.125</td>\n",
       "      <td>2004.0</td>\n",
       "      <td>6.0</td>\n",
       "      <td>962.00</td>\n",
       "    </tr>\n",
       "    <tr>\n",
       "      <td>2</td>\n",
       "      <td>37.667273</td>\n",
       "      <td>35.92</td>\n",
       "      <td>40.03</td>\n",
       "      <td>37.835</td>\n",
       "      <td>37.364091</td>\n",
       "      <td>34.25</td>\n",
       "      <td>39.55</td>\n",
       "      <td>37.350</td>\n",
       "      <td>38.024091</td>\n",
       "      <td>36.35</td>\n",
       "      <td>...</td>\n",
       "      <td>772.50</td>\n",
       "      <td>648.500</td>\n",
       "      <td>640.0</td>\n",
       "      <td>670.0</td>\n",
       "      <td>645.00</td>\n",
       "      <td>12.449900</td>\n",
       "      <td>892.000</td>\n",
       "      <td>2004.0</td>\n",
       "      <td>7.0</td>\n",
       "      <td>1053.75</td>\n",
       "    </tr>\n",
       "    <tr>\n",
       "      <td>3</td>\n",
       "      <td>41.762500</td>\n",
       "      <td>39.61</td>\n",
       "      <td>44.33</td>\n",
       "      <td>41.425</td>\n",
       "      <td>41.787000</td>\n",
       "      <td>39.70</td>\n",
       "      <td>44.50</td>\n",
       "      <td>41.455</td>\n",
       "      <td>42.324500</td>\n",
       "      <td>39.95</td>\n",
       "      <td>...</td>\n",
       "      <td>898.75</td>\n",
       "      <td>738.125</td>\n",
       "      <td>670.0</td>\n",
       "      <td>795.0</td>\n",
       "      <td>743.75</td>\n",
       "      <td>56.545520</td>\n",
       "      <td>1072.500</td>\n",
       "      <td>2004.0</td>\n",
       "      <td>8.0</td>\n",
       "      <td>1180.00</td>\n",
       "    </tr>\n",
       "    <tr>\n",
       "      <td>4</td>\n",
       "      <td>42.855909</td>\n",
       "      <td>40.20</td>\n",
       "      <td>46.45</td>\n",
       "      <td>42.035</td>\n",
       "      <td>42.626364</td>\n",
       "      <td>39.90</td>\n",
       "      <td>46.80</td>\n",
       "      <td>41.815</td>\n",
       "      <td>43.370455</td>\n",
       "      <td>40.90</td>\n",
       "      <td>...</td>\n",
       "      <td>917.50</td>\n",
       "      <td>900.000</td>\n",
       "      <td>815.0</td>\n",
       "      <td>930.0</td>\n",
       "      <td>927.50</td>\n",
       "      <td>56.715665</td>\n",
       "      <td>1158.750</td>\n",
       "      <td>2004.0</td>\n",
       "      <td>9.0</td>\n",
       "      <td>1240.00</td>\n",
       "    </tr>\n",
       "    <tr>\n",
       "      <td>...</td>\n",
       "      <td>...</td>\n",
       "      <td>...</td>\n",
       "      <td>...</td>\n",
       "      <td>...</td>\n",
       "      <td>...</td>\n",
       "      <td>...</td>\n",
       "      <td>...</td>\n",
       "      <td>...</td>\n",
       "      <td>...</td>\n",
       "      <td>...</td>\n",
       "      <td>...</td>\n",
       "      <td>...</td>\n",
       "      <td>...</td>\n",
       "      <td>...</td>\n",
       "      <td>...</td>\n",
       "      <td>...</td>\n",
       "      <td>...</td>\n",
       "      <td>...</td>\n",
       "      <td>...</td>\n",
       "      <td>...</td>\n",
       "      <td>...</td>\n",
       "    </tr>\n",
       "    <tr>\n",
       "      <td>179</td>\n",
       "      <td>71.628571</td>\n",
       "      <td>69.01</td>\n",
       "      <td>74.57</td>\n",
       "      <td>71.620</td>\n",
       "      <td>71.375238</td>\n",
       "      <td>67.58</td>\n",
       "      <td>74.46</td>\n",
       "      <td>71.550</td>\n",
       "      <td>72.131429</td>\n",
       "      <td>69.22</td>\n",
       "      <td>...</td>\n",
       "      <td>995.50</td>\n",
       "      <td>598.125</td>\n",
       "      <td>582.5</td>\n",
       "      <td>607.5</td>\n",
       "      <td>601.25</td>\n",
       "      <td>11.250000</td>\n",
       "      <td>598.000</td>\n",
       "      <td>2019.0</td>\n",
       "      <td>4.0</td>\n",
       "      <td>NaN</td>\n",
       "    </tr>\n",
       "    <tr>\n",
       "      <td>180</td>\n",
       "      <td>70.134286</td>\n",
       "      <td>64.49</td>\n",
       "      <td>72.62</td>\n",
       "      <td>70.390</td>\n",
       "      <td>70.450952</td>\n",
       "      <td>66.24</td>\n",
       "      <td>72.82</td>\n",
       "      <td>70.480</td>\n",
       "      <td>71.167619</td>\n",
       "      <td>66.28</td>\n",
       "      <td>...</td>\n",
       "      <td>867.00</td>\n",
       "      <td>574.000</td>\n",
       "      <td>570.0</td>\n",
       "      <td>577.5</td>\n",
       "      <td>575.00</td>\n",
       "      <td>2.850439</td>\n",
       "      <td>551.600</td>\n",
       "      <td>2019.0</td>\n",
       "      <td>5.0</td>\n",
       "      <td>NaN</td>\n",
       "    </tr>\n",
       "    <tr>\n",
       "      <td>181</td>\n",
       "      <td>63.164737</td>\n",
       "      <td>59.97</td>\n",
       "      <td>66.55</td>\n",
       "      <td>62.290</td>\n",
       "      <td>62.934737</td>\n",
       "      <td>59.94</td>\n",
       "      <td>66.51</td>\n",
       "      <td>62.400</td>\n",
       "      <td>63.980526</td>\n",
       "      <td>61.85</td>\n",
       "      <td>...</td>\n",
       "      <td>832.00</td>\n",
       "      <td>528.750</td>\n",
       "      <td>512.5</td>\n",
       "      <td>545.0</td>\n",
       "      <td>528.75</td>\n",
       "      <td>14.215602</td>\n",
       "      <td>536.250</td>\n",
       "      <td>2019.0</td>\n",
       "      <td>6.0</td>\n",
       "      <td>NaN</td>\n",
       "    </tr>\n",
       "    <tr>\n",
       "      <td>182</td>\n",
       "      <td>NaN</td>\n",
       "      <td>NaN</td>\n",
       "      <td>NaN</td>\n",
       "      <td>NaN</td>\n",
       "      <td>NaN</td>\n",
       "      <td>NaN</td>\n",
       "      <td>NaN</td>\n",
       "      <td>NaN</td>\n",
       "      <td>NaN</td>\n",
       "      <td>NaN</td>\n",
       "      <td>...</td>\n",
       "      <td>840.50</td>\n",
       "      <td>493.125</td>\n",
       "      <td>480.0</td>\n",
       "      <td>502.5</td>\n",
       "      <td>495.00</td>\n",
       "      <td>10.282469</td>\n",
       "      <td>536.500</td>\n",
       "      <td>2019.0</td>\n",
       "      <td>7.0</td>\n",
       "      <td>NaN</td>\n",
       "    </tr>\n",
       "    <tr>\n",
       "      <td>183</td>\n",
       "      <td>NaN</td>\n",
       "      <td>NaN</td>\n",
       "      <td>NaN</td>\n",
       "      <td>NaN</td>\n",
       "      <td>NaN</td>\n",
       "      <td>NaN</td>\n",
       "      <td>NaN</td>\n",
       "      <td>NaN</td>\n",
       "      <td>NaN</td>\n",
       "      <td>NaN</td>\n",
       "      <td>...</td>\n",
       "      <td>784.00</td>\n",
       "      <td>467.500</td>\n",
       "      <td>462.5</td>\n",
       "      <td>475.0</td>\n",
       "      <td>465.00</td>\n",
       "      <td>6.614378</td>\n",
       "      <td>532.000</td>\n",
       "      <td>2019.0</td>\n",
       "      <td>8.0</td>\n",
       "      <td>NaN</td>\n",
       "    </tr>\n",
       "  </tbody>\n",
       "</table>\n",
       "<p>184 rows × 37 columns</p>\n",
       "</div>"
      ],
      "text/plain": [
       "     brent_close_MEAN  brent_close_MIN  brent_close_MAX  brent_close_MEDIAN  \\\n",
       "0           37.197895            35.93            38.76              37.080   \n",
       "1           35.446667            33.11            39.08              35.300   \n",
       "2           37.667273            35.92            40.03              37.835   \n",
       "3           41.762500            39.61            44.33              41.425   \n",
       "4           42.855909            40.20            46.45              42.035   \n",
       "..                ...              ...              ...                 ...   \n",
       "179         71.628571            69.01            74.57              71.620   \n",
       "180         70.134286            64.49            72.62              70.390   \n",
       "181         63.164737            59.97            66.55              62.290   \n",
       "182               NaN              NaN              NaN                 NaN   \n",
       "183               NaN              NaN              NaN                 NaN   \n",
       "\n",
       "     brent_open_MEAN  brent_open_MIN  brent_open_MAX  brent_open_MEDIAN  \\\n",
       "0          36.990526           35.22           38.30             36.960   \n",
       "1          35.418571           33.31           37.15             35.340   \n",
       "2          37.364091           34.25           39.55             37.350   \n",
       "3          41.787000           39.70           44.50             41.455   \n",
       "4          42.626364           39.90           46.80             41.815   \n",
       "..               ...             ...             ...                ...   \n",
       "179        71.375238           67.58           74.46             71.550   \n",
       "180        70.450952           66.24           72.82             70.480   \n",
       "181        62.934737           59.94           66.51             62.400   \n",
       "182              NaN             NaN             NaN                NaN   \n",
       "183              NaN             NaN             NaN                NaN   \n",
       "\n",
       "     brent_max_MEAN  brent_max_MIN  ...  paraxylene_SEA_USD_MEDIAN  \\\n",
       "0         37.634737          36.00  ...                     726.25   \n",
       "1         35.976190          33.88  ...                     735.00   \n",
       "2         38.024091          36.35  ...                     772.50   \n",
       "3         42.324500          39.95  ...                     898.75   \n",
       "4         43.370455          40.90  ...                     917.50   \n",
       "..              ...            ...  ...                        ...   \n",
       "179       72.131429          69.22  ...                     995.50   \n",
       "180       71.167619          66.28  ...                     867.00   \n",
       "181       63.980526          61.85  ...                     832.00   \n",
       "182             NaN            NaN  ...                     840.50   \n",
       "183             NaN            NaN  ...                     784.00   \n",
       "\n",
       "     ethylene_glycol_EU_EUR_MEAN  ethylene_glycol_EU_EUR_MIN  \\\n",
       "0                        650.000                       650.0   \n",
       "1                        647.500                       645.0   \n",
       "2                        648.500                       640.0   \n",
       "3                        738.125                       670.0   \n",
       "4                        900.000                       815.0   \n",
       "..                           ...                         ...   \n",
       "179                      598.125                       582.5   \n",
       "180                      574.000                       570.0   \n",
       "181                      528.750                       512.5   \n",
       "182                      493.125                       480.0   \n",
       "183                      467.500                       462.5   \n",
       "\n",
       "     ethylene_glycol_EU_EUR_MAX  ethylene_glycol_EU_EUR_MEDIAN  \\\n",
       "0                         650.0                         650.00   \n",
       "1                         650.0                         647.50   \n",
       "2                         670.0                         645.00   \n",
       "3                         795.0                         743.75   \n",
       "4                         930.0                         927.50   \n",
       "..                          ...                            ...   \n",
       "179                       607.5                         601.25   \n",
       "180                       577.5                         575.00   \n",
       "181                       545.0                         528.75   \n",
       "182                       502.5                         495.00   \n",
       "183                       475.0                         465.00   \n",
       "\n",
       "     ethylene_glycol_EU_EUR_STD  ethylene_glycol_CHN_USD_MEAN  Year_MEAN  \\\n",
       "0                      0.000000                       856.875     2004.0   \n",
       "1                      2.886751                       853.125     2004.0   \n",
       "2                     12.449900                       892.000     2004.0   \n",
       "3                     56.545520                      1072.500     2004.0   \n",
       "4                     56.715665                      1158.750     2004.0   \n",
       "..                          ...                           ...        ...   \n",
       "179                   11.250000                       598.000     2019.0   \n",
       "180                    2.850439                       551.600     2019.0   \n",
       "181                   14.215602                       536.250     2019.0   \n",
       "182                   10.282469                       536.500     2019.0   \n",
       "183                    6.614378                       532.000     2019.0   \n",
       "\n",
       "     Month_MEAN      pet  \n",
       "0           5.0   961.25  \n",
       "1           6.0   962.00  \n",
       "2           7.0  1053.75  \n",
       "3           8.0  1180.00  \n",
       "4           9.0  1240.00  \n",
       "..          ...      ...  \n",
       "179         4.0      NaN  \n",
       "180         5.0      NaN  \n",
       "181         6.0      NaN  \n",
       "182         7.0      NaN  \n",
       "183         8.0      NaN  \n",
       "\n",
       "[184 rows x 37 columns]"
      ]
     },
     "execution_count": 367,
     "metadata": {},
     "output_type": "execute_result"
    }
   ],
   "source": [
    "train_data_ALL"
   ]
  },
  {
   "cell_type": "code",
   "execution_count": 368,
   "metadata": {},
   "outputs": [],
   "source": [
    "#stop"
   ]
  },
  {
   "cell_type": "code",
   "execution_count": 369,
   "metadata": {},
   "outputs": [
    {
     "data": {
      "text/plain": [
       "GradientBoostingRegressor(alpha=0.9, criterion='friedman_mse', init=None,\n",
       "                          learning_rate=0.1, loss='ls', max_depth=3,\n",
       "                          max_features=None, max_leaf_nodes=None,\n",
       "                          min_impurity_decrease=0.0, min_impurity_split=None,\n",
       "                          min_samples_leaf=1, min_samples_split=2,\n",
       "                          min_weight_fraction_leaf=0.0, n_estimators=100,\n",
       "                          n_iter_no_change=None, presort='auto',\n",
       "                          random_state=None, subsample=1.0, tol=0.0001,\n",
       "                          validation_fraction=0.1, verbose=0, warm_start=False)"
      ]
     },
     "execution_count": 369,
     "metadata": {},
     "output_type": "execute_result"
    }
   ],
   "source": [
    "linear_regressor = linear_model.Ridge(alpha = 0.5)\n",
    "linear_regressor.fit(X_train, y_train)\n",
    "\n",
    "SGD_regressor = linear_model.SGDRegressor(shuffle=False,tol=4, power_t=0.5, penalty= 'l2',\\\n",
    "                                          eta0= 0.01, alpha= 0.05)\n",
    "SGD_regressor.fit(X_train, y_train)\n",
    "\n",
    "estimator = GradientBoostingRegressor()\n",
    "estimator.fit(X_train, y_train)\n"
   ]
  },
  {
   "cell_type": "code",
   "execution_count": 370,
   "metadata": {},
   "outputs": [],
   "source": [
    "pred_list_LR = []\n",
    "pred_list_SGD = []\n",
    "pred_list_GB = []\n",
    "\n",
    "for i in np.array(test_target):\n",
    "    #print(int(str(i)[2:6]))\n",
    "    #print(int(str(i)[7:9]))\n",
    "          \n",
    "    if int(str(i)[7:9]) == 1:\n",
    "        x = train_data_ALL[(train_data_ALL.Year_MEAN == int(str(i)[2:6])-1) & \\\n",
    "                           (train_data_ALL.Month_MEAN == 12)].drop(['pet', 'Year_MEAN','Month_MEAN'], 1)\n",
    "        \n",
    "    else:\n",
    "        x = train_data_ALL[(train_data_ALL.Year_MEAN == int(str(i)[2:6])) & \\\n",
    "                           (train_data_ALL.Month_MEAN == int(str(i)[7:9])-1)].drop(['pet', 'Year_MEAN','Month_MEAN'], 1)\n",
    "         \n",
    "    X_scaled_test = scaler.transform(x)\n",
    "    \n",
    "    pred_list_LR.append(linear_regressor.predict(X_scaled_test))\n",
    "    pred_list_SGD.append(SGD_regressor.predict(X_scaled_test))\n",
    "    pred_list_GB.append(estimator.predict(X_scaled_test))"
   ]
  },
  {
   "cell_type": "code",
   "execution_count": 371,
   "metadata": {},
   "outputs": [
    {
     "name": "stdout",
     "output_type": "stream",
     "text": [
      "date,pet\r\n",
      "2016-01-01,881.0\r\n",
      "2016-02-01,882.0\r\n",
      "2016-03-01,918.0\r\n",
      "2016-04-01,983.0\r\n",
      "2016-05-01,956.0\r\n",
      "2016-06-01,975.0\r\n",
      "2016-07-01,969.0\r\n",
      "2016-08-01,970.0\r\n",
      "2016-09-01,945.0\r\n",
      "2016-10-01,975.0\r\n",
      "2016-11-01,991.0\r\n",
      "2016-12-01,1004.0\r\n",
      "2017-01-01,1075.0\r\n",
      "2017-02-01,1107.0\r\n",
      "2017-03-01,1120.0\r\n",
      "2017-04-01,1020.0\r\n",
      "2017-05-01,1019.0\r\n",
      "2017-06-01,992.0\r\n",
      "2017-07-01,1025.0\r\n",
      "2017-08-01,1038.0\r\n",
      "2017-09-01,1075.0\r\n",
      "2017-10-01,1092.0\r\n",
      "2017-11-01,1080.0\r\n",
      "2017-12-01,1127.0\r\n",
      "2018-01-01,1134.0\r\n",
      "2018-02-01,1188.0\r\n",
      "2018-03-01,1184.0\r\n",
      "2018-04-01,1158.0\r\n",
      "2018-05-01,1178.0\r\n",
      "2018-06-01,1210.0\r\n",
      "2018-07-01,1187.0\r\n",
      "2018-08-01,1157.0\r\n",
      "2018-09-01,1235.0\r\n",
      "2018-10-01,1319.0\r\n",
      "2018-11-01,1270.0\r\n",
      "2018-12-01,1120.0\r\n",
      "2019-01-01,1120.0\r\n",
      "2019-02-01,1107.0\r\n",
      "2019-03-01,1111.0\r\n",
      "2019-04-01,1149.0\r\n",
      "2019-05-01,1076.0\r\n",
      "2019-06-01,1008.0\r\n",
      "2019-07-01,973.0\r\n"
     ]
    }
   ],
   "source": [
    "answer_LR = pd.DataFrame()\n",
    "rubber_price_LR = [pred_list_LR[i][0] for i in range(0, len(pred_list_LR))]\n",
    "answer_LR = test_target[['date']]\n",
    "answer_LR['pet']=rubber_price_LR\n",
    "answer_LR.round({'pet': 0}).to_csv('predictedPETPriceLR.csv', sep=',', header=True, index=False)\n",
    "\n",
    "!cat predictedPETPriceLR.csv\n",
    "#!more predictedPETPriceLR.csv"
   ]
  },
  {
   "cell_type": "code",
   "execution_count": 372,
   "metadata": {},
   "outputs": [
    {
     "data": {
      "image/png": "[encoded data removed]",
      "text/plain": [
       "<Figure size 720x720 with 1 Axes>"
      ]
     },
     "metadata": {
      "needs_background": "light"
     },
     "output_type": "display_data"
    }
   ],
   "source": [
    "plt.rcParams[\"figure.figsize\"] = (10,10)\n",
    "\n",
    "pd.merge(train_target, answer_LR,  how='outer').plot('date', 'pet')\n",
    "\n",
    "# Rotate and align xtick labels\n",
    "#ax.get_figure().autofmt_xdate()\n",
    "\n",
    "# make room for tick labels\n",
    "plt.tight_layout()\n",
    "plt.axvspan(160, 186, facecolor='#2ca02c', alpha=0.5)\n",
    "\n",
    "plt.show()"
   ]
  },
  {
   "cell_type": "code",
   "execution_count": 373,
   "metadata": {},
   "outputs": [
    {
     "name": "stdout",
     "output_type": "stream",
     "text": [
      "date,pet\r\n",
      "2016-01-01,801.0\r\n",
      "2016-02-01,827.0\r\n",
      "2016-03-01,860.0\r\n",
      "2016-04-01,899.0\r\n",
      "2016-05-01,900.0\r\n",
      "2016-06-01,878.0\r\n",
      "2016-07-01,878.0\r\n",
      "2016-08-01,897.0\r\n",
      "2016-09-01,891.0\r\n",
      "2016-10-01,905.0\r\n",
      "2016-11-01,911.0\r\n",
      "2016-12-01,948.0\r\n",
      "2017-01-01,1013.0\r\n",
      "2017-02-01,1026.0\r\n",
      "2017-03-01,1008.0\r\n",
      "2017-04-01,939.0\r\n",
      "2017-05-01,910.0\r\n",
      "2017-06-01,901.0\r\n",
      "2017-07-01,931.0\r\n",
      "2017-08-01,957.0\r\n",
      "2017-09-01,964.0\r\n",
      "2017-10-01,993.0\r\n",
      "2017-11-01,974.0\r\n",
      "2017-12-01,1015.0\r\n",
      "2018-01-01,1041.0\r\n",
      "2018-02-01,1100.0\r\n",
      "2018-03-01,1123.0\r\n",
      "2018-04-01,1096.0\r\n",
      "2018-05-01,1127.0\r\n",
      "2018-06-01,1094.0\r\n",
      "2018-07-01,1043.0\r\n",
      "2018-08-01,1058.0\r\n",
      "2018-09-01,1175.0\r\n",
      "2018-10-01,1237.0\r\n",
      "2018-11-01,1204.0\r\n",
      "2018-12-01,1075.0\r\n",
      "2019-01-01,1043.0\r\n",
      "2019-02-01,1000.0\r\n",
      "2019-03-01,1036.0\r\n",
      "2019-04-01,1050.0\r\n",
      "2019-05-01,1002.0\r\n",
      "2019-06-01,918.0\r\n",
      "2019-07-01,897.0\r\n"
     ]
    }
   ],
   "source": [
    "answer_SGD = pd.DataFrame()\n",
    "rubber_price_SGD = [pred_list_SGD[i][0] for i in range(0, len(pred_list_SGD))]\n",
    "answer_SGD = test_target[['date']]\n",
    "answer_SGD['pet']=rubber_price_SGD\n",
    "answer_SGD.round({'pet': 0}).to_csv('predictedPETPriceSGD.csv', sep=',', header=True, index=False)\n",
    "\n",
    "!cat predictedPETPriceSGD.csv\n",
    "#!more predictedPETPriceSGD.csv"
   ]
  },
  {
   "cell_type": "code",
   "execution_count": 374,
   "metadata": {
    "scrolled": false
   },
   "outputs": [
    {
     "data": {
      "image/png": "[encoded data removed]",
      "text/plain": [
       "<Figure size 720x720 with 1 Axes>"
      ]
     },
     "metadata": {
      "needs_background": "light"
     },
     "output_type": "display_data"
    }
   ],
   "source": [
    "plt.rcParams[\"figure.figsize\"] = (10,10)\n",
    "\n",
    "pd.merge(train_target, answer_SGD,  how='outer').plot('date', 'pet')\n",
    "\n",
    "# Rotate and align xtick labels\n",
    "#ax.get_figure().autofmt_xdate()\n",
    "\n",
    "# make room for tick labels\n",
    "plt.tight_layout()\n",
    "plt.axvspan(160, 184, facecolor='#2ca02c', alpha=0.5)\n",
    "\n",
    "plt.show()\n"
   ]
  },
  {
   "cell_type": "code",
   "execution_count": 375,
   "metadata": {
    "scrolled": false
   },
   "outputs": [
    {
     "name": "stdout",
     "output_type": "stream",
     "text": [
      "date,pet\r\n",
      "2016-01-01,943.0\r\n",
      "2016-02-01,914.0\r\n",
      "2016-03-01,946.0\r\n",
      "2016-04-01,1055.0\r\n",
      "2016-05-01,1060.0\r\n",
      "2016-06-01,978.0\r\n",
      "2016-07-01,987.0\r\n",
      "2016-08-01,987.0\r\n",
      "2016-09-01,980.0\r\n",
      "2016-10-01,1072.0\r\n",
      "2016-11-01,1069.0\r\n",
      "2016-12-01,1072.0\r\n",
      "2017-01-01,1100.0\r\n",
      "2017-02-01,1216.0\r\n",
      "2017-03-01,1146.0\r\n",
      "2017-04-01,1071.0\r\n",
      "2017-05-01,1074.0\r\n",
      "2017-06-01,1081.0\r\n",
      "2017-07-01,1080.0\r\n",
      "2017-08-01,1110.0\r\n",
      "2017-09-01,1120.0\r\n",
      "2017-10-01,1154.0\r\n",
      "2017-11-01,1157.0\r\n",
      "2017-12-01,1171.0\r\n",
      "2018-01-01,1163.0\r\n",
      "2018-02-01,1240.0\r\n",
      "2018-03-01,1239.0\r\n",
      "2018-04-01,1225.0\r\n",
      "2018-05-01,1213.0\r\n",
      "2018-06-01,1312.0\r\n",
      "2018-07-01,1222.0\r\n",
      "2018-08-01,1242.0\r\n",
      "2018-09-01,1307.0\r\n",
      "2018-10-01,1354.0\r\n",
      "2018-11-01,1317.0\r\n",
      "2018-12-01,1101.0\r\n",
      "2019-01-01,1128.0\r\n",
      "2019-02-01,1051.0\r\n",
      "2019-03-01,1083.0\r\n",
      "2019-04-01,1163.0\r\n",
      "2019-05-01,1035.0\r\n",
      "2019-06-01,985.0\r\n",
      "2019-07-01,987.0\r\n"
     ]
    }
   ],
   "source": [
    "answer_GB = pd.DataFrame()\n",
    "rubber_price_GB = [pred_list_GB[i][0] for i in range(0, len(pred_list_GB))]\n",
    "answer_GB = test_target[['date']]\n",
    "answer_GB['pet']=rubber_price_GB\n",
    "answer_GB.round({'pet': 0}).to_csv('predictedPETPriceGB.csv', sep=',', header=True, index=False)\n",
    "\n",
    "!cat predictedPETPriceGB.csv\n",
    "#!more predictedPETPriceGB.csv"
   ]
  },
  {
   "cell_type": "code",
   "execution_count": 376,
   "metadata": {},
   "outputs": [
    {
     "data": {
      "image/png": "[encoded data removed]",
      "text/plain": [
       "<Figure size 720x720 with 1 Axes>"
      ]
     },
     "metadata": {
      "needs_background": "light"
     },
     "output_type": "display_data"
    }
   ],
   "source": [
    "plt.rcParams[\"figure.figsize\"] = (10,10)\n",
    "\n",
    "pd.merge(train_target, answer_GB,  how='outer').plot('date', 'pet')\n",
    "\n",
    "# Rotate and align xtick labels\n",
    "#ax.get_figure().autofmt_xdate()\n",
    "\n",
    "# make room for tick labels\n",
    "plt.tight_layout()\n",
    "plt.axvspan(160, 184, facecolor='#2ca02c', alpha=0.5)\n",
    "\n",
    "plt.show()\n"
   ]
  },
  {
   "cell_type": "markdown",
   "metadata": {},
   "source": [
    "### За финальный результат принимаем данные predictedPETPriceSGD.csv\n"
   ]
  },
  {
   "cell_type": "code",
   "execution_count": null,
   "metadata": {},
   "outputs": [],
   "source": []
  },
  {
   "cell_type": "code",
   "execution_count": null,
   "metadata": {},
   "outputs": [],
   "source": []
  }
 ],
 "metadata": {
  "kernelspec": {
   "display_name": "Python 3",
   "language": "python",
   "name": "python3"
  },
  "language_info": {
   "codemirror_mode": {
    "name": "ipython",
    "version": 3
   },
   "file_extension": ".py",
   "mimetype": "text/x-python",
   "name": "python",
   "nbconvert_exporter": "python",
   "pygments_lexer": "ipython3",
   "version": "3.7.4"
  }
 },
 "nbformat": 4,
 "nbformat_minor": 2
}
